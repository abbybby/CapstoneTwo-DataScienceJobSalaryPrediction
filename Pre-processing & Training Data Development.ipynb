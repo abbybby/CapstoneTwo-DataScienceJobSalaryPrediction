{
 "cells": [
  {
   "cell_type": "markdown",
   "metadata": {},
   "source": [
    "## Main Goals: \n",
    "Create a cleaned development dataset that can be used to complete the modeling step of this project\n",
    "- Create dummy or indicator features for categorical variables  \n",
    "- Standardize the magnitude of numeric features using a scaler  \n",
    "- Split into testing and training datasets"
   ]
  },
  {
   "cell_type": "markdown",
   "metadata": {},
   "source": [
    "## 1. Imports packages and load the data"
   ]
  },
  {
   "cell_type": "code",
   "execution_count": 1,
   "metadata": {},
   "outputs": [],
   "source": [
    "import pandas as pd\n",
    "import numpy as np\n",
    "import os\n",
    "import matplotlib.pyplot as plt\n",
    "import seaborn as sns\n",
    "from sklearn.preprocessing import scale\n",
    "from sklearn.model_selection import train_test_split, cross_validate, GridSearchCV, learning_curve\n",
    "from sklearn.preprocessing import StandardScaler, MinMaxScaler, OneHotEncoder\n",
    "from sklearn.dummy import DummyRegressor\n",
    "from sklearn.linear_model import LinearRegression\n",
    "from sklearn.metrics import r2_score, mean_squared_error, mean_absolute_error\n",
    "from sklearn.pipeline import make_pipeline\n",
    "from sklearn.impute import SimpleImputer\n",
    "from sklearn.compose import ColumnTransformer, make_column_transformer"
   ]
  },
  {
   "cell_type": "code",
   "execution_count": 2,
   "metadata": {},
   "outputs": [],
   "source": [
    "jobs = pd.read_csv('data/jobs_data_step3_features.csv')"
   ]
  },
  {
   "cell_type": "code",
   "execution_count": 3,
   "metadata": {},
   "outputs": [
    {
     "name": "stdout",
     "output_type": "stream",
     "text": [
      "<class 'pandas.core.frame.DataFrame'>\n",
      "RangeIndex: 2088 entries, 0 to 2087\n",
      "Data columns (total 17 columns):\n",
      " #   Column             Non-Null Count  Dtype  \n",
      "---  ------             --------------  -----  \n",
      " 0   Rating             1980 non-null   float64\n",
      " 1   Location           2088 non-null   object \n",
      " 2   Size               2047 non-null   object \n",
      " 3   Type of ownership  2073 non-null   object \n",
      " 4   Sector             1899 non-null   object \n",
      " 5   Revenue            1474 non-null   object \n",
      " 6   Years Founded      1592 non-null   float64\n",
      " 7   Min_Salary         2088 non-null   int64  \n",
      " 8   Max_Salary         2088 non-null   int64  \n",
      " 9   Seniority          2088 non-null   object \n",
      " 10  HQ_Same            2088 non-null   int64  \n",
      " 11  SQL                2088 non-null   int64  \n",
      " 12  Excel              2088 non-null   int64  \n",
      " 13  Python             2088 non-null   int64  \n",
      " 14  Tableau            2088 non-null   int64  \n",
      " 15  R                  2088 non-null   int64  \n",
      " 16  SAS                2088 non-null   int64  \n",
      "dtypes: float64(2), int64(9), object(6)\n",
      "memory usage: 277.4+ KB\n",
      "None\n",
      "There are 2088 observations and 17 features in this dataset.\n"
     ]
    }
   ],
   "source": [
    "print(jobs.info())\n",
    "print('There are {} observations and {} features in this dataset.'.format(jobs.shape[0],jobs.shape[1]))"
   ]
  },
  {
   "cell_type": "code",
   "execution_count": 4,
   "metadata": {},
   "outputs": [
    {
     "data": {
      "text/html": [
       "<div>\n",
       "<style scoped>\n",
       "    .dataframe tbody tr th:only-of-type {\n",
       "        vertical-align: middle;\n",
       "    }\n",
       "\n",
       "    .dataframe tbody tr th {\n",
       "        vertical-align: top;\n",
       "    }\n",
       "\n",
       "    .dataframe thead th {\n",
       "        text-align: right;\n",
       "    }\n",
       "</style>\n",
       "<table border=\"1\" class=\"dataframe\">\n",
       "  <thead>\n",
       "    <tr style=\"text-align: right;\">\n",
       "      <th></th>\n",
       "      <th>Rating</th>\n",
       "      <th>Location</th>\n",
       "      <th>Size</th>\n",
       "      <th>Type of ownership</th>\n",
       "      <th>Sector</th>\n",
       "      <th>Revenue</th>\n",
       "      <th>Years Founded</th>\n",
       "      <th>Min_Salary</th>\n",
       "      <th>Max_Salary</th>\n",
       "      <th>Seniority</th>\n",
       "      <th>HQ_Same</th>\n",
       "      <th>SQL</th>\n",
       "      <th>Excel</th>\n",
       "      <th>Python</th>\n",
       "      <th>Tableau</th>\n",
       "      <th>R</th>\n",
       "      <th>SAS</th>\n",
       "    </tr>\n",
       "  </thead>\n",
       "  <tbody>\n",
       "    <tr>\n",
       "      <th>0</th>\n",
       "      <td>3.2</td>\n",
       "      <td>NY</td>\n",
       "      <td>201 to 500 employees</td>\n",
       "      <td>Nonprofit Organization</td>\n",
       "      <td>Non-Profit</td>\n",
       "      <td>$100 to $500 million (USD)</td>\n",
       "      <td>59.0</td>\n",
       "      <td>37</td>\n",
       "      <td>66</td>\n",
       "      <td>Not specified</td>\n",
       "      <td>1</td>\n",
       "      <td>1</td>\n",
       "      <td>0</td>\n",
       "      <td>1</td>\n",
       "      <td>0</td>\n",
       "      <td>1</td>\n",
       "      <td>0</td>\n",
       "    </tr>\n",
       "    <tr>\n",
       "      <th>1</th>\n",
       "      <td>3.8</td>\n",
       "      <td>NY</td>\n",
       "      <td>10000+ employees</td>\n",
       "      <td>Nonprofit Organization</td>\n",
       "      <td>Health Care</td>\n",
       "      <td>$2 to $5 billion (USD)</td>\n",
       "      <td>127.0</td>\n",
       "      <td>37</td>\n",
       "      <td>66</td>\n",
       "      <td>Not specified</td>\n",
       "      <td>1</td>\n",
       "      <td>1</td>\n",
       "      <td>1</td>\n",
       "      <td>0</td>\n",
       "      <td>0</td>\n",
       "      <td>1</td>\n",
       "      <td>1</td>\n",
       "    </tr>\n",
       "    <tr>\n",
       "      <th>2</th>\n",
       "      <td>3.4</td>\n",
       "      <td>NY</td>\n",
       "      <td>1001 to 5000 employees</td>\n",
       "      <td>Company - Private</td>\n",
       "      <td>Information Technology</td>\n",
       "      <td>NaN</td>\n",
       "      <td>17.0</td>\n",
       "      <td>37</td>\n",
       "      <td>66</td>\n",
       "      <td>Senior</td>\n",
       "      <td>1</td>\n",
       "      <td>1</td>\n",
       "      <td>1</td>\n",
       "      <td>0</td>\n",
       "      <td>1</td>\n",
       "      <td>0</td>\n",
       "      <td>0</td>\n",
       "    </tr>\n",
       "    <tr>\n",
       "      <th>3</th>\n",
       "      <td>4.1</td>\n",
       "      <td>NY</td>\n",
       "      <td>201 to 500 employees</td>\n",
       "      <td>Subsidiary or Business Segment</td>\n",
       "      <td>Information Technology</td>\n",
       "      <td>$50 to $100 million (USD)</td>\n",
       "      <td>18.0</td>\n",
       "      <td>37</td>\n",
       "      <td>66</td>\n",
       "      <td>Not specified</td>\n",
       "      <td>0</td>\n",
       "      <td>1</td>\n",
       "      <td>0</td>\n",
       "      <td>0</td>\n",
       "      <td>1</td>\n",
       "      <td>0</td>\n",
       "      <td>0</td>\n",
       "    </tr>\n",
       "    <tr>\n",
       "      <th>4</th>\n",
       "      <td>3.9</td>\n",
       "      <td>NY</td>\n",
       "      <td>501 to 1000 employees</td>\n",
       "      <td>Company - Private</td>\n",
       "      <td>Arts, Entertainment &amp; Recreation</td>\n",
       "      <td>$100 to $500 million (USD)</td>\n",
       "      <td>11.0</td>\n",
       "      <td>37</td>\n",
       "      <td>66</td>\n",
       "      <td>Not specified</td>\n",
       "      <td>1</td>\n",
       "      <td>1</td>\n",
       "      <td>1</td>\n",
       "      <td>1</td>\n",
       "      <td>0</td>\n",
       "      <td>0</td>\n",
       "      <td>0</td>\n",
       "    </tr>\n",
       "  </tbody>\n",
       "</table>\n",
       "</div>"
      ],
      "text/plain": [
       "   Rating Location                    Size               Type of ownership  \\\n",
       "0     3.2       NY    201 to 500 employees          Nonprofit Organization   \n",
       "1     3.8       NY        10000+ employees          Nonprofit Organization   \n",
       "2     3.4       NY  1001 to 5000 employees               Company - Private   \n",
       "3     4.1       NY    201 to 500 employees  Subsidiary or Business Segment   \n",
       "4     3.9       NY   501 to 1000 employees               Company - Private   \n",
       "\n",
       "                             Sector                     Revenue  \\\n",
       "0                        Non-Profit  $100 to $500 million (USD)   \n",
       "1                       Health Care      $2 to $5 billion (USD)   \n",
       "2            Information Technology                         NaN   \n",
       "3            Information Technology   $50 to $100 million (USD)   \n",
       "4  Arts, Entertainment & Recreation  $100 to $500 million (USD)   \n",
       "\n",
       "   Years Founded  Min_Salary  Max_Salary      Seniority  HQ_Same  SQL  Excel  \\\n",
       "0           59.0          37          66  Not specified        1    1      0   \n",
       "1          127.0          37          66  Not specified        1    1      1   \n",
       "2           17.0          37          66         Senior        1    1      1   \n",
       "3           18.0          37          66  Not specified        0    1      0   \n",
       "4           11.0          37          66  Not specified        1    1      1   \n",
       "\n",
       "   Python  Tableau  R  SAS  \n",
       "0       1        0  1    0  \n",
       "1       0        0  1    1  \n",
       "2       0        1  0    0  \n",
       "3       0        1  0    0  \n",
       "4       1        0  0    0  "
      ]
     },
     "execution_count": 4,
     "metadata": {},
     "output_type": "execute_result"
    }
   ],
   "source": [
    "jobs.head()"
   ]
  },
  {
   "cell_type": "markdown",
   "metadata": {},
   "source": [
    "## 2.Train/Test Split"
   ]
  },
  {
   "cell_type": "code",
   "execution_count": 5,
   "metadata": {},
   "outputs": [],
   "source": [
    "# Split data to predict Min_Salary\n",
    "X_train, X_test, y_train1, y_test1 = train_test_split(jobs.drop(columns=['Min_Salary','Max_Salary']), \n",
    "                                                    jobs.Min_Salary, test_size=0.3, random_state=47)\n",
    "# Split data to predict Max_Salary\n",
    "X_train, X_test, y_train2, y_test2 = train_test_split(jobs.drop(columns=['Min_Salary','Max_Salary']), \n",
    "                                                    jobs.Max_Salary, test_size=0.3, random_state=47)"
   ]
  },
  {
   "cell_type": "code",
   "execution_count": 6,
   "metadata": {},
   "outputs": [
    {
     "data": {
      "text/plain": [
       "((1461, 15), (627, 15))"
      ]
     },
     "execution_count": 6,
     "metadata": {},
     "output_type": "execute_result"
    }
   ],
   "source": [
    "X_train.shape, X_test.shape"
   ]
  },
  {
   "cell_type": "markdown",
   "metadata": {},
   "source": [
    "## 3. Pipelines "
   ]
  },
  {
   "cell_type": "markdown",
   "metadata": {},
   "source": [
    "Create pipelines to： \n",
    "- impute missing numerical values using their median\n",
    "- scale the numerical data to zero mean and unit variance\n",
    "- impute missing categorical data using the most frequent values\n",
    "- train a linear regression model  \n",
    "Note: The EDA that we did earlier suggests a positive linear correlation between the features 'Size' and 'Years Founded'. Therefore, we will try using 'Size' to impute the missing values in the column of 'Years Founded' here."
   ]
  },
  {
   "cell_type": "code",
   "execution_count": 7,
   "metadata": {
    "scrolled": true
   },
   "outputs": [
    {
     "data": {
      "text/plain": [
       "Revenue              614\n",
       "Years Founded        496\n",
       "Sector               189\n",
       "Rating               108\n",
       "Size                  41\n",
       "Type of ownership     15\n",
       "Min_Salary             0\n",
       "Location               0\n",
       "SAS                    0\n",
       "R                      0\n",
       "Seniority              0\n",
       "HQ_Same                0\n",
       "SQL                    0\n",
       "Excel                  0\n",
       "Python                 0\n",
       "Tableau                0\n",
       "Max_Salary             0\n",
       "dtype: int64"
      ]
     },
     "execution_count": 7,
     "metadata": {},
     "output_type": "execute_result"
    }
   ],
   "source": [
    "# check the number of missing values for each column\n",
    "jobs.isnull().sum().sort_values(ascending=False)"
   ]
  },
  {
   "cell_type": "code",
   "execution_count": 8,
   "metadata": {},
   "outputs": [
    {
     "data": {
      "text/plain": [
       "Size\n",
       "1 to 50 employees          15.357143\n",
       "51 to 200 employees        16.078689\n",
       "201 to 500 employees       24.837321\n",
       "501 to 1000 employees      26.572917\n",
       "1001 to 5000 employees     36.654088\n",
       "5001 to 10000 employees    50.321839\n",
       "10000+ employees           90.179837\n",
       "Name: Years Founded, dtype: float64"
      ]
     },
     "execution_count": 8,
     "metadata": {},
     "output_type": "execute_result"
    }
   ],
   "source": [
    "# group jobs data by size and compare Years Founded\n",
    "years_bySize = jobs.groupby('Size')['Years Founded'].mean()\n",
    "years_bySize.sort_values(ascending=True)"
   ]
  },
  {
   "cell_type": "markdown",
   "metadata": {},
   "source": [
    "It seems obvious that the larger the company, the longest history it has."
   ]
  },
  {
   "cell_type": "code",
   "execution_count": 9,
   "metadata": {},
   "outputs": [
    {
     "data": {
      "text/html": [
       "<div>\n",
       "<style scoped>\n",
       "    .dataframe tbody tr th:only-of-type {\n",
       "        vertical-align: middle;\n",
       "    }\n",
       "\n",
       "    .dataframe tbody tr th {\n",
       "        vertical-align: top;\n",
       "    }\n",
       "\n",
       "    .dataframe thead th {\n",
       "        text-align: right;\n",
       "    }\n",
       "</style>\n",
       "<table border=\"1\" class=\"dataframe\">\n",
       "  <thead>\n",
       "    <tr style=\"text-align: right;\">\n",
       "      <th></th>\n",
       "      <th>Rating</th>\n",
       "      <th>Location</th>\n",
       "      <th>Size</th>\n",
       "      <th>Type of ownership</th>\n",
       "      <th>Sector</th>\n",
       "      <th>Revenue</th>\n",
       "      <th>Years Founded</th>\n",
       "      <th>Min_Salary</th>\n",
       "      <th>Max_Salary</th>\n",
       "      <th>Seniority</th>\n",
       "      <th>HQ_Same</th>\n",
       "      <th>SQL</th>\n",
       "      <th>Excel</th>\n",
       "      <th>Python</th>\n",
       "      <th>Tableau</th>\n",
       "      <th>R</th>\n",
       "      <th>SAS</th>\n",
       "    </tr>\n",
       "  </thead>\n",
       "  <tbody>\n",
       "    <tr>\n",
       "      <th>21</th>\n",
       "      <td>NaN</td>\n",
       "      <td>NY</td>\n",
       "      <td>NaN</td>\n",
       "      <td>Company - Public</td>\n",
       "      <td>NaN</td>\n",
       "      <td>NaN</td>\n",
       "      <td>NaN</td>\n",
       "      <td>37</td>\n",
       "      <td>66</td>\n",
       "      <td>Not specified</td>\n",
       "      <td>0</td>\n",
       "      <td>1</td>\n",
       "      <td>0</td>\n",
       "      <td>1</td>\n",
       "      <td>1</td>\n",
       "      <td>1</td>\n",
       "      <td>0</td>\n",
       "    </tr>\n",
       "    <tr>\n",
       "      <th>82</th>\n",
       "      <td>NaN</td>\n",
       "      <td>NY</td>\n",
       "      <td>NaN</td>\n",
       "      <td>Company - Private</td>\n",
       "      <td>NaN</td>\n",
       "      <td>NaN</td>\n",
       "      <td>NaN</td>\n",
       "      <td>51</td>\n",
       "      <td>88</td>\n",
       "      <td>Not specified</td>\n",
       "      <td>0</td>\n",
       "      <td>1</td>\n",
       "      <td>0</td>\n",
       "      <td>0</td>\n",
       "      <td>1</td>\n",
       "      <td>0</td>\n",
       "      <td>0</td>\n",
       "    </tr>\n",
       "    <tr>\n",
       "      <th>143</th>\n",
       "      <td>3.4</td>\n",
       "      <td>NY</td>\n",
       "      <td>NaN</td>\n",
       "      <td>Company - Private</td>\n",
       "      <td>NaN</td>\n",
       "      <td>NaN</td>\n",
       "      <td>NaN</td>\n",
       "      <td>59</td>\n",
       "      <td>85</td>\n",
       "      <td>Not specified</td>\n",
       "      <td>0</td>\n",
       "      <td>0</td>\n",
       "      <td>0</td>\n",
       "      <td>0</td>\n",
       "      <td>0</td>\n",
       "      <td>0</td>\n",
       "      <td>0</td>\n",
       "    </tr>\n",
       "    <tr>\n",
       "      <th>170</th>\n",
       "      <td>NaN</td>\n",
       "      <td>NY</td>\n",
       "      <td>NaN</td>\n",
       "      <td>Company - Private</td>\n",
       "      <td>NaN</td>\n",
       "      <td>NaN</td>\n",
       "      <td>NaN</td>\n",
       "      <td>43</td>\n",
       "      <td>76</td>\n",
       "      <td>Not specified</td>\n",
       "      <td>1</td>\n",
       "      <td>1</td>\n",
       "      <td>1</td>\n",
       "      <td>0</td>\n",
       "      <td>1</td>\n",
       "      <td>0</td>\n",
       "      <td>0</td>\n",
       "    </tr>\n",
       "    <tr>\n",
       "      <th>257</th>\n",
       "      <td>3.0</td>\n",
       "      <td>NJ</td>\n",
       "      <td>NaN</td>\n",
       "      <td>Company - Public</td>\n",
       "      <td>NaN</td>\n",
       "      <td>NaN</td>\n",
       "      <td>NaN</td>\n",
       "      <td>84</td>\n",
       "      <td>90</td>\n",
       "      <td>Not specified</td>\n",
       "      <td>0</td>\n",
       "      <td>1</td>\n",
       "      <td>0</td>\n",
       "      <td>0</td>\n",
       "      <td>0</td>\n",
       "      <td>0</td>\n",
       "      <td>0</td>\n",
       "    </tr>\n",
       "  </tbody>\n",
       "</table>\n",
       "</div>"
      ],
      "text/plain": [
       "     Rating Location Size  Type of ownership Sector Revenue  Years Founded  \\\n",
       "21      NaN       NY  NaN   Company - Public    NaN     NaN            NaN   \n",
       "82      NaN       NY  NaN  Company - Private    NaN     NaN            NaN   \n",
       "143     3.4       NY  NaN  Company - Private    NaN     NaN            NaN   \n",
       "170     NaN       NY  NaN  Company - Private    NaN     NaN            NaN   \n",
       "257     3.0       NJ  NaN   Company - Public    NaN     NaN            NaN   \n",
       "\n",
       "     Min_Salary  Max_Salary      Seniority  HQ_Same  SQL  Excel  Python  \\\n",
       "21           37          66  Not specified        0    1      0       1   \n",
       "82           51          88  Not specified        0    1      0       0   \n",
       "143          59          85  Not specified        0    0      0       0   \n",
       "170          43          76  Not specified        1    1      1       0   \n",
       "257          84          90  Not specified        0    1      0       0   \n",
       "\n",
       "     Tableau  R  SAS  \n",
       "21         1  1    0  \n",
       "82         1  0    0  \n",
       "143        0  0    0  \n",
       "170        1  0    0  \n",
       "257        0  0    0  "
      ]
     },
     "execution_count": 9,
     "metadata": {},
     "output_type": "execute_result"
    }
   ],
   "source": [
    "# check the rows with missing value in the column 'Size'\n",
    "jobs.loc[jobs.Size.isnull()==True].head()"
   ]
  },
  {
   "cell_type": "markdown",
   "metadata": {},
   "source": [
    "It shows that when the info about size of an observation is missing, they usually don't have infomation about sector, revenue, and years founded as well. There are 41 rows with missing Size, which is a small amount compared to 2088, the total number of rows. Threrfore, I decide to drop these 41 rows."
   ]
  },
  {
   "cell_type": "code",
   "execution_count": 10,
   "metadata": {},
   "outputs": [
    {
     "data": {
      "text/plain": [
       "15.357143     235\n",
       "16.078689     115\n",
       "12.000000      80\n",
       "20.000000      54\n",
       "24.000000      54\n",
       "             ... \n",
       "202.000000      1\n",
       "102.000000      1\n",
       "170.000000      1\n",
       "89.000000       1\n",
       "112.000000      1\n",
       "Name: Years Founded, Length: 166, dtype: int64"
      ]
     },
     "execution_count": 10,
     "metadata": {},
     "output_type": "execute_result"
    }
   ],
   "source": [
    "# Drop the rows with missing size info\n",
    "# Impute Years_Founded using Size\n",
    "\n",
    "jobs.dropna(subset=['Size'],axis=0,inplace=True)\n",
    "jobs['Years Founded']=jobs.groupby(\"Size\")['Years Founded'].transform(lambda x: x.fillna(x.mean()))\n",
    "jobs['Years Founded'].value_counts()"
   ]
  },
  {
   "cell_type": "code",
   "execution_count": 11,
   "metadata": {},
   "outputs": [
    {
     "data": {
      "text/plain": [
       "Revenue              576\n",
       "Sector               156\n",
       "Rating                87\n",
       "Type of ownership     10\n",
       "Min_Salary             0\n",
       "Location               0\n",
       "Size                   0\n",
       "Years Founded          0\n",
       "SAS                    0\n",
       "R                      0\n",
       "Seniority              0\n",
       "HQ_Same                0\n",
       "SQL                    0\n",
       "Excel                  0\n",
       "Python                 0\n",
       "Tableau                0\n",
       "Max_Salary             0\n",
       "dtype: int64"
      ]
     },
     "execution_count": 11,
     "metadata": {},
     "output_type": "execute_result"
    }
   ],
   "source": [
    "jobs.isnull().sum().sort_values(ascending=False)"
   ]
  },
  {
   "cell_type": "markdown",
   "metadata": {},
   "source": [
    "Since 'Size' and 'Years Founded' are colinear, we will drop the feature 'Size' after using it to impute the 'Years Founded' column."
   ]
  },
  {
   "cell_type": "code",
   "execution_count": 12,
   "metadata": {},
   "outputs": [],
   "source": [
    "# drop the feature 'Size'\n",
    "jobs.drop('Size',axis=1,inplace=True)"
   ]
  },
  {
   "cell_type": "markdown",
   "metadata": {},
   "source": [
    "#### Impute numeric missing values with median & Impute categorical data with most frequent values\n"
   ]
  },
  {
   "cell_type": "code",
   "execution_count": 13,
   "metadata": {},
   "outputs": [
    {
     "data": {
      "text/plain": [
       "Index(['Rating', 'Location', 'Type of ownership', 'Sector', 'Revenue',\n",
       "       'Years Founded', 'Min_Salary', 'Max_Salary', 'Seniority', 'HQ_Same',\n",
       "       'SQL', 'Excel', 'Python', 'Tableau', 'R', 'SAS'],\n",
       "      dtype='object')"
      ]
     },
     "execution_count": 13,
     "metadata": {},
     "output_type": "execute_result"
    }
   ],
   "source": [
    "jobs.columns"
   ]
  },
  {
   "cell_type": "code",
   "execution_count": 30,
   "metadata": {},
   "outputs": [],
   "source": [
    "categorical_features = ['HQ_Same', 'SQL', 'Excel','Python','Tableau','R','SAS',\n",
    "                 'Location','Type of ownership','Sector','Revenue','Seniority']\n",
    "numerical_features = ['Rating', 'Years Founded']\n",
    "preprocess = make_column_transformer(\n",
    "    ( make_pipeline(SimpleImputer(strategy='median'), StandardScaler()),numerical_features),\n",
    "    ( make_pipeline(SimpleImputer(strategy=\"most_frequent\"),OneHotEncoder()),categorical_features)\n",
    ")"
   ]
  },
  {
   "cell_type": "code",
   "execution_count": 31,
   "metadata": {},
   "outputs": [],
   "source": [
    "pipe = make_pipeline(\n",
    "    preprocess,\n",
    "    LinearRegression()\n",
    ")"
   ]
  },
  {
   "cell_type": "code",
   "execution_count": 32,
   "metadata": {},
   "outputs": [
    {
     "data": {
      "text/plain": [
       "Pipeline(steps=[('columntransformer',\n",
       "                 ColumnTransformer(transformers=[('pipeline-1',\n",
       "                                                  Pipeline(steps=[('simpleimputer',\n",
       "                                                                   SimpleImputer(strategy='median')),\n",
       "                                                                  ('standardscaler',\n",
       "                                                                   StandardScaler())]),\n",
       "                                                  ['Rating', 'Years Founded']),\n",
       "                                                 ('pipeline-2',\n",
       "                                                  Pipeline(steps=[('simpleimputer',\n",
       "                                                                   SimpleImputer(strategy='most_frequent')),\n",
       "                                                                  ('onehotencoder',\n",
       "                                                                   OneHotEncoder())]),\n",
       "                                                  ['HQ_Same', 'SQL', 'Excel',\n",
       "                                                   'Python', 'Tableau', 'R',\n",
       "                                                   'SAS', 'Location',\n",
       "                                                   'Type of ownership',\n",
       "                                                   'Sector', 'Revenue',\n",
       "                                                   'Seniority'])])),\n",
       "                ('linearregression', LinearRegression())])"
      ]
     },
     "execution_count": 32,
     "metadata": {},
     "output_type": "execute_result"
    }
   ],
   "source": [
    "pipe.fit(X_train, y_train1)"
   ]
  },
  {
   "cell_type": "code",
   "execution_count": 17,
   "metadata": {},
   "outputs": [],
   "source": [
    "# df=make_pipeline(preprocess).fit_transform(X_train)"
   ]
  },
  {
   "cell_type": "code",
   "execution_count": 33,
   "metadata": {},
   "outputs": [],
   "source": [
    "y_tr_pred1 = pipe.predict(X_train)\n",
    "y_te_pred1 = pipe.predict(X_test)"
   ]
  },
  {
   "cell_type": "markdown",
   "metadata": {},
   "source": [
    "#### Assess performance on the train and test set"
   ]
  },
  {
   "cell_type": "markdown",
   "metadata": {},
   "source": [
    "##### model performance on predicting minimum salary "
   ]
  },
  {
   "cell_type": "code",
   "execution_count": 34,
   "metadata": {},
   "outputs": [
    {
     "data": {
      "text/plain": [
       "(0.33087668996705977, 0.26915481972632405)"
      ]
     },
     "execution_count": 34,
     "metadata": {},
     "output_type": "execute_result"
    }
   ],
   "source": [
    "r2_score(y_train1, y_tr_pred1), r2_score(y_test1, y_te_pred1)"
   ]
  },
  {
   "cell_type": "code",
   "execution_count": 35,
   "metadata": {},
   "outputs": [
    {
     "data": {
      "text/plain": [
       "(12.065175418083749, 11.764316238434038)"
      ]
     },
     "execution_count": 35,
     "metadata": {},
     "output_type": "execute_result"
    }
   ],
   "source": [
    "mean_absolute_error(y_train1, y_tr_pred1), mean_absolute_error(y_test1, y_te_pred1)"
   ]
  },
  {
   "cell_type": "code",
   "execution_count": 36,
   "metadata": {},
   "outputs": [
    {
     "data": {
      "text/plain": [
       "(260.68022424380956, 265.90631307601086)"
      ]
     },
     "execution_count": 36,
     "metadata": {},
     "output_type": "execute_result"
    }
   ],
   "source": [
    "mean_squared_error(y_train1, y_tr_pred1), mean_squared_error(y_test1, y_te_pred1)"
   ]
  },
  {
   "cell_type": "markdown",
   "metadata": {},
   "source": [
    "##### model performance on predicting maximum salary "
   ]
  },
  {
   "cell_type": "code",
   "execution_count": 22,
   "metadata": {},
   "outputs": [],
   "source": [
    "pipe.fit(X_train, y_train2)\n",
    "y_tr_pred2 = pipe.predict(X_train)\n",
    "y_te_pred2 = pipe.predict(X_test)"
   ]
  },
  {
   "cell_type": "code",
   "execution_count": 23,
   "metadata": {},
   "outputs": [
    {
     "data": {
      "text/plain": [
       "(0.32095436902157204, 0.24052848110962965)"
      ]
     },
     "execution_count": 23,
     "metadata": {},
     "output_type": "execute_result"
    }
   ],
   "source": [
    "r2_score(y_train2, y_tr_pred2), r2_score(y_test2, y_te_pred2)"
   ]
  },
  {
   "cell_type": "code",
   "execution_count": 24,
   "metadata": {},
   "outputs": [
    {
     "data": {
      "text/plain": [
       "(18.636029980477005, 18.34578318828411)"
      ]
     },
     "execution_count": 24,
     "metadata": {},
     "output_type": "execute_result"
    }
   ],
   "source": [
    "mean_absolute_error(y_train2, y_tr_pred2), mean_absolute_error(y_test2, y_te_pred2)"
   ]
  },
  {
   "cell_type": "code",
   "execution_count": 25,
   "metadata": {},
   "outputs": [
    {
     "data": {
      "text/plain": [
       "(603.0178424650255, 615.0369200969942)"
      ]
     },
     "execution_count": 25,
     "metadata": {},
     "output_type": "execute_result"
    }
   ],
   "source": [
    "mean_squared_error(y_train2, y_tr_pred2), mean_squared_error(y_test2, y_te_pred2)"
   ]
  },
  {
   "cell_type": "code",
   "execution_count": 26,
   "metadata": {},
   "outputs": [
    {
     "data": {
      "text/html": [
       "<div>\n",
       "<style scoped>\n",
       "    .dataframe tbody tr th:only-of-type {\n",
       "        vertical-align: middle;\n",
       "    }\n",
       "\n",
       "    .dataframe tbody tr th {\n",
       "        vertical-align: top;\n",
       "    }\n",
       "\n",
       "    .dataframe thead th {\n",
       "        text-align: right;\n",
       "    }\n",
       "</style>\n",
       "<table border=\"1\" class=\"dataframe\">\n",
       "  <thead>\n",
       "    <tr style=\"text-align: right;\">\n",
       "      <th></th>\n",
       "      <th>Rating</th>\n",
       "      <th>Location</th>\n",
       "      <th>Type of ownership</th>\n",
       "      <th>Sector</th>\n",
       "      <th>Revenue</th>\n",
       "      <th>Years Founded</th>\n",
       "      <th>Min_Salary</th>\n",
       "      <th>Max_Salary</th>\n",
       "      <th>Seniority</th>\n",
       "      <th>HQ_Same</th>\n",
       "      <th>SQL</th>\n",
       "      <th>Excel</th>\n",
       "      <th>Python</th>\n",
       "      <th>Tableau</th>\n",
       "      <th>R</th>\n",
       "      <th>SAS</th>\n",
       "    </tr>\n",
       "  </thead>\n",
       "  <tbody>\n",
       "    <tr>\n",
       "      <th>653</th>\n",
       "      <td>3.7</td>\n",
       "      <td>CA</td>\n",
       "      <td>Subsidiary or Business Segment</td>\n",
       "      <td>Media</td>\n",
       "      <td>$10+ billion (USD)</td>\n",
       "      <td>17.000000</td>\n",
       "      <td>113</td>\n",
       "      <td>132</td>\n",
       "      <td>Not specified</td>\n",
       "      <td>0</td>\n",
       "      <td>1</td>\n",
       "      <td>1</td>\n",
       "      <td>0</td>\n",
       "      <td>0</td>\n",
       "      <td>0</td>\n",
       "      <td>0</td>\n",
       "    </tr>\n",
       "    <tr>\n",
       "      <th>642</th>\n",
       "      <td>3.2</td>\n",
       "      <td>CA</td>\n",
       "      <td>Nonprofit Organization</td>\n",
       "      <td>Insurance</td>\n",
       "      <td>$2 to $5 billion (USD)</td>\n",
       "      <td>43.000000</td>\n",
       "      <td>113</td>\n",
       "      <td>132</td>\n",
       "      <td>Not specified</td>\n",
       "      <td>1</td>\n",
       "      <td>1</td>\n",
       "      <td>1</td>\n",
       "      <td>0</td>\n",
       "      <td>0</td>\n",
       "      <td>0</td>\n",
       "      <td>1</td>\n",
       "    </tr>\n",
       "    <tr>\n",
       "      <th>1366</th>\n",
       "      <td>3.4</td>\n",
       "      <td>CA</td>\n",
       "      <td>Company - Public</td>\n",
       "      <td>Manufacturing</td>\n",
       "      <td>$2 to $5 billion (USD)</td>\n",
       "      <td>17.000000</td>\n",
       "      <td>110</td>\n",
       "      <td>190</td>\n",
       "      <td>Not specified</td>\n",
       "      <td>1</td>\n",
       "      <td>1</td>\n",
       "      <td>0</td>\n",
       "      <td>0</td>\n",
       "      <td>1</td>\n",
       "      <td>0</td>\n",
       "      <td>0</td>\n",
       "    </tr>\n",
       "    <tr>\n",
       "      <th>635</th>\n",
       "      <td>5.0</td>\n",
       "      <td>CA</td>\n",
       "      <td>Company - Private</td>\n",
       "      <td>NaN</td>\n",
       "      <td>NaN</td>\n",
       "      <td>16.078689</td>\n",
       "      <td>113</td>\n",
       "      <td>132</td>\n",
       "      <td>Not specified</td>\n",
       "      <td>0</td>\n",
       "      <td>0</td>\n",
       "      <td>0</td>\n",
       "      <td>0</td>\n",
       "      <td>0</td>\n",
       "      <td>0</td>\n",
       "      <td>0</td>\n",
       "    </tr>\n",
       "    <tr>\n",
       "      <th>658</th>\n",
       "      <td>3.8</td>\n",
       "      <td>CA</td>\n",
       "      <td>Company - Private</td>\n",
       "      <td>Information Technology</td>\n",
       "      <td>NaN</td>\n",
       "      <td>4.000000</td>\n",
       "      <td>113</td>\n",
       "      <td>132</td>\n",
       "      <td>Senior</td>\n",
       "      <td>1</td>\n",
       "      <td>1</td>\n",
       "      <td>0</td>\n",
       "      <td>1</td>\n",
       "      <td>0</td>\n",
       "      <td>1</td>\n",
       "      <td>0</td>\n",
       "    </tr>\n",
       "    <tr>\n",
       "      <th>1374</th>\n",
       "      <td>5.0</td>\n",
       "      <td>CA</td>\n",
       "      <td>Company - Private</td>\n",
       "      <td>Information Technology</td>\n",
       "      <td>NaN</td>\n",
       "      <td>4.000000</td>\n",
       "      <td>110</td>\n",
       "      <td>190</td>\n",
       "      <td>Not specified</td>\n",
       "      <td>1</td>\n",
       "      <td>1</td>\n",
       "      <td>0</td>\n",
       "      <td>1</td>\n",
       "      <td>1</td>\n",
       "      <td>0</td>\n",
       "      <td>0</td>\n",
       "    </tr>\n",
       "    <tr>\n",
       "      <th>1376</th>\n",
       "      <td>4.4</td>\n",
       "      <td>CA</td>\n",
       "      <td>Company - Private</td>\n",
       "      <td>Information Technology</td>\n",
       "      <td>NaN</td>\n",
       "      <td>4.000000</td>\n",
       "      <td>110</td>\n",
       "      <td>190</td>\n",
       "      <td>Not specified</td>\n",
       "      <td>1</td>\n",
       "      <td>1</td>\n",
       "      <td>0</td>\n",
       "      <td>1</td>\n",
       "      <td>1</td>\n",
       "      <td>1</td>\n",
       "      <td>0</td>\n",
       "    </tr>\n",
       "    <tr>\n",
       "      <th>652</th>\n",
       "      <td>2.4</td>\n",
       "      <td>CA</td>\n",
       "      <td>Nonprofit Organization</td>\n",
       "      <td>NaN</td>\n",
       "      <td>NaN</td>\n",
       "      <td>24.837321</td>\n",
       "      <td>113</td>\n",
       "      <td>132</td>\n",
       "      <td>Not specified</td>\n",
       "      <td>1</td>\n",
       "      <td>1</td>\n",
       "      <td>0</td>\n",
       "      <td>0</td>\n",
       "      <td>0</td>\n",
       "      <td>0</td>\n",
       "      <td>0</td>\n",
       "    </tr>\n",
       "    <tr>\n",
       "      <th>643</th>\n",
       "      <td>3.3</td>\n",
       "      <td>CA</td>\n",
       "      <td>Company - Private</td>\n",
       "      <td>Business Services</td>\n",
       "      <td>$1 to $2 billion (USD)</td>\n",
       "      <td>56.000000</td>\n",
       "      <td>113</td>\n",
       "      <td>132</td>\n",
       "      <td>Not specified</td>\n",
       "      <td>1</td>\n",
       "      <td>0</td>\n",
       "      <td>0</td>\n",
       "      <td>0</td>\n",
       "      <td>0</td>\n",
       "      <td>0</td>\n",
       "      <td>0</td>\n",
       "    </tr>\n",
       "    <tr>\n",
       "      <th>654</th>\n",
       "      <td>3.3</td>\n",
       "      <td>CA</td>\n",
       "      <td>Company - Private</td>\n",
       "      <td>Business Services</td>\n",
       "      <td>$1 to $2 billion (USD)</td>\n",
       "      <td>56.000000</td>\n",
       "      <td>113</td>\n",
       "      <td>132</td>\n",
       "      <td>Not specified</td>\n",
       "      <td>1</td>\n",
       "      <td>0</td>\n",
       "      <td>0</td>\n",
       "      <td>0</td>\n",
       "      <td>0</td>\n",
       "      <td>0</td>\n",
       "      <td>0</td>\n",
       "    </tr>\n",
       "  </tbody>\n",
       "</table>\n",
       "</div>"
      ],
      "text/plain": [
       "      Rating Location               Type of ownership                  Sector  \\\n",
       "653      3.7       CA  Subsidiary or Business Segment                   Media   \n",
       "642      3.2       CA          Nonprofit Organization               Insurance   \n",
       "1366     3.4       CA                Company - Public           Manufacturing   \n",
       "635      5.0       CA               Company - Private                     NaN   \n",
       "658      3.8       CA               Company - Private  Information Technology   \n",
       "1374     5.0       CA               Company - Private  Information Technology   \n",
       "1376     4.4       CA               Company - Private  Information Technology   \n",
       "652      2.4       CA          Nonprofit Organization                     NaN   \n",
       "643      3.3       CA               Company - Private       Business Services   \n",
       "654      3.3       CA               Company - Private       Business Services   \n",
       "\n",
       "                     Revenue  Years Founded  Min_Salary  Max_Salary  \\\n",
       "653       $10+ billion (USD)      17.000000         113         132   \n",
       "642   $2 to $5 billion (USD)      43.000000         113         132   \n",
       "1366  $2 to $5 billion (USD)      17.000000         110         190   \n",
       "635                      NaN      16.078689         113         132   \n",
       "658                      NaN       4.000000         113         132   \n",
       "1374                     NaN       4.000000         110         190   \n",
       "1376                     NaN       4.000000         110         190   \n",
       "652                      NaN      24.837321         113         132   \n",
       "643   $1 to $2 billion (USD)      56.000000         113         132   \n",
       "654   $1 to $2 billion (USD)      56.000000         113         132   \n",
       "\n",
       "          Seniority  HQ_Same  SQL  Excel  Python  Tableau  R  SAS  \n",
       "653   Not specified        0    1      1       0        0  0    0  \n",
       "642   Not specified        1    1      1       0        0  0    1  \n",
       "1366  Not specified        1    1      0       0        1  0    0  \n",
       "635   Not specified        0    0      0       0        0  0    0  \n",
       "658          Senior        1    1      0       1        0  1    0  \n",
       "1374  Not specified        1    1      0       1        1  0    0  \n",
       "1376  Not specified        1    1      0       1        1  1    0  \n",
       "652   Not specified        1    1      0       0        0  0    0  \n",
       "643   Not specified        1    0      0       0        0  0    0  \n",
       "654   Not specified        1    0      0       0        0  0    0  "
      ]
     },
     "execution_count": 26,
     "metadata": {},
     "output_type": "execute_result"
    }
   ],
   "source": [
    "# look at the features of the observations that have the largest absolute error and determine what drives the large errors\n",
    "largest_errors = abs(y_train1 - y_tr_pred1).sort_values(ascending=False).head(10)\n",
    "jobs.loc[largest_errors.index]"
   ]
  },
  {
   "cell_type": "code",
   "execution_count": 27,
   "metadata": {},
   "outputs": [
    {
     "data": {
      "text/html": [
       "<div>\n",
       "<style scoped>\n",
       "    .dataframe tbody tr th:only-of-type {\n",
       "        vertical-align: middle;\n",
       "    }\n",
       "\n",
       "    .dataframe tbody tr th {\n",
       "        vertical-align: top;\n",
       "    }\n",
       "\n",
       "    .dataframe thead th {\n",
       "        text-align: right;\n",
       "    }\n",
       "</style>\n",
       "<table border=\"1\" class=\"dataframe\">\n",
       "  <thead>\n",
       "    <tr style=\"text-align: right;\">\n",
       "      <th></th>\n",
       "      <th>Rating</th>\n",
       "      <th>Years Founded</th>\n",
       "      <th>Min_Salary</th>\n",
       "      <th>Max_Salary</th>\n",
       "      <th>HQ_Same</th>\n",
       "      <th>SQL</th>\n",
       "      <th>Excel</th>\n",
       "      <th>Python</th>\n",
       "      <th>Tableau</th>\n",
       "      <th>R</th>\n",
       "      <th>SAS</th>\n",
       "    </tr>\n",
       "  </thead>\n",
       "  <tbody>\n",
       "    <tr>\n",
       "      <th>count</th>\n",
       "      <td>1960.000000</td>\n",
       "      <td>2047.000000</td>\n",
       "      <td>2047.000000</td>\n",
       "      <td>2047.000000</td>\n",
       "      <td>2047.000000</td>\n",
       "      <td>2047.000000</td>\n",
       "      <td>2047.000000</td>\n",
       "      <td>2047.000000</td>\n",
       "      <td>2047.000000</td>\n",
       "      <td>2047.000000</td>\n",
       "      <td>2047.000000</td>\n",
       "    </tr>\n",
       "    <tr>\n",
       "      <th>mean</th>\n",
       "      <td>3.729898</td>\n",
       "      <td>36.799040</td>\n",
       "      <td>54.109917</td>\n",
       "      <td>89.902296</td>\n",
       "      <td>0.453835</td>\n",
       "      <td>0.585735</td>\n",
       "      <td>0.396190</td>\n",
       "      <td>0.271617</td>\n",
       "      <td>0.268197</td>\n",
       "      <td>0.176356</td>\n",
       "      <td>0.147533</td>\n",
       "    </tr>\n",
       "    <tr>\n",
       "      <th>std</th>\n",
       "      <td>0.669487</td>\n",
       "      <td>43.040180</td>\n",
       "      <td>19.506024</td>\n",
       "      <td>29.422334</td>\n",
       "      <td>0.497986</td>\n",
       "      <td>0.492715</td>\n",
       "      <td>0.489224</td>\n",
       "      <td>0.444902</td>\n",
       "      <td>0.443129</td>\n",
       "      <td>0.381216</td>\n",
       "      <td>0.354723</td>\n",
       "    </tr>\n",
       "    <tr>\n",
       "      <th>min</th>\n",
       "      <td>1.000000</td>\n",
       "      <td>1.000000</td>\n",
       "      <td>24.000000</td>\n",
       "      <td>38.000000</td>\n",
       "      <td>0.000000</td>\n",
       "      <td>0.000000</td>\n",
       "      <td>0.000000</td>\n",
       "      <td>0.000000</td>\n",
       "      <td>0.000000</td>\n",
       "      <td>0.000000</td>\n",
       "      <td>0.000000</td>\n",
       "    </tr>\n",
       "    <tr>\n",
       "      <th>25%</th>\n",
       "      <td>3.300000</td>\n",
       "      <td>15.357143</td>\n",
       "      <td>41.000000</td>\n",
       "      <td>70.000000</td>\n",
       "      <td>0.000000</td>\n",
       "      <td>0.000000</td>\n",
       "      <td>0.000000</td>\n",
       "      <td>0.000000</td>\n",
       "      <td>0.000000</td>\n",
       "      <td>0.000000</td>\n",
       "      <td>0.000000</td>\n",
       "    </tr>\n",
       "    <tr>\n",
       "      <th>50%</th>\n",
       "      <td>3.700000</td>\n",
       "      <td>21.000000</td>\n",
       "      <td>50.000000</td>\n",
       "      <td>87.000000</td>\n",
       "      <td>0.000000</td>\n",
       "      <td>1.000000</td>\n",
       "      <td>0.000000</td>\n",
       "      <td>0.000000</td>\n",
       "      <td>0.000000</td>\n",
       "      <td>0.000000</td>\n",
       "      <td>0.000000</td>\n",
       "    </tr>\n",
       "    <tr>\n",
       "      <th>75%</th>\n",
       "      <td>4.100000</td>\n",
       "      <td>38.000000</td>\n",
       "      <td>63.000000</td>\n",
       "      <td>104.000000</td>\n",
       "      <td>1.000000</td>\n",
       "      <td>1.000000</td>\n",
       "      <td>1.000000</td>\n",
       "      <td>1.000000</td>\n",
       "      <td>1.000000</td>\n",
       "      <td>0.000000</td>\n",
       "      <td>0.000000</td>\n",
       "    </tr>\n",
       "    <tr>\n",
       "      <th>max</th>\n",
       "      <td>5.000000</td>\n",
       "      <td>322.000000</td>\n",
       "      <td>113.000000</td>\n",
       "      <td>190.000000</td>\n",
       "      <td>1.000000</td>\n",
       "      <td>1.000000</td>\n",
       "      <td>1.000000</td>\n",
       "      <td>1.000000</td>\n",
       "      <td>1.000000</td>\n",
       "      <td>1.000000</td>\n",
       "      <td>1.000000</td>\n",
       "    </tr>\n",
       "  </tbody>\n",
       "</table>\n",
       "</div>"
      ],
      "text/plain": [
       "            Rating  Years Founded   Min_Salary   Max_Salary      HQ_Same  \\\n",
       "count  1960.000000    2047.000000  2047.000000  2047.000000  2047.000000   \n",
       "mean      3.729898      36.799040    54.109917    89.902296     0.453835   \n",
       "std       0.669487      43.040180    19.506024    29.422334     0.497986   \n",
       "min       1.000000       1.000000    24.000000    38.000000     0.000000   \n",
       "25%       3.300000      15.357143    41.000000    70.000000     0.000000   \n",
       "50%       3.700000      21.000000    50.000000    87.000000     0.000000   \n",
       "75%       4.100000      38.000000    63.000000   104.000000     1.000000   \n",
       "max       5.000000     322.000000   113.000000   190.000000     1.000000   \n",
       "\n",
       "               SQL        Excel       Python      Tableau            R  \\\n",
       "count  2047.000000  2047.000000  2047.000000  2047.000000  2047.000000   \n",
       "mean      0.585735     0.396190     0.271617     0.268197     0.176356   \n",
       "std       0.492715     0.489224     0.444902     0.443129     0.381216   \n",
       "min       0.000000     0.000000     0.000000     0.000000     0.000000   \n",
       "25%       0.000000     0.000000     0.000000     0.000000     0.000000   \n",
       "50%       1.000000     0.000000     0.000000     0.000000     0.000000   \n",
       "75%       1.000000     1.000000     1.000000     1.000000     0.000000   \n",
       "max       1.000000     1.000000     1.000000     1.000000     1.000000   \n",
       "\n",
       "               SAS  \n",
       "count  2047.000000  \n",
       "mean      0.147533  \n",
       "std       0.354723  \n",
       "min       0.000000  \n",
       "25%       0.000000  \n",
       "50%       0.000000  \n",
       "75%       0.000000  \n",
       "max       1.000000  "
      ]
     },
     "execution_count": 27,
     "metadata": {},
     "output_type": "execute_result"
    }
   ],
   "source": [
    "jobs.describe()"
   ]
  },
  {
   "cell_type": "markdown",
   "metadata": {},
   "source": [
    "## 4. Summary"
   ]
  },
  {
   "cell_type": "markdown",
   "metadata": {},
   "source": [
    "Since our goal is to predict both the minimum salaray and the maximum salary of a job, we've got two dependent variables. We used the info in the 'Size' column to impute the missing values in the 'Years Founded' column since they are positively linearly correlated, and we dropped 'Size' after that. Then we imputed missing numerical values using their median, scaled the numerical data to zero mean and unit variance, imputed missing categorical data using the most frequent values, and trained a linear regression model. It showed that the model is doing prediction on minimum salary slightly better than doing predition on maximum salary."
   ]
  },
  {
   "cell_type": "code",
   "execution_count": 29,
   "metadata": {},
   "outputs": [],
   "source": [
    "# save data\n",
    "datapath = 'data'\n",
    "datapath_jobdata = os.path.join(datapath, 'jobs_data_step4_features.csv')\n",
    "if not os.path.exists(datapath_jobdata):\n",
    "    jobs.to_csv(datapath_jobdata, index=False)"
   ]
  }
 ],
 "metadata": {
  "kernelspec": {
   "display_name": "Python 3",
   "language": "python",
   "name": "python3"
  },
  "language_info": {
   "codemirror_mode": {
    "name": "ipython",
    "version": 3
   },
   "file_extension": ".py",
   "mimetype": "text/x-python",
   "name": "python",
   "nbconvert_exporter": "python",
   "pygments_lexer": "ipython3",
   "version": "3.8.3"
  }
 },
 "nbformat": 4,
 "nbformat_minor": 4
}
