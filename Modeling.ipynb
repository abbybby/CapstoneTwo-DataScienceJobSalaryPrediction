{
 "cells": [
  {
   "cell_type": "markdown",
   "metadata": {},
   "source": [
    "##  Modeling"
   ]
  },
  {
   "cell_type": "markdown",
   "metadata": {},
   "source": [
    "### 1. Import packages and load the data"
   ]
  },
  {
   "cell_type": "code",
   "execution_count": 1,
   "metadata": {},
   "outputs": [],
   "source": [
    "import pandas as pd\n",
    "import numpy as np\n",
    "import os\n",
    "import matplotlib.pyplot as plt\n",
    "import seaborn as sns\n",
    "from sklearn.preprocessing import scale\n",
    "from sklearn.model_selection import train_test_split, cross_validate, GridSearchCV, learning_curve, RandomizedSearchCV\n",
    "from sklearn.preprocessing import StandardScaler, MinMaxScaler, OneHotEncoder\n",
    "from sklearn.linear_model import LinearRegression, Lasso, LassoCV\n",
    "from sklearn.ensemble import RandomForestRegressor\n",
    "\n",
    "from sklearn.metrics import r2_score, mean_squared_error, mean_absolute_error\n",
    "from sklearn.pipeline import make_pipeline\n",
    "from sklearn.impute import SimpleImputer\n",
    "from sklearn.feature_selection import SelectKBest, f_regression\n",
    "from sklearn.compose import ColumnTransformer, make_column_transformer"
   ]
  },
  {
   "cell_type": "code",
   "execution_count": 2,
   "metadata": {},
   "outputs": [
    {
     "name": "stdout",
     "output_type": "stream",
     "text": [
      "<class 'pandas.core.frame.DataFrame'>\n",
      "RangeIndex: 2047 entries, 0 to 2046\n",
      "Data columns (total 16 columns):\n",
      " #   Column             Non-Null Count  Dtype  \n",
      "---  ------             --------------  -----  \n",
      " 0   Rating             1960 non-null   float64\n",
      " 1   Location           2047 non-null   object \n",
      " 2   Type of ownership  2037 non-null   object \n",
      " 3   Sector             1891 non-null   object \n",
      " 4   Revenue            1471 non-null   object \n",
      " 5   Years Founded      2047 non-null   float64\n",
      " 6   Min_Salary         2047 non-null   int64  \n",
      " 7   Max_Salary         2047 non-null   int64  \n",
      " 8   Seniority          2047 non-null   object \n",
      " 9   HQ_Same            2047 non-null   int64  \n",
      " 10  SQL                2047 non-null   int64  \n",
      " 11  Excel              2047 non-null   int64  \n",
      " 12  Python             2047 non-null   int64  \n",
      " 13  Tableau            2047 non-null   int64  \n",
      " 14  R                  2047 non-null   int64  \n",
      " 15  SAS                2047 non-null   int64  \n",
      "dtypes: float64(2), int64(9), object(5)\n",
      "memory usage: 256.0+ KB\n",
      "None\n",
      "There are 2047 observations and 16 features in this dataset.\n"
     ]
    }
   ],
   "source": [
    "jobs = pd.read_csv('data/jobs_data_step4_features.csv')\n",
    "print(jobs.info())\n",
    "print('There are {} observations and {} features in this dataset.'.format(jobs.shape[0],jobs.shape[1]))"
   ]
  },
  {
   "cell_type": "code",
   "execution_count": 3,
   "metadata": {},
   "outputs": [
    {
     "data": {
      "text/html": [
       "<div>\n",
       "<style scoped>\n",
       "    .dataframe tbody tr th:only-of-type {\n",
       "        vertical-align: middle;\n",
       "    }\n",
       "\n",
       "    .dataframe tbody tr th {\n",
       "        vertical-align: top;\n",
       "    }\n",
       "\n",
       "    .dataframe thead th {\n",
       "        text-align: right;\n",
       "    }\n",
       "</style>\n",
       "<table border=\"1\" class=\"dataframe\">\n",
       "  <thead>\n",
       "    <tr style=\"text-align: right;\">\n",
       "      <th></th>\n",
       "      <th>Rating</th>\n",
       "      <th>Location</th>\n",
       "      <th>Type of ownership</th>\n",
       "      <th>Sector</th>\n",
       "      <th>Revenue</th>\n",
       "      <th>Years Founded</th>\n",
       "      <th>Min_Salary</th>\n",
       "      <th>Max_Salary</th>\n",
       "      <th>Seniority</th>\n",
       "      <th>HQ_Same</th>\n",
       "      <th>SQL</th>\n",
       "      <th>Excel</th>\n",
       "      <th>Python</th>\n",
       "      <th>Tableau</th>\n",
       "      <th>R</th>\n",
       "      <th>SAS</th>\n",
       "    </tr>\n",
       "  </thead>\n",
       "  <tbody>\n",
       "    <tr>\n",
       "      <th>0</th>\n",
       "      <td>3.2</td>\n",
       "      <td>NY</td>\n",
       "      <td>Nonprofit Organization</td>\n",
       "      <td>Non-Profit</td>\n",
       "      <td>$100 to $500 million (USD)</td>\n",
       "      <td>59.0</td>\n",
       "      <td>37</td>\n",
       "      <td>66</td>\n",
       "      <td>Not specified</td>\n",
       "      <td>1</td>\n",
       "      <td>1</td>\n",
       "      <td>0</td>\n",
       "      <td>1</td>\n",
       "      <td>0</td>\n",
       "      <td>1</td>\n",
       "      <td>0</td>\n",
       "    </tr>\n",
       "    <tr>\n",
       "      <th>1</th>\n",
       "      <td>3.8</td>\n",
       "      <td>NY</td>\n",
       "      <td>Nonprofit Organization</td>\n",
       "      <td>Health Care</td>\n",
       "      <td>$2 to $5 billion (USD)</td>\n",
       "      <td>127.0</td>\n",
       "      <td>37</td>\n",
       "      <td>66</td>\n",
       "      <td>Not specified</td>\n",
       "      <td>1</td>\n",
       "      <td>1</td>\n",
       "      <td>1</td>\n",
       "      <td>0</td>\n",
       "      <td>0</td>\n",
       "      <td>1</td>\n",
       "      <td>1</td>\n",
       "    </tr>\n",
       "    <tr>\n",
       "      <th>2</th>\n",
       "      <td>3.4</td>\n",
       "      <td>NY</td>\n",
       "      <td>Company - Private</td>\n",
       "      <td>Information Technology</td>\n",
       "      <td>NaN</td>\n",
       "      <td>17.0</td>\n",
       "      <td>37</td>\n",
       "      <td>66</td>\n",
       "      <td>Senior</td>\n",
       "      <td>1</td>\n",
       "      <td>1</td>\n",
       "      <td>1</td>\n",
       "      <td>0</td>\n",
       "      <td>1</td>\n",
       "      <td>0</td>\n",
       "      <td>0</td>\n",
       "    </tr>\n",
       "    <tr>\n",
       "      <th>3</th>\n",
       "      <td>4.1</td>\n",
       "      <td>NY</td>\n",
       "      <td>Subsidiary or Business Segment</td>\n",
       "      <td>Information Technology</td>\n",
       "      <td>$50 to $100 million (USD)</td>\n",
       "      <td>18.0</td>\n",
       "      <td>37</td>\n",
       "      <td>66</td>\n",
       "      <td>Not specified</td>\n",
       "      <td>0</td>\n",
       "      <td>1</td>\n",
       "      <td>0</td>\n",
       "      <td>0</td>\n",
       "      <td>1</td>\n",
       "      <td>0</td>\n",
       "      <td>0</td>\n",
       "    </tr>\n",
       "    <tr>\n",
       "      <th>4</th>\n",
       "      <td>3.9</td>\n",
       "      <td>NY</td>\n",
       "      <td>Company - Private</td>\n",
       "      <td>Arts, Entertainment &amp; Recreation</td>\n",
       "      <td>$100 to $500 million (USD)</td>\n",
       "      <td>11.0</td>\n",
       "      <td>37</td>\n",
       "      <td>66</td>\n",
       "      <td>Not specified</td>\n",
       "      <td>1</td>\n",
       "      <td>1</td>\n",
       "      <td>1</td>\n",
       "      <td>1</td>\n",
       "      <td>0</td>\n",
       "      <td>0</td>\n",
       "      <td>0</td>\n",
       "    </tr>\n",
       "  </tbody>\n",
       "</table>\n",
       "</div>"
      ],
      "text/plain": [
       "   Rating Location               Type of ownership  \\\n",
       "0     3.2       NY          Nonprofit Organization   \n",
       "1     3.8       NY          Nonprofit Organization   \n",
       "2     3.4       NY               Company - Private   \n",
       "3     4.1       NY  Subsidiary or Business Segment   \n",
       "4     3.9       NY               Company - Private   \n",
       "\n",
       "                             Sector                     Revenue  \\\n",
       "0                        Non-Profit  $100 to $500 million (USD)   \n",
       "1                       Health Care      $2 to $5 billion (USD)   \n",
       "2            Information Technology                         NaN   \n",
       "3            Information Technology   $50 to $100 million (USD)   \n",
       "4  Arts, Entertainment & Recreation  $100 to $500 million (USD)   \n",
       "\n",
       "   Years Founded  Min_Salary  Max_Salary      Seniority  HQ_Same  SQL  Excel  \\\n",
       "0           59.0          37          66  Not specified        1    1      0   \n",
       "1          127.0          37          66  Not specified        1    1      1   \n",
       "2           17.0          37          66         Senior        1    1      1   \n",
       "3           18.0          37          66  Not specified        0    1      0   \n",
       "4           11.0          37          66  Not specified        1    1      1   \n",
       "\n",
       "   Python  Tableau  R  SAS  \n",
       "0       1        0  1    0  \n",
       "1       0        0  1    1  \n",
       "2       0        1  0    0  \n",
       "3       0        1  0    0  \n",
       "4       1        0  0    0  "
      ]
     },
     "execution_count": 3,
     "metadata": {},
     "output_type": "execute_result"
    }
   ],
   "source": [
    "jobs.head()"
   ]
  },
  {
   "cell_type": "markdown",
   "metadata": {},
   "source": [
    "### 2.Train/Test Split"
   ]
  },
  {
   "cell_type": "code",
   "execution_count": 4,
   "metadata": {},
   "outputs": [],
   "source": [
    "# Split data to predict Min_Salary\n",
    "X_train, X_test, y_train1, y_test1 = train_test_split(jobs.drop(columns=['Min_Salary','Max_Salary']), \n",
    "                                                    jobs.Min_Salary, test_size=0.3, random_state=47)\n",
    "# Split data to predict Max_Salary\n",
    "X_train, X_test, y_train2, y_test2 = train_test_split(jobs.drop(columns=['Min_Salary','Max_Salary']), \n",
    "                                                    jobs.Max_Salary, test_size=0.3, random_state=47)"
   ]
  },
  {
   "cell_type": "code",
   "execution_count": 5,
   "metadata": {},
   "outputs": [
    {
     "data": {
      "text/plain": [
       "((1432, 14), (615, 14))"
      ]
     },
     "execution_count": 5,
     "metadata": {},
     "output_type": "execute_result"
    }
   ],
   "source": [
    "X_train.shape, X_test.shape"
   ]
  },
  {
   "cell_type": "markdown",
   "metadata": {},
   "source": [
    "### 3.Refining The Linear Model"
   ]
  },
  {
   "cell_type": "markdown",
   "metadata": {},
   "source": [
    "In the previous step, we've tried predicting salary with a linear regression model, and now we will refine our linear regression model with feature selection and evaluate the model using cross validation."
   ]
  },
  {
   "cell_type": "code",
   "execution_count": 6,
   "metadata": {},
   "outputs": [],
   "source": [
    "categorical_features = ['HQ_Same', 'SQL', 'Excel','Python','Tableau','R','SAS',\n",
    "                 'Location','Type of ownership','Sector','Revenue','Seniority']\n",
    "numerical_features = ['Rating', 'Years Founded']\n",
    "preprocess = make_column_transformer(\n",
    "    ( make_pipeline(SimpleImputer(strategy='median'), StandardScaler()),numerical_features),\n",
    "    ( make_pipeline(SimpleImputer(strategy=\"most_frequent\"),OneHotEncoder(handle_unknown='ignore')),categorical_features)\n",
    ")"
   ]
  },
  {
   "cell_type": "code",
   "execution_count": 7,
   "metadata": {},
   "outputs": [],
   "source": [
    "# linear regression without feature selection\n",
    "pipe = make_pipeline(\n",
    "    preprocess,\n",
    "    LinearRegression()\n",
    ")"
   ]
  },
  {
   "cell_type": "code",
   "execution_count": 8,
   "metadata": {},
   "outputs": [
    {
     "data": {
      "text/plain": [
       "Pipeline(steps=[('columntransformer',\n",
       "                 ColumnTransformer(transformers=[('pipeline-1',\n",
       "                                                  Pipeline(steps=[('simpleimputer',\n",
       "                                                                   SimpleImputer(strategy='median')),\n",
       "                                                                  ('standardscaler',\n",
       "                                                                   StandardScaler())]),\n",
       "                                                  ['Rating', 'Years Founded']),\n",
       "                                                 ('pipeline-2',\n",
       "                                                  Pipeline(steps=[('simpleimputer',\n",
       "                                                                   SimpleImputer(strategy='most_frequent')),\n",
       "                                                                  ('onehotencoder',\n",
       "                                                                   OneHotEncoder(handle_unknown='ignore'))]),\n",
       "                                                  ['HQ_Same', 'SQL', 'Excel',\n",
       "                                                   'Python', 'Tableau', 'R',\n",
       "                                                   'SAS', 'Location',\n",
       "                                                   'Type of ownership',\n",
       "                                                   'Sector', 'Revenue',\n",
       "                                                   'Seniority'])])),\n",
       "                ('linearregression', LinearRegression())])"
      ]
     },
     "execution_count": 8,
     "metadata": {},
     "output_type": "execute_result"
    }
   ],
   "source": [
    "pipe.fit(X_train, y_train1)"
   ]
  },
  {
   "cell_type": "code",
   "execution_count": 9,
   "metadata": {},
   "outputs": [],
   "source": [
    "y_tr_pred1 = pipe.predict(X_train)\n",
    "y_te_pred1 = pipe.predict(X_test)"
   ]
  },
  {
   "cell_type": "code",
   "execution_count": 10,
   "metadata": {},
   "outputs": [
    {
     "name": "stdout",
     "output_type": "stream",
     "text": [
      "r2 score on train set:  0.3285114387876167 , r2 score on test set:  0.2845302688137007\n",
      "mae on train set:  11.774820025901679 , mae score on test set:  11.980053588560361\n",
      "mse on train set:  255.76167997838022 , mse score on test set:  270.5876086680645\n"
     ]
    }
   ],
   "source": [
    "print('r2 score on train set: ',r2_score(y_train1, y_tr_pred1), ', r2 score on test set: ', r2_score(y_test1, y_te_pred1))\n",
    "print('mae on train set: ',mean_absolute_error(y_train1, y_tr_pred1), ', mae score on test set: ', mean_absolute_error(y_test1, y_te_pred1))\n",
    "print('mse on train set: ',mean_squared_error(y_train1, y_tr_pred1), ', mse score on test set: ', mean_squared_error(y_test1, y_te_pred1))"
   ]
  },
  {
   "cell_type": "code",
   "execution_count": 11,
   "metadata": {},
   "outputs": [
    {
     "data": {
      "text/plain": [
       "array([0.33482974, 0.26864631, 0.24532448, 0.23206794, 0.13907614])"
      ]
     },
     "execution_count": 11,
     "metadata": {},
     "output_type": "execute_result"
    }
   ],
   "source": [
    "# Assessing performance using cross-validation\n",
    "cv_results = cross_validate(pipe, X_train, y_train1, cv=5)\n",
    "cv_scores = cv_results['test_score']\n",
    "cv_scores"
   ]
  },
  {
   "cell_type": "code",
   "execution_count": 12,
   "metadata": {},
   "outputs": [
    {
     "data": {
      "text/plain": [
       "(0.24398892417645413, 0.06326235299436937)"
      ]
     },
     "execution_count": 12,
     "metadata": {},
     "output_type": "execute_result"
    }
   ],
   "source": [
    "np.mean(cv_scores),np.std(cv_scores)"
   ]
  },
  {
   "cell_type": "code",
   "execution_count": 13,
   "metadata": {},
   "outputs": [
    {
     "data": {
      "text/plain": [
       "array([0.12, 0.37])"
      ]
     },
     "execution_count": 13,
     "metadata": {},
     "output_type": "execute_result"
    }
   ],
   "source": [
    "np.round((np.mean(cv_scores) - 2 * np.std(cv_scores), np.mean(cv_scores) + 2 * np.std(cv_scores)), 2)"
   ]
  },
  {
   "cell_type": "markdown",
   "metadata": {},
   "source": [
    "### 3.1 Lasso"
   ]
  },
  {
   "cell_type": "code",
   "execution_count": 14,
   "metadata": {},
   "outputs": [],
   "source": [
    "# Lasso with alpha = 1.0 (default)\n",
    "lasso_pipe = make_pipeline(\n",
    "    preprocess,\n",
    "    Lasso()\n",
    ")"
   ]
  },
  {
   "cell_type": "code",
   "execution_count": 15,
   "metadata": {},
   "outputs": [
    {
     "data": {
      "text/plain": [
       "array([0.15491287, 0.15389161, 0.12963258, 0.13355017, 0.11548106])"
      ]
     },
     "execution_count": 15,
     "metadata": {},
     "output_type": "execute_result"
    }
   ],
   "source": [
    "# Assessing performance using cross-validation\n",
    "cv_results_lasso = cross_validate(lasso_pipe, X_train, y_train1, cv=5)\n",
    "cv_scores_lasso = cv_results_lasso['test_score']\n",
    "cv_scores_lasso"
   ]
  },
  {
   "cell_type": "code",
   "execution_count": 16,
   "metadata": {},
   "outputs": [
    {
     "data": {
      "text/plain": [
       "(0.1374936596100442, 0.015061368413500519)"
      ]
     },
     "execution_count": 16,
     "metadata": {},
     "output_type": "execute_result"
    }
   ],
   "source": [
    "np.mean(cv_scores_lasso),np.std(cv_scores_lasso)"
   ]
  },
  {
   "cell_type": "markdown",
   "metadata": {},
   "source": [
    "The default Lasso regression model yields worse performance than the linear regression model. Let's try tuning Lasso hyperparameters to see if we can get a better result."
   ]
  },
  {
   "cell_type": "markdown",
   "metadata": {},
   "source": [
    "#### Hyperparameter search using GridSearchCV"
   ]
  },
  {
   "cell_type": "code",
   "execution_count": 17,
   "metadata": {},
   "outputs": [
    {
     "data": {
      "text/plain": [
       "dict_keys(['memory', 'steps', 'verbose', 'columntransformer', 'lasso', 'columntransformer__n_jobs', 'columntransformer__remainder', 'columntransformer__sparse_threshold', 'columntransformer__transformer_weights', 'columntransformer__transformers', 'columntransformer__verbose', 'columntransformer__pipeline-1', 'columntransformer__pipeline-2', 'columntransformer__pipeline-1__memory', 'columntransformer__pipeline-1__steps', 'columntransformer__pipeline-1__verbose', 'columntransformer__pipeline-1__simpleimputer', 'columntransformer__pipeline-1__standardscaler', 'columntransformer__pipeline-1__simpleimputer__add_indicator', 'columntransformer__pipeline-1__simpleimputer__copy', 'columntransformer__pipeline-1__simpleimputer__fill_value', 'columntransformer__pipeline-1__simpleimputer__missing_values', 'columntransformer__pipeline-1__simpleimputer__strategy', 'columntransformer__pipeline-1__simpleimputer__verbose', 'columntransformer__pipeline-1__standardscaler__copy', 'columntransformer__pipeline-1__standardscaler__with_mean', 'columntransformer__pipeline-1__standardscaler__with_std', 'columntransformer__pipeline-2__memory', 'columntransformer__pipeline-2__steps', 'columntransformer__pipeline-2__verbose', 'columntransformer__pipeline-2__simpleimputer', 'columntransformer__pipeline-2__onehotencoder', 'columntransformer__pipeline-2__simpleimputer__add_indicator', 'columntransformer__pipeline-2__simpleimputer__copy', 'columntransformer__pipeline-2__simpleimputer__fill_value', 'columntransformer__pipeline-2__simpleimputer__missing_values', 'columntransformer__pipeline-2__simpleimputer__strategy', 'columntransformer__pipeline-2__simpleimputer__verbose', 'columntransformer__pipeline-2__onehotencoder__categories', 'columntransformer__pipeline-2__onehotencoder__drop', 'columntransformer__pipeline-2__onehotencoder__dtype', 'columntransformer__pipeline-2__onehotencoder__handle_unknown', 'columntransformer__pipeline-2__onehotencoder__sparse', 'lasso__alpha', 'lasso__copy_X', 'lasso__fit_intercept', 'lasso__max_iter', 'lasso__normalize', 'lasso__positive', 'lasso__precompute', 'lasso__random_state', 'lasso__selection', 'lasso__tol', 'lasso__warm_start'])"
      ]
     },
     "execution_count": 17,
     "metadata": {},
     "output_type": "execute_result"
    }
   ],
   "source": [
    "# check available parameters in this pipeline\n",
    "lasso_pipe.get_params().keys()"
   ]
  },
  {
   "cell_type": "code",
   "execution_count": 18,
   "metadata": {},
   "outputs": [],
   "source": [
    "# gird search alpha values between 0.0 and 1.0 with a grid separation of 0.01\n",
    "lasso_cv = GridSearchCV(lasso_pipe, param_grid={'lasso__alpha': np.arange(0, 1, 0.01)}, cv=5, n_jobs=-1)"
   ]
  },
  {
   "cell_type": "code",
   "execution_count": 19,
   "metadata": {},
   "outputs": [
    {
     "data": {
      "text/plain": [
       "GridSearchCV(cv=5,\n",
       "             estimator=Pipeline(steps=[('columntransformer',\n",
       "                                        ColumnTransformer(transformers=[('pipeline-1',\n",
       "                                                                         Pipeline(steps=[('simpleimputer',\n",
       "                                                                                          SimpleImputer(strategy='median')),\n",
       "                                                                                         ('standardscaler',\n",
       "                                                                                          StandardScaler())]),\n",
       "                                                                         ['Rating',\n",
       "                                                                          'Years '\n",
       "                                                                          'Founded']),\n",
       "                                                                        ('pipeline-2',\n",
       "                                                                         Pipeline(steps=[('simpleimputer',\n",
       "                                                                                          SimpleImputer(strategy='most_frequent')),\n",
       "                                                                                         ('onehotencoder',...\n",
       "       0.22, 0.23, 0.24, 0.25, 0.26, 0.27, 0.28, 0.29, 0.3 , 0.31, 0.32,\n",
       "       0.33, 0.34, 0.35, 0.36, 0.37, 0.38, 0.39, 0.4 , 0.41, 0.42, 0.43,\n",
       "       0.44, 0.45, 0.46, 0.47, 0.48, 0.49, 0.5 , 0.51, 0.52, 0.53, 0.54,\n",
       "       0.55, 0.56, 0.57, 0.58, 0.59, 0.6 , 0.61, 0.62, 0.63, 0.64, 0.65,\n",
       "       0.66, 0.67, 0.68, 0.69, 0.7 , 0.71, 0.72, 0.73, 0.74, 0.75, 0.76,\n",
       "       0.77, 0.78, 0.79, 0.8 , 0.81, 0.82, 0.83, 0.84, 0.85, 0.86, 0.87,\n",
       "       0.88, 0.89, 0.9 , 0.91, 0.92, 0.93, 0.94, 0.95, 0.96, 0.97, 0.98,\n",
       "       0.99])})"
      ]
     },
     "execution_count": 19,
     "metadata": {},
     "output_type": "execute_result"
    }
   ],
   "source": [
    "lasso_cv.fit(X_train, y_train1)"
   ]
  },
  {
   "cell_type": "code",
   "execution_count": 20,
   "metadata": {},
   "outputs": [],
   "source": [
    "score_mean = lasso_cv.cv_results_['mean_test_score']\n",
    "score_std = lasso_cv.cv_results_['std_test_score']\n",
    "cv_lasso = [l for l in lasso_cv.cv_results_['param_lasso__alpha']]"
   ]
  },
  {
   "cell_type": "code",
   "execution_count": 28,
   "metadata": {},
   "outputs": [
    {
     "name": "stdout",
     "output_type": "stream",
     "text": [
      "best alpha:  {'lasso__alpha': 0.05} , which gives a mean cv score of 0.2630425713610481\n"
     ]
    }
   ],
   "source": [
    "print('best alpha: ',lasso_cv.best_params_, ', which gives a mean cv score of', lasso_cv.best_score_)"
   ]
  },
  {
   "cell_type": "code",
   "execution_count": 22,
   "metadata": {},
   "outputs": [
    {
     "data": {
      "image/png": "[encoded data removed]",
      "text/plain": [
       "<Figure size 720x360 with 1 Axes>"
      ]
     },
     "metadata": {
      "needs_background": "light"
     },
     "output_type": "display_data"
    }
   ],
   "source": [
    "# plot mean CV score vs. alpha\n",
    "best_lasso = lasso_cv.best_params_['lasso__alpha']\n",
    "plt.subplots(figsize=(10, 5))\n",
    "plt.errorbar(cv_lasso, score_mean, yerr=score_std)\n",
    "plt.axvline(x=best_lasso, c='r', ls='--', alpha=.5)\n",
    "plt.xlabel('alpha')\n",
    "plt.ylabel('CV score (r-squared)')\n",
    "plt.title('Pipeline mean CV score (error bars +/- 1sd)');"
   ]
  },
  {
   "cell_type": "markdown",
   "metadata": {},
   "source": [
    "The above suggests a good alpha for our lasso model is 0.05."
   ]
  },
  {
   "cell_type": "code",
   "execution_count": 23,
   "metadata": {},
   "outputs": [
    {
     "data": {
      "text/plain": [
       "Pipeline(steps=[('columntransformer',\n",
       "                 ColumnTransformer(transformers=[('pipeline-1',\n",
       "                                                  Pipeline(steps=[('simpleimputer',\n",
       "                                                                   SimpleImputer(strategy='median')),\n",
       "                                                                  ('standardscaler',\n",
       "                                                                   StandardScaler())]),\n",
       "                                                  ['Rating', 'Years Founded']),\n",
       "                                                 ('pipeline-2',\n",
       "                                                  Pipeline(steps=[('simpleimputer',\n",
       "                                                                   SimpleImputer(strategy='most_frequent')),\n",
       "                                                                  ('onehotencoder',\n",
       "                                                                   OneHotEncoder(handle_unknown='ignore'))]),\n",
       "                                                  ['HQ_Same', 'SQL', 'Excel',\n",
       "                                                   'Python', 'Tableau', 'R',\n",
       "                                                   'SAS', 'Location',\n",
       "                                                   'Type of ownership',\n",
       "                                                   'Sector', 'Revenue',\n",
       "                                                   'Seniority'])])),\n",
       "                ('lasso', Lasso(alpha=0.05))])"
      ]
     },
     "execution_count": 23,
     "metadata": {},
     "output_type": "execute_result"
    }
   ],
   "source": [
    "# Create an improved Lasso model with alpha =0.05\n",
    "best_lasso_pipe = make_pipeline(\n",
    "    preprocess,\n",
    "    Lasso(alpha=0.05)\n",
    ")\n",
    "best_lasso_pipe.fit(X_train, y_train1)"
   ]
  },
  {
   "cell_type": "code",
   "execution_count": 39,
   "metadata": {},
   "outputs": [
    {
     "data": {
      "text/plain": [
       "(0.2630425713610481, 0.05703177953314068)"
      ]
     },
     "execution_count": 39,
     "metadata": {},
     "output_type": "execute_result"
    }
   ],
   "source": [
    "# Assessing performance using cross-validation for prediction of y_train1: minimum salary\n",
    "cv_best_lasso_min = cross_validate(best_lasso_pipe, X_train, y_train1, cv=5)['test_score']\n",
    "np.mean(cv_lasso_min),np.std(cv_lasso_min)"
   ]
  },
  {
   "cell_type": "code",
   "execution_count": 41,
   "metadata": {},
   "outputs": [
    {
     "data": {
      "text/plain": [
       "(0.25238757598838124, 0.0545247744175835)"
      ]
     },
     "execution_count": 41,
     "metadata": {},
     "output_type": "execute_result"
    }
   ],
   "source": [
    "# Assessing performance using cross-validation for prediction of y_train2: maximum salary\n",
    "cv_best_lasso_max = cross_validate(best_lasso_pipe, X_train, y_train2, cv=5)['test_score']\n",
    "np.mean(cv_best_lasso_max), np.std(cv_best_lasso_max)"
   ]
  },
  {
   "cell_type": "markdown",
   "metadata": {},
   "source": [
    "Recall that the default lasso model gave a mean cv score of 0.137, it's obvious that choosing alpha = 0.05 has greatly improved the lasso model performance."
   ]
  },
  {
   "cell_type": "markdown",
   "metadata": {},
   "source": [
    "#### Which features were most useful? "
   ]
  },
  {
   "cell_type": "code",
   "execution_count": 24,
   "metadata": {},
   "outputs": [],
   "source": [
    "# define a function to get feature names from our pipeline\n",
    "import sklearn\n",
    "import warnings\n",
    "\n",
    "def get_feature_names(column_transformer):\n",
    "    \"\"\"Get feature names from all transformers.\n",
    "    Returns\n",
    "    -------\n",
    "    feature_names : list of strings\n",
    "        Names of the features produced by transform.\n",
    "    \"\"\"\n",
    "    # Remove the internal helper function\n",
    "    #check_is_fitted(column_transformer)\n",
    "    \n",
    "    # Turn loopkup into function for better handling with pipeline later\n",
    "    def get_names(trans):\n",
    "        # >> Original get_feature_names() method\n",
    "        if trans == 'drop' or (\n",
    "                hasattr(column, '__len__') and not len(column)):\n",
    "            return []\n",
    "        if trans == 'passthrough':\n",
    "            if hasattr(column_transformer, '_df_columns'):\n",
    "                if ((not isinstance(column, slice))\n",
    "                        and all(isinstance(col, str) for col in column)):\n",
    "                    return column\n",
    "                else:\n",
    "                    return column_transformer._df_columns[column]\n",
    "            else:\n",
    "                indices = np.arange(column_transformer._n_features)\n",
    "                return ['x%d' % i for i in indices[column]]\n",
    "        if not hasattr(trans, 'get_feature_names'):\n",
    "        # >>> Change: Return input column names if no method avaiable\n",
    "            # Turn error into a warning\n",
    "            warnings.warn(\"Transformer %s (type %s) does not \"\n",
    "                                 \"provide get_feature_names. \"\n",
    "                                 \"Will return input column names if available\"\n",
    "                                 % (str(name), type(trans).__name__))\n",
    "            # For transformers without a get_features_names method, use the input\n",
    "            # names to the column transformer\n",
    "            if column is None:\n",
    "                return []\n",
    "            else:\n",
    "                return [name + \"__\" + f for f in column]\n",
    "\n",
    "        return [name + \"__\" + f for f in trans.get_feature_names()]\n",
    "    \n",
    "    ### Start of processing\n",
    "    feature_names = []\n",
    "    \n",
    "    # Allow transformers to be pipelines. Pipeline steps are named differently, so preprocessing is needed\n",
    "    if type(column_transformer) == sklearn.pipeline.Pipeline:\n",
    "        l_transformers = [(name, trans, None, None) for step, name, trans in column_transformer._iter()]\n",
    "    else:\n",
    "        # For column transformers, follow the original method\n",
    "        l_transformers = list(column_transformer._iter(fitted=True))\n",
    "    \n",
    "    \n",
    "    for name, trans, column, _ in l_transformers: \n",
    "        if type(trans) == sklearn.pipeline.Pipeline:\n",
    "            # Recursive call on pipeline\n",
    "            _names = get_feature_names(trans)\n",
    "            # if pipeline has no transformer that returns names\n",
    "            if len(_names)==0:\n",
    "                _names = [name + \"__\" + f for f in column]\n",
    "            feature_names.extend(_names)\n",
    "        else:\n",
    "            feature_names.extend(get_names(trans))\n",
    "    \n",
    "    return feature_names\n",
    "\n",
    "# Code adapted from:\n",
    "# https://johaupt.github.io/scikit-learn/tutorial/python/data%20processing/ml%20pipeline/model%20interpretation/columnTransformer_feature_names.html"
   ]
  },
  {
   "cell_type": "code",
   "execution_count": 25,
   "metadata": {},
   "outputs": [
    {
     "name": "stderr",
     "output_type": "stream",
     "text": [
      "<ipython-input-24-914e3f59aa47>:33: UserWarning: Transformer simpleimputer (type SimpleImputer) does not provide get_feature_names. Will return input column names if available\n",
      "  warnings.warn(\"Transformer %s (type %s) does not \"\n",
      "<ipython-input-24-914e3f59aa47>:33: UserWarning: Transformer standardscaler (type StandardScaler) does not provide get_feature_names. Will return input column names if available\n",
      "  warnings.warn(\"Transformer %s (type %s) does not \"\n"
     ]
    }
   ],
   "source": [
    "feature_names = get_feature_names(preprocess)"
   ]
  },
  {
   "cell_type": "code",
   "execution_count": 26,
   "metadata": {},
   "outputs": [],
   "source": [
    "lasso_coefs = best_lasso_pipe.named_steps.lasso.coef_"
   ]
  },
  {
   "cell_type": "code",
   "execution_count": 61,
   "metadata": {},
   "outputs": [
    {
     "name": "stderr",
     "output_type": "stream",
     "text": [
      "<ipython-input-24-914e3f59aa47>:33: UserWarning: Transformer simpleimputer (type SimpleImputer) does not provide get_feature_names. Will return input column names if available\n",
      "  warnings.warn(\"Transformer %s (type %s) does not \"\n",
      "<ipython-input-24-914e3f59aa47>:33: UserWarning: Transformer standardscaler (type StandardScaler) does not provide get_feature_names. Will return input column names if available\n",
      "  warnings.warn(\"Transformer %s (type %s) does not \"\n"
     ]
    },
    {
     "data": {
      "text/html": [
       "<div>\n",
       "<style scoped>\n",
       "    .dataframe tbody tr th:only-of-type {\n",
       "        vertical-align: middle;\n",
       "    }\n",
       "\n",
       "    .dataframe tbody tr th {\n",
       "        vertical-align: top;\n",
       "    }\n",
       "\n",
       "    .dataframe thead th {\n",
       "        text-align: right;\n",
       "    }\n",
       "</style>\n",
       "<table border=\"1\" class=\"dataframe\">\n",
       "  <thead>\n",
       "    <tr style=\"text-align: right;\">\n",
       "      <th></th>\n",
       "      <th>coefs</th>\n",
       "      <th>The absolute value of coefs</th>\n",
       "    </tr>\n",
       "  </thead>\n",
       "  <tbody>\n",
       "    <tr>\n",
       "      <th>onehotencoder__x7_IL</th>\n",
       "      <td>20.885350</td>\n",
       "      <td>20.885350</td>\n",
       "    </tr>\n",
       "    <tr>\n",
       "      <th>onehotencoder__x7_CA</th>\n",
       "      <td>19.458577</td>\n",
       "      <td>19.458577</td>\n",
       "    </tr>\n",
       "    <tr>\n",
       "      <th>onehotencoder__x7_UT</th>\n",
       "      <td>-16.180112</td>\n",
       "      <td>16.180112</td>\n",
       "    </tr>\n",
       "    <tr>\n",
       "      <th>onehotencoder__x7_OH</th>\n",
       "      <td>-11.761645</td>\n",
       "      <td>11.761645</td>\n",
       "    </tr>\n",
       "    <tr>\n",
       "      <th>onehotencoder__x7_CO</th>\n",
       "      <td>10.928651</td>\n",
       "      <td>10.928651</td>\n",
       "    </tr>\n",
       "    <tr>\n",
       "      <th>onehotencoder__x7_NY</th>\n",
       "      <td>8.896904</td>\n",
       "      <td>8.896904</td>\n",
       "    </tr>\n",
       "    <tr>\n",
       "      <th>onehotencoder__x7_NJ</th>\n",
       "      <td>7.758899</td>\n",
       "      <td>7.758899</td>\n",
       "    </tr>\n",
       "    <tr>\n",
       "      <th>onehotencoder__x9_Media</th>\n",
       "      <td>-7.746343</td>\n",
       "      <td>7.746343</td>\n",
       "    </tr>\n",
       "    <tr>\n",
       "      <th>onehotencoder__x7_IN</th>\n",
       "      <td>-7.411508</td>\n",
       "      <td>7.411508</td>\n",
       "    </tr>\n",
       "    <tr>\n",
       "      <th>onehotencoder__x10_$1 to $5 million (USD)</th>\n",
       "      <td>3.494513</td>\n",
       "      <td>3.494513</td>\n",
       "    </tr>\n",
       "    <tr>\n",
       "      <th>onehotencoder__x7_NC</th>\n",
       "      <td>3.459630</td>\n",
       "      <td>3.459630</td>\n",
       "    </tr>\n",
       "    <tr>\n",
       "      <th>onehotencoder__x11_Junior</th>\n",
       "      <td>-3.267515</td>\n",
       "      <td>3.267515</td>\n",
       "    </tr>\n",
       "    <tr>\n",
       "      <th>onehotencoder__x7_FL</th>\n",
       "      <td>-3.137811</td>\n",
       "      <td>3.137811</td>\n",
       "    </tr>\n",
       "    <tr>\n",
       "      <th>onehotencoder__x9_Health Care</th>\n",
       "      <td>2.908468</td>\n",
       "      <td>2.908468</td>\n",
       "    </tr>\n",
       "    <tr>\n",
       "      <th>onehotencoder__x7_TX</th>\n",
       "      <td>-2.838198</td>\n",
       "      <td>2.838198</td>\n",
       "    </tr>\n",
       "    <tr>\n",
       "      <th>onehotencoder__x8_Nonprofit Organization</th>\n",
       "      <td>-2.376609</td>\n",
       "      <td>2.376609</td>\n",
       "    </tr>\n",
       "    <tr>\n",
       "      <th>onehotencoder__x1_0</th>\n",
       "      <td>1.951054</td>\n",
       "      <td>1.951054</td>\n",
       "    </tr>\n",
       "    <tr>\n",
       "      <th>onehotencoder__x0_0</th>\n",
       "      <td>1.655544</td>\n",
       "      <td>1.655544</td>\n",
       "    </tr>\n",
       "    <tr>\n",
       "      <th>onehotencoder__x9_Education</th>\n",
       "      <td>-1.590593</td>\n",
       "      <td>1.590593</td>\n",
       "    </tr>\n",
       "    <tr>\n",
       "      <th>onehotencoder__x9_Finance</th>\n",
       "      <td>-1.584480</td>\n",
       "      <td>1.584480</td>\n",
       "    </tr>\n",
       "    <tr>\n",
       "      <th>onehotencoder__x9_Accounting &amp; Legal</th>\n",
       "      <td>1.458018</td>\n",
       "      <td>1.458018</td>\n",
       "    </tr>\n",
       "    <tr>\n",
       "      <th>onehotencoder__x10_$5 to $10 million (USD)</th>\n",
       "      <td>1.331912</td>\n",
       "      <td>1.331912</td>\n",
       "    </tr>\n",
       "    <tr>\n",
       "      <th>onehotencoder__x3_0</th>\n",
       "      <td>-1.128464</td>\n",
       "      <td>1.128464</td>\n",
       "    </tr>\n",
       "    <tr>\n",
       "      <th>onehotencoder__x10_$500 million to $1 billion (USD)</th>\n",
       "      <td>-1.119683</td>\n",
       "      <td>1.119683</td>\n",
       "    </tr>\n",
       "    <tr>\n",
       "      <th>onehotencoder__x11_Senior</th>\n",
       "      <td>1.083329</td>\n",
       "      <td>1.083329</td>\n",
       "    </tr>\n",
       "    <tr>\n",
       "      <th>onehotencoder__x9_Business Services</th>\n",
       "      <td>0.931549</td>\n",
       "      <td>0.931549</td>\n",
       "    </tr>\n",
       "    <tr>\n",
       "      <th>onehotencoder__x10_$10 to $25 million (USD)</th>\n",
       "      <td>-0.927261</td>\n",
       "      <td>0.927261</td>\n",
       "    </tr>\n",
       "    <tr>\n",
       "      <th>onehotencoder__x10_$2 to $5 billion (USD)</th>\n",
       "      <td>-0.865184</td>\n",
       "      <td>0.865184</td>\n",
       "    </tr>\n",
       "    <tr>\n",
       "      <th>onehotencoder__x9_Insurance</th>\n",
       "      <td>0.786844</td>\n",
       "      <td>0.786844</td>\n",
       "    </tr>\n",
       "    <tr>\n",
       "      <th>onehotencoder__x4_0</th>\n",
       "      <td>-0.659857</td>\n",
       "      <td>0.659857</td>\n",
       "    </tr>\n",
       "  </tbody>\n",
       "</table>\n",
       "</div>"
      ],
      "text/plain": [
       "                                                        coefs  \\\n",
       "onehotencoder__x7_IL                                20.885350   \n",
       "onehotencoder__x7_CA                                19.458577   \n",
       "onehotencoder__x7_UT                               -16.180112   \n",
       "onehotencoder__x7_OH                               -11.761645   \n",
       "onehotencoder__x7_CO                                10.928651   \n",
       "onehotencoder__x7_NY                                 8.896904   \n",
       "onehotencoder__x7_NJ                                 7.758899   \n",
       "onehotencoder__x9_Media                             -7.746343   \n",
       "onehotencoder__x7_IN                                -7.411508   \n",
       "onehotencoder__x10_$1 to $5 million (USD)            3.494513   \n",
       "onehotencoder__x7_NC                                 3.459630   \n",
       "onehotencoder__x11_Junior                           -3.267515   \n",
       "onehotencoder__x7_FL                                -3.137811   \n",
       "onehotencoder__x9_Health Care                        2.908468   \n",
       "onehotencoder__x7_TX                                -2.838198   \n",
       "onehotencoder__x8_Nonprofit Organization            -2.376609   \n",
       "onehotencoder__x1_0                                  1.951054   \n",
       "onehotencoder__x0_0                                  1.655544   \n",
       "onehotencoder__x9_Education                         -1.590593   \n",
       "onehotencoder__x9_Finance                           -1.584480   \n",
       "onehotencoder__x9_Accounting & Legal                 1.458018   \n",
       "onehotencoder__x10_$5 to $10 million (USD)           1.331912   \n",
       "onehotencoder__x3_0                                 -1.128464   \n",
       "onehotencoder__x10_$500 million to $1 billion (...  -1.119683   \n",
       "onehotencoder__x11_Senior                            1.083329   \n",
       "onehotencoder__x9_Business Services                  0.931549   \n",
       "onehotencoder__x10_$10 to $25 million (USD)         -0.927261   \n",
       "onehotencoder__x10_$2 to $5 billion (USD)           -0.865184   \n",
       "onehotencoder__x9_Insurance                          0.786844   \n",
       "onehotencoder__x4_0                                 -0.659857   \n",
       "\n",
       "                                                    The absolute value of coefs  \n",
       "onehotencoder__x7_IL                                                  20.885350  \n",
       "onehotencoder__x7_CA                                                  19.458577  \n",
       "onehotencoder__x7_UT                                                  16.180112  \n",
       "onehotencoder__x7_OH                                                  11.761645  \n",
       "onehotencoder__x7_CO                                                  10.928651  \n",
       "onehotencoder__x7_NY                                                   8.896904  \n",
       "onehotencoder__x7_NJ                                                   7.758899  \n",
       "onehotencoder__x9_Media                                                7.746343  \n",
       "onehotencoder__x7_IN                                                   7.411508  \n",
       "onehotencoder__x10_$1 to $5 million (USD)                              3.494513  \n",
       "onehotencoder__x7_NC                                                   3.459630  \n",
       "onehotencoder__x11_Junior                                              3.267515  \n",
       "onehotencoder__x7_FL                                                   3.137811  \n",
       "onehotencoder__x9_Health Care                                          2.908468  \n",
       "onehotencoder__x7_TX                                                   2.838198  \n",
       "onehotencoder__x8_Nonprofit Organization                               2.376609  \n",
       "onehotencoder__x1_0                                                    1.951054  \n",
       "onehotencoder__x0_0                                                    1.655544  \n",
       "onehotencoder__x9_Education                                            1.590593  \n",
       "onehotencoder__x9_Finance                                              1.584480  \n",
       "onehotencoder__x9_Accounting & Legal                                   1.458018  \n",
       "onehotencoder__x10_$5 to $10 million (USD)                             1.331912  \n",
       "onehotencoder__x3_0                                                    1.128464  \n",
       "onehotencoder__x10_$500 million to $1 billion (...                     1.119683  \n",
       "onehotencoder__x11_Senior                                              1.083329  \n",
       "onehotencoder__x9_Business Services                                    0.931549  \n",
       "onehotencoder__x10_$10 to $25 million (USD)                            0.927261  \n",
       "onehotencoder__x10_$2 to $5 billion (USD)                              0.865184  \n",
       "onehotencoder__x9_Insurance                                            0.786844  \n",
       "onehotencoder__x4_0                                                    0.659857  "
      ]
     },
     "execution_count": 61,
     "metadata": {},
     "output_type": "execute_result"
    }
   ],
   "source": [
    "# Display the top 30 most important features selected by lasso and thier correspnding coefficients\n",
    "pd.DataFrame({'coefs':lasso_coefs,'The absolute value of coefs':abs(lasso_coefs)}, \n",
    "             index=get_feature_names(preprocess)).sort_values('The absolute value of coefs',ascending=False).head(30)"
   ]
  },
  {
   "cell_type": "markdown",
   "metadata": {},
   "source": [
    "These results suggest that Location_CA and Location_IL are our biggest positive features, and Location_UT and Location_OH are our biggest negative features."
   ]
  },
  {
   "cell_type": "markdown",
   "metadata": {},
   "source": [
    "### 4.Random Forest Model"
   ]
  },
  {
   "cell_type": "code",
   "execution_count": 42,
   "metadata": {},
   "outputs": [],
   "source": [
    "# Define the pipeline for a random forest baseline model\n",
    "rf_pipe = make_pipeline(\n",
    "    preprocess,\n",
    "    RandomForestRegressor(random_state=47)\n",
    ")"
   ]
  },
  {
   "cell_type": "code",
   "execution_count": 43,
   "metadata": {},
   "outputs": [],
   "source": [
    "rf_default_cv_results = cross_validate(rf_pipe, X_train, y_train1, cv=5)"
   ]
  },
  {
   "cell_type": "code",
   "execution_count": 44,
   "metadata": {},
   "outputs": [
    {
     "data": {
      "text/plain": [
       "array([0.27697319, 0.23350682, 0.22367662, 0.13702231, 0.00042933])"
      ]
     },
     "execution_count": 44,
     "metadata": {},
     "output_type": "execute_result"
    }
   ],
   "source": [
    "rf_cv_scores = rf_default_cv_results['test_score']\n",
    "rf_cv_scores"
   ]
  },
  {
   "cell_type": "code",
   "execution_count": 45,
   "metadata": {},
   "outputs": [
    {
     "data": {
      "text/plain": [
       "(0.17432165442000916, 0.09808762916537621)"
      ]
     },
     "execution_count": 45,
     "metadata": {},
     "output_type": "execute_result"
    }
   ],
   "source": [
    "np.mean(rf_cv_scores), np.std(rf_cv_scores)"
   ]
  },
  {
   "cell_type": "markdown",
   "metadata": {},
   "source": [
    "The test score doesn't seem good enough. Random forest has a number of hyperparameters that can be explored, so let's see how we can improve this model by tuning the hyperparameters.  \n",
    "Since this data set is not large (about 2000 samples), the grid search may outperform the random search. Therefore, I'll just go straight to use GridSearchCV to search for the best hyperparameters."
   ]
  },
  {
   "cell_type": "markdown",
   "metadata": {},
   "source": [
    "#### Hyperparameter search using GridSearchCV"
   ]
  },
  {
   "cell_type": "code",
   "execution_count": 50,
   "metadata": {},
   "outputs": [
    {
     "data": {
      "text/plain": [
       "{'randomforestregressor__bootstrap': [True, False],\n",
       " 'randomforestregressor__max_features': ['auto', 'sqrt'],\n",
       " 'randomforestregressor__n_estimators': [10,\n",
       "  116,\n",
       "  222,\n",
       "  329,\n",
       "  435,\n",
       "  542,\n",
       "  648,\n",
       "  755,\n",
       "  861,\n",
       "  967,\n",
       "  1074,\n",
       "  1180,\n",
       "  1287,\n",
       "  1393,\n",
       "  1500]}"
      ]
     },
     "execution_count": 50,
     "metadata": {},
     "output_type": "execute_result"
    }
   ],
   "source": [
    "rf_param_grid = {\n",
    "    'randomforestregressor__bootstrap': [True, False],\n",
    "    'randomforestregressor__max_features': ['auto', 'sqrt'],\n",
    "    'randomforestregressor__n_estimators': [int(x) for x in np.linspace(start = 10, stop = 1500, num = 15)]\n",
    "}\n",
    "rf_param_grid"
   ]
  },
  {
   "cell_type": "code",
   "execution_count": 51,
   "metadata": {},
   "outputs": [],
   "source": [
    "rf_grid_cv = GridSearchCV(rf_pipe, param_grid=rf_param_grid, cv=5, n_jobs=-1)"
   ]
  },
  {
   "cell_type": "code",
   "execution_count": 52,
   "metadata": {},
   "outputs": [
    {
     "data": {
      "text/plain": [
       "GridSearchCV(cv=5,\n",
       "             estimator=Pipeline(steps=[('columntransformer',\n",
       "                                        ColumnTransformer(transformers=[('pipeline-1',\n",
       "                                                                         Pipeline(steps=[('simpleimputer',\n",
       "                                                                                          SimpleImputer(strategy='median')),\n",
       "                                                                                         ('standardscaler',\n",
       "                                                                                          StandardScaler())]),\n",
       "                                                                         ['Rating',\n",
       "                                                                          'Years '\n",
       "                                                                          'Founded']),\n",
       "                                                                        ('pipeline-2',\n",
       "                                                                         Pipeline(steps=[('simpleimputer',\n",
       "                                                                                          SimpleImputer(strategy='most_frequent')),\n",
       "                                                                                         ('onehotencoder',...\n",
       "                                                                          'Type '\n",
       "                                                                          'of '\n",
       "                                                                          'ownership',\n",
       "                                                                          'Sector',\n",
       "                                                                          'Revenue',\n",
       "                                                                          'Seniority'])])),\n",
       "                                       ('randomforestregressor',\n",
       "                                        RandomForestRegressor(random_state=47))]),\n",
       "             n_jobs=-1,\n",
       "             param_grid={'randomforestregressor__bootstrap': [True, False],\n",
       "                         'randomforestregressor__max_features': ['auto',\n",
       "                                                                 'sqrt'],\n",
       "                         'randomforestregressor__n_estimators': [10, 116, 222,\n",
       "                                                                 329, 435, 542,\n",
       "                                                                 648, 755, 861,\n",
       "                                                                 967, 1074,\n",
       "                                                                 1180, 1287,\n",
       "                                                                 1393, 1500]})"
      ]
     },
     "execution_count": 52,
     "metadata": {},
     "output_type": "execute_result"
    }
   ],
   "source": [
    "rf_grid_cv.fit(X_train, y_train1)"
   ]
  },
  {
   "cell_type": "code",
   "execution_count": 53,
   "metadata": {},
   "outputs": [
    {
     "data": {
      "text/plain": [
       "{'randomforestregressor__bootstrap': True,\n",
       " 'randomforestregressor__max_features': 'sqrt',\n",
       " 'randomforestregressor__n_estimators': 222}"
      ]
     },
     "execution_count": 53,
     "metadata": {},
     "output_type": "execute_result"
    }
   ],
   "source": [
    "rf_grid_cv.best_params_"
   ]
  },
  {
   "cell_type": "code",
   "execution_count": 54,
   "metadata": {},
   "outputs": [
    {
     "data": {
      "text/plain": [
       "array([0.3170159 , 0.24479289, 0.21544035, 0.20045812, 0.09846076])"
      ]
     },
     "execution_count": 54,
     "metadata": {},
     "output_type": "execute_result"
    }
   ],
   "source": [
    "# Assessing performance using cross-validation for prediction of y_train1: minimum salary\n",
    "rf_best_cv_results = cross_validate(rf_grid_cv.best_estimator_, X_train, y_train1, cv=5)\n",
    "rf_best_scores = rf_best_cv_results['test_score']\n",
    "rf_best_scores"
   ]
  },
  {
   "cell_type": "code",
   "execution_count": 55,
   "metadata": {},
   "outputs": [
    {
     "data": {
      "text/plain": [
       "(0.21523360488973156, 0.07083451644190034)"
      ]
     },
     "execution_count": 55,
     "metadata": {},
     "output_type": "execute_result"
    }
   ],
   "source": [
    "np.mean(rf_best_scores), np.std(rf_best_scores)"
   ]
  },
  {
   "cell_type": "markdown",
   "metadata": {},
   "source": [
    "To determine if the grid search yielded a better model, we compare the best random forestgrid search model with our random forest base model."
   ]
  },
  {
   "cell_type": "markdown",
   "metadata": {},
   "source": [
    "Recall that our random forest base model gave a mean test score of 0.17432165442000916 and 0.09808762916537621 standard deciation. Comparing to the random forest base model, the grid search we've done yielded a better result."
   ]
  },
  {
   "cell_type": "code",
   "execution_count": 63,
   "metadata": {},
   "outputs": [
    {
     "name": "stderr",
     "output_type": "stream",
     "text": [
      "<ipython-input-24-914e3f59aa47>:33: UserWarning: Transformer simpleimputer (type SimpleImputer) does not provide get_feature_names. Will return input column names if available\n",
      "  warnings.warn(\"Transformer %s (type %s) does not \"\n",
      "<ipython-input-24-914e3f59aa47>:33: UserWarning: Transformer standardscaler (type StandardScaler) does not provide get_feature_names. Will return input column names if available\n",
      "  warnings.warn(\"Transformer %s (type %s) does not \"\n"
     ]
    },
    {
     "data": {
      "image/png": "[encoded data removed]",
      "text/plain": [
       "<Figure size 720x360 with 1 Axes>"
      ]
     },
     "metadata": {
      "needs_background": "light"
     },
     "output_type": "display_data"
    }
   ],
   "source": [
    "#Plot a barplot of the random forest's feature importances (display the top 30 most important features only)\n",
    "plt.subplots(figsize=(10, 5))\n",
    "importances = rf_grid_cv.best_estimator_.named_steps.randomforestregressor.feature_importances_\n",
    "rf_feat_imps = pd.Series(importances, index=get_feature_names(preprocess)).sort_values(ascending=False).head(30)\n",
    "rf_feat_imps.plot(kind='bar')\n",
    "plt.xlabel('features')\n",
    "plt.ylabel('importance')\n",
    "plt.title('Best random forest regressor feature importances (top 30)');"
   ]
  },
  {
   "cell_type": "markdown",
   "metadata": {},
   "source": [
    "We can see that the dominant top five features are\n",
    "- YearsFounded\n",
    "- Rating\n",
    "- Location_CA\n",
    "- Location_TX\n",
    "- Location_IL  \n",
    "\n",
    "Both of the lasso and random forest models show that the locations CA and IL are very important features, but it's a bit strange that the features 'YearsFounded' and 'Rating' are the top two important features selected by the random forest model, while they don't seem important at all for the lasso model."
   ]
  }
 ],
 "metadata": {
  "kernelspec": {
   "display_name": "Python 3",
   "language": "python",
   "name": "python3"
  },
  "language_info": {
   "codemirror_mode": {
    "name": "ipython",
    "version": 3
   },
   "file_extension": ".py",
   "mimetype": "text/x-python",
   "name": "python",
   "nbconvert_exporter": "python",
   "pygments_lexer": "ipython3",
   "version": "3.8.3"
  }
 },
 "nbformat": 4,
 "nbformat_minor": 4
}
