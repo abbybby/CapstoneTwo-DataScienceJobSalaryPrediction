{
 "cells": [
  {
   "cell_type": "markdown",
   "metadata": {},
   "source": [
    "# Data Wrangling"
   ]
  },
  {
   "cell_type": "markdown",
   "metadata": {},
   "source": [
    "### Import Libraries and Load the dataset"
   ]
  },
  {
   "cell_type": "code",
   "execution_count": 1,
   "metadata": {},
   "outputs": [],
   "source": [
    "import pandas as pd\n",
    "import numpy as np\n",
    "import matplotlib.pyplot as plt\n",
    "import seaborn as sns\n",
    "import missingno as msno\n",
    "import datetime as dt\n",
    "import re "
   ]
  },
  {
   "cell_type": "code",
   "execution_count": 2,
   "metadata": {},
   "outputs": [],
   "source": [
    "job_data = pd.read_csv('../raw data/DataAnalyst.csv')"
   ]
  },
  {
   "cell_type": "code",
   "execution_count": 3,
   "metadata": {},
   "outputs": [
    {
     "name": "stdout",
     "output_type": "stream",
     "text": [
      "<class 'pandas.core.frame.DataFrame'>\n",
      "RangeIndex: 2253 entries, 0 to 2252\n",
      "Data columns (total 16 columns):\n",
      " #   Column             Non-Null Count  Dtype  \n",
      "---  ------             --------------  -----  \n",
      " 0   Unnamed: 0         2253 non-null   int64  \n",
      " 1   Job Title          2253 non-null   object \n",
      " 2   Salary Estimate    2253 non-null   object \n",
      " 3   Job Description    2253 non-null   object \n",
      " 4   Rating             2253 non-null   float64\n",
      " 5   Company Name       2252 non-null   object \n",
      " 6   Location           2253 non-null   object \n",
      " 7   Headquarters       2253 non-null   object \n",
      " 8   Size               2253 non-null   object \n",
      " 9   Founded            2253 non-null   int64  \n",
      " 10  Type of ownership  2253 non-null   object \n",
      " 11  Industry           2253 non-null   object \n",
      " 12  Sector             2253 non-null   object \n",
      " 13  Revenue            2253 non-null   object \n",
      " 14  Competitors        2253 non-null   object \n",
      " 15  Easy Apply         2253 non-null   object \n",
      "dtypes: float64(1), int64(2), object(13)\n",
      "memory usage: 281.8+ KB\n"
     ]
    }
   ],
   "source": [
    "job_data.info()"
   ]
  },
  {
   "cell_type": "code",
   "execution_count": 4,
   "metadata": {},
   "outputs": [],
   "source": [
    "#remove the unnamed column\n",
    "job_data.drop(['Unnamed: 0'], axis=1,inplace=True)"
   ]
  },
  {
   "cell_type": "code",
   "execution_count": 5,
   "metadata": {},
   "outputs": [
    {
     "data": {
      "text/html": [
       "<div>\n",
       "<style scoped>\n",
       "    .dataframe tbody tr th:only-of-type {\n",
       "        vertical-align: middle;\n",
       "    }\n",
       "\n",
       "    .dataframe tbody tr th {\n",
       "        vertical-align: top;\n",
       "    }\n",
       "\n",
       "    .dataframe thead th {\n",
       "        text-align: right;\n",
       "    }\n",
       "</style>\n",
       "<table border=\"1\" class=\"dataframe\">\n",
       "  <thead>\n",
       "    <tr style=\"text-align: right;\">\n",
       "      <th></th>\n",
       "      <th>Job Title</th>\n",
       "      <th>Salary Estimate</th>\n",
       "      <th>Job Description</th>\n",
       "      <th>Rating</th>\n",
       "      <th>Company Name</th>\n",
       "      <th>Location</th>\n",
       "      <th>Headquarters</th>\n",
       "      <th>Size</th>\n",
       "      <th>Founded</th>\n",
       "      <th>Type of ownership</th>\n",
       "      <th>Industry</th>\n",
       "      <th>Sector</th>\n",
       "      <th>Revenue</th>\n",
       "      <th>Competitors</th>\n",
       "      <th>Easy Apply</th>\n",
       "    </tr>\n",
       "  </thead>\n",
       "  <tbody>\n",
       "    <tr>\n",
       "      <th>0</th>\n",
       "      <td>Data Analyst, Center on Immigration and Justic...</td>\n",
       "      <td>$37K-$66K (Glassdoor est.)</td>\n",
       "      <td>Are you eager to roll up your sleeves and harn...</td>\n",
       "      <td>3.2</td>\n",
       "      <td>Vera Institute of Justice\\n3.2</td>\n",
       "      <td>New York, NY</td>\n",
       "      <td>New York, NY</td>\n",
       "      <td>201 to 500 employees</td>\n",
       "      <td>1961</td>\n",
       "      <td>Nonprofit Organization</td>\n",
       "      <td>Social Assistance</td>\n",
       "      <td>Non-Profit</td>\n",
       "      <td>$100 to $500 million (USD)</td>\n",
       "      <td>-1</td>\n",
       "      <td>True</td>\n",
       "    </tr>\n",
       "    <tr>\n",
       "      <th>1</th>\n",
       "      <td>Quality Data Analyst</td>\n",
       "      <td>$37K-$66K (Glassdoor est.)</td>\n",
       "      <td>Overview\\n\\nProvides analytical and technical ...</td>\n",
       "      <td>3.8</td>\n",
       "      <td>Visiting Nurse Service of New York\\n3.8</td>\n",
       "      <td>New York, NY</td>\n",
       "      <td>New York, NY</td>\n",
       "      <td>10000+ employees</td>\n",
       "      <td>1893</td>\n",
       "      <td>Nonprofit Organization</td>\n",
       "      <td>Health Care Services &amp; Hospitals</td>\n",
       "      <td>Health Care</td>\n",
       "      <td>$2 to $5 billion (USD)</td>\n",
       "      <td>-1</td>\n",
       "      <td>-1</td>\n",
       "    </tr>\n",
       "    <tr>\n",
       "      <th>2</th>\n",
       "      <td>Senior Data Analyst, Insights &amp; Analytics Team...</td>\n",
       "      <td>$37K-$66K (Glassdoor est.)</td>\n",
       "      <td>We’re looking for a Senior Data Analyst who ha...</td>\n",
       "      <td>3.4</td>\n",
       "      <td>Squarespace\\n3.4</td>\n",
       "      <td>New York, NY</td>\n",
       "      <td>New York, NY</td>\n",
       "      <td>1001 to 5000 employees</td>\n",
       "      <td>2003</td>\n",
       "      <td>Company - Private</td>\n",
       "      <td>Internet</td>\n",
       "      <td>Information Technology</td>\n",
       "      <td>Unknown / Non-Applicable</td>\n",
       "      <td>GoDaddy</td>\n",
       "      <td>-1</td>\n",
       "    </tr>\n",
       "    <tr>\n",
       "      <th>3</th>\n",
       "      <td>Data Analyst</td>\n",
       "      <td>$37K-$66K (Glassdoor est.)</td>\n",
       "      <td>Requisition NumberRR-0001939\\nRemote:Yes\\nWe c...</td>\n",
       "      <td>4.1</td>\n",
       "      <td>Celerity\\n4.1</td>\n",
       "      <td>New York, NY</td>\n",
       "      <td>McLean, VA</td>\n",
       "      <td>201 to 500 employees</td>\n",
       "      <td>2002</td>\n",
       "      <td>Subsidiary or Business Segment</td>\n",
       "      <td>IT Services</td>\n",
       "      <td>Information Technology</td>\n",
       "      <td>$50 to $100 million (USD)</td>\n",
       "      <td>-1</td>\n",
       "      <td>-1</td>\n",
       "    </tr>\n",
       "    <tr>\n",
       "      <th>4</th>\n",
       "      <td>Reporting Data Analyst</td>\n",
       "      <td>$37K-$66K (Glassdoor est.)</td>\n",
       "      <td>ABOUT FANDUEL GROUP\\n\\nFanDuel Group is a worl...</td>\n",
       "      <td>3.9</td>\n",
       "      <td>FanDuel\\n3.9</td>\n",
       "      <td>New York, NY</td>\n",
       "      <td>New York, NY</td>\n",
       "      <td>501 to 1000 employees</td>\n",
       "      <td>2009</td>\n",
       "      <td>Company - Private</td>\n",
       "      <td>Sports &amp; Recreation</td>\n",
       "      <td>Arts, Entertainment &amp; Recreation</td>\n",
       "      <td>$100 to $500 million (USD)</td>\n",
       "      <td>DraftKings</td>\n",
       "      <td>True</td>\n",
       "    </tr>\n",
       "  </tbody>\n",
       "</table>\n",
       "</div>"
      ],
      "text/plain": [
       "                                           Job Title  \\\n",
       "0  Data Analyst, Center on Immigration and Justic...   \n",
       "1                               Quality Data Analyst   \n",
       "2  Senior Data Analyst, Insights & Analytics Team...   \n",
       "3                                       Data Analyst   \n",
       "4                             Reporting Data Analyst   \n",
       "\n",
       "              Salary Estimate  \\\n",
       "0  $37K-$66K (Glassdoor est.)   \n",
       "1  $37K-$66K (Glassdoor est.)   \n",
       "2  $37K-$66K (Glassdoor est.)   \n",
       "3  $37K-$66K (Glassdoor est.)   \n",
       "4  $37K-$66K (Glassdoor est.)   \n",
       "\n",
       "                                     Job Description  Rating  \\\n",
       "0  Are you eager to roll up your sleeves and harn...     3.2   \n",
       "1  Overview\\n\\nProvides analytical and technical ...     3.8   \n",
       "2  We’re looking for a Senior Data Analyst who ha...     3.4   \n",
       "3  Requisition NumberRR-0001939\\nRemote:Yes\\nWe c...     4.1   \n",
       "4  ABOUT FANDUEL GROUP\\n\\nFanDuel Group is a worl...     3.9   \n",
       "\n",
       "                              Company Name      Location  Headquarters  \\\n",
       "0           Vera Institute of Justice\\n3.2  New York, NY  New York, NY   \n",
       "1  Visiting Nurse Service of New York\\n3.8  New York, NY  New York, NY   \n",
       "2                         Squarespace\\n3.4  New York, NY  New York, NY   \n",
       "3                            Celerity\\n4.1  New York, NY    McLean, VA   \n",
       "4                             FanDuel\\n3.9  New York, NY  New York, NY   \n",
       "\n",
       "                     Size  Founded               Type of ownership  \\\n",
       "0    201 to 500 employees     1961          Nonprofit Organization   \n",
       "1        10000+ employees     1893          Nonprofit Organization   \n",
       "2  1001 to 5000 employees     2003               Company - Private   \n",
       "3    201 to 500 employees     2002  Subsidiary or Business Segment   \n",
       "4   501 to 1000 employees     2009               Company - Private   \n",
       "\n",
       "                           Industry                            Sector  \\\n",
       "0                 Social Assistance                        Non-Profit   \n",
       "1  Health Care Services & Hospitals                       Health Care   \n",
       "2                          Internet            Information Technology   \n",
       "3                       IT Services            Information Technology   \n",
       "4               Sports & Recreation  Arts, Entertainment & Recreation   \n",
       "\n",
       "                      Revenue Competitors Easy Apply  \n",
       "0  $100 to $500 million (USD)          -1       True  \n",
       "1      $2 to $5 billion (USD)          -1         -1  \n",
       "2    Unknown / Non-Applicable     GoDaddy         -1  \n",
       "3   $50 to $100 million (USD)          -1         -1  \n",
       "4  $100 to $500 million (USD)  DraftKings       True  "
      ]
     },
     "execution_count": 5,
     "metadata": {},
     "output_type": "execute_result"
    }
   ],
   "source": [
    "job_data.head()"
   ]
  },
  {
   "cell_type": "markdown",
   "metadata": {},
   "source": [
    "### Check for Missing Values"
   ]
  },
  {
   "cell_type": "code",
   "execution_count": 6,
   "metadata": {},
   "outputs": [
    {
     "data": {
      "text/html": [
       "<div>\n",
       "<style scoped>\n",
       "    .dataframe tbody tr th:only-of-type {\n",
       "        vertical-align: middle;\n",
       "    }\n",
       "\n",
       "    .dataframe tbody tr th {\n",
       "        vertical-align: top;\n",
       "    }\n",
       "\n",
       "    .dataframe thead th {\n",
       "        text-align: right;\n",
       "    }\n",
       "</style>\n",
       "<table border=\"1\" class=\"dataframe\">\n",
       "  <thead>\n",
       "    <tr style=\"text-align: right;\">\n",
       "      <th></th>\n",
       "      <th>count</th>\n",
       "      <th>%</th>\n",
       "    </tr>\n",
       "  </thead>\n",
       "  <tbody>\n",
       "    <tr>\n",
       "      <th>Company Name</th>\n",
       "      <td>1</td>\n",
       "      <td>0.044385</td>\n",
       "    </tr>\n",
       "    <tr>\n",
       "      <th>Job Title</th>\n",
       "      <td>0</td>\n",
       "      <td>0.000000</td>\n",
       "    </tr>\n",
       "    <tr>\n",
       "      <th>Salary Estimate</th>\n",
       "      <td>0</td>\n",
       "      <td>0.000000</td>\n",
       "    </tr>\n",
       "    <tr>\n",
       "      <th>Job Description</th>\n",
       "      <td>0</td>\n",
       "      <td>0.000000</td>\n",
       "    </tr>\n",
       "    <tr>\n",
       "      <th>Rating</th>\n",
       "      <td>0</td>\n",
       "      <td>0.000000</td>\n",
       "    </tr>\n",
       "    <tr>\n",
       "      <th>Location</th>\n",
       "      <td>0</td>\n",
       "      <td>0.000000</td>\n",
       "    </tr>\n",
       "    <tr>\n",
       "      <th>Headquarters</th>\n",
       "      <td>0</td>\n",
       "      <td>0.000000</td>\n",
       "    </tr>\n",
       "    <tr>\n",
       "      <th>Size</th>\n",
       "      <td>0</td>\n",
       "      <td>0.000000</td>\n",
       "    </tr>\n",
       "    <tr>\n",
       "      <th>Founded</th>\n",
       "      <td>0</td>\n",
       "      <td>0.000000</td>\n",
       "    </tr>\n",
       "    <tr>\n",
       "      <th>Type of ownership</th>\n",
       "      <td>0</td>\n",
       "      <td>0.000000</td>\n",
       "    </tr>\n",
       "    <tr>\n",
       "      <th>Industry</th>\n",
       "      <td>0</td>\n",
       "      <td>0.000000</td>\n",
       "    </tr>\n",
       "    <tr>\n",
       "      <th>Sector</th>\n",
       "      <td>0</td>\n",
       "      <td>0.000000</td>\n",
       "    </tr>\n",
       "    <tr>\n",
       "      <th>Revenue</th>\n",
       "      <td>0</td>\n",
       "      <td>0.000000</td>\n",
       "    </tr>\n",
       "    <tr>\n",
       "      <th>Competitors</th>\n",
       "      <td>0</td>\n",
       "      <td>0.000000</td>\n",
       "    </tr>\n",
       "    <tr>\n",
       "      <th>Easy Apply</th>\n",
       "      <td>0</td>\n",
       "      <td>0.000000</td>\n",
       "    </tr>\n",
       "  </tbody>\n",
       "</table>\n",
       "</div>"
      ],
      "text/plain": [
       "                   count         %\n",
       "Company Name           1  0.044385\n",
       "Job Title              0  0.000000\n",
       "Salary Estimate        0  0.000000\n",
       "Job Description        0  0.000000\n",
       "Rating                 0  0.000000\n",
       "Location               0  0.000000\n",
       "Headquarters           0  0.000000\n",
       "Size                   0  0.000000\n",
       "Founded                0  0.000000\n",
       "Type of ownership      0  0.000000\n",
       "Industry               0  0.000000\n",
       "Sector                 0  0.000000\n",
       "Revenue                0  0.000000\n",
       "Competitors            0  0.000000\n",
       "Easy Apply             0  0.000000"
      ]
     },
     "execution_count": 6,
     "metadata": {},
     "output_type": "execute_result"
    }
   ],
   "source": [
    "missing = pd.concat([job_data.isnull().sum(), 100 * job_data.isnull().mean()], axis=1)\n",
    "missing.columns=['count', '%']\n",
    "missing.sort_values(by=['count','%'],ascending= False)"
   ]
  },
  {
   "cell_type": "markdown",
   "metadata": {},
   "source": [
    "Sometimes 'missingness' can be encoded, perhaps by a -1 or 999 since isnull() is not the only indicator of missing data, we need to do some investigation here."
   ]
  },
  {
   "cell_type": "code",
   "execution_count": 7,
   "metadata": {
    "scrolled": true
   },
   "outputs": [
    {
     "name": "stdout",
     "output_type": "stream",
     "text": [
      "<class 'pandas.core.frame.DataFrame'>\n",
      "RangeIndex: 2253 entries, 0 to 2252\n",
      "Data columns (total 15 columns):\n",
      " #   Column             Non-Null Count  Dtype  \n",
      "---  ------             --------------  -----  \n",
      " 0   Job Title          2253 non-null   string \n",
      " 1   Salary Estimate    2253 non-null   string \n",
      " 2   Job Description    2253 non-null   string \n",
      " 3   Rating             2253 non-null   float64\n",
      " 4   Company Name       2252 non-null   string \n",
      " 5   Location           2253 non-null   string \n",
      " 6   Headquarters       2253 non-null   string \n",
      " 7   Size               2253 non-null   string \n",
      " 8   Founded            2253 non-null   int64  \n",
      " 9   Type of ownership  2253 non-null   string \n",
      " 10  Industry           2253 non-null   string \n",
      " 11  Sector             2253 non-null   string \n",
      " 12  Revenue            2253 non-null   string \n",
      " 13  Competitors        2253 non-null   string \n",
      " 14  Easy Apply         2253 non-null   string \n",
      "dtypes: float64(1), int64(1), string(13)\n",
      "memory usage: 264.1 KB\n"
     ]
    }
   ],
   "source": [
    "#converting data types\n",
    "job_data = job_data.astype({'Job Title':'string','Salary Estimate':'string','Job Description':'string','Company Name':'string',\n",
    "                           'Location':'string','Headquarters':'string','Size':'string','Type of ownership':'string',\n",
    "                           'Industry':'string','Sector':'string','Revenue':'string','Competitors':'string','Easy Apply':'string'})\n",
    "job_data.info()"
   ]
  },
  {
   "cell_type": "code",
   "execution_count": 8,
   "metadata": {},
   "outputs": [
    {
     "data": {
      "text/plain": [
       "-1                                                                  1732\n",
       "Adecco, Manpower                                                      14\n",
       "Robert Half, Insight Global                                           14\n",
       "TEKsystems, Insight Global, Accenture                                 10\n",
       "Artech Information Systems, Mindlance, Tech Mahindra                  10\n",
       "                                                                    ... \n",
       "Sunrun, Vivint Solar, Trinity Solar                                    1\n",
       "OpenSymmetry, Perficient, DataClarity                                  1\n",
       "PathFinder Staffing, Juno Search Partners, Robert Half                 1\n",
       "Blue Yonder, SAP, NCR                                                  1\n",
       "Illumina, Thermo Fisher Scientific, Oxford Nanopore Technologies       1\n",
       "Name: Competitors, Length: 291, dtype: Int64"
      ]
     },
     "execution_count": 8,
     "metadata": {},
     "output_type": "execute_result"
    }
   ],
   "source": [
    "job_data['Competitors'].value_counts()"
   ]
  },
  {
   "cell_type": "code",
   "execution_count": 9,
   "metadata": {},
   "outputs": [
    {
     "data": {
      "text/plain": [
       "$41K-$78K (Glassdoor est.)     57\n",
       "$42K-$76K (Glassdoor est.)     57\n",
       "$50K-$86K (Glassdoor est.)     41\n",
       "$35K-$67K (Glassdoor est.)     33\n",
       "$60K-$124K (Glassdoor est.)    31\n",
       "                               ..\n",
       "$36K-$67K (Glassdoor est.)      3\n",
       "$47K-$81K (Glassdoor est.)      3\n",
       "$43K-$77K (Glassdoor est.)      3\n",
       "$57K-$70K (Glassdoor est.)      2\n",
       "-1                              1\n",
       "Name: Salary Estimate, Length: 90, dtype: Int64"
      ]
     },
     "execution_count": 9,
     "metadata": {},
     "output_type": "execute_result"
    }
   ],
   "source": [
    "job_data['Salary Estimate'].value_counts()"
   ]
  },
  {
   "cell_type": "code",
   "execution_count": 10,
   "metadata": {},
   "outputs": [
    {
     "data": {
      "text/plain": [
       "-1.0    272\n",
       " 3.9    140\n",
       " 3.6    135\n",
       " 3.7    132\n",
       " 5.0    131\n",
       " 3.8    130\n",
       " 4.0    129\n",
       " 3.5    125\n",
       " 4.1    119\n",
       " 3.3    109\n",
       " 3.4    101\n",
       " 3.2     91\n",
       " 3.1     68\n",
       " 3.0     57\n",
       " 4.3     55\n",
       " 4.2     47\n",
       " 4.5     47\n",
       " 4.6     46\n",
       " 4.4     46\n",
       " 2.8     43\n",
       " 2.9     40\n",
       " 2.5     32\n",
       " 4.8     29\n",
       " 2.7     25\n",
       " 4.7     23\n",
       " 4.9     17\n",
       " 2.6     14\n",
       " 2.4     10\n",
       " 1.0     10\n",
       " 2.3      9\n",
       " 2.0      6\n",
       " 2.1      4\n",
       " 2.2      3\n",
       " 1.6      2\n",
       " 1.8      2\n",
       " 1.9      2\n",
       " 1.7      2\n",
       "Name: Rating, dtype: int64"
      ]
     },
     "execution_count": 10,
     "metadata": {},
     "output_type": "execute_result"
    }
   ],
   "source": [
    "job_data['Rating'].value_counts()"
   ]
  },
  {
   "cell_type": "code",
   "execution_count": 11,
   "metadata": {},
   "outputs": [
    {
     "data": {
      "text/plain": [
       "51 to 200 employees        421\n",
       "10000+ employees           375\n",
       "1001 to 5000 employees     348\n",
       "1 to 50 employees          347\n",
       "201 to 500 employees       249\n",
       "501 to 1000 employees      211\n",
       "-1                         163\n",
       "5001 to 10000 employees     97\n",
       "Unknown                     42\n",
       "Name: Size, dtype: Int64"
      ]
     },
     "execution_count": 11,
     "metadata": {},
     "output_type": "execute_result"
    }
   ],
   "source": [
    "job_data['Size'].value_counts()"
   ]
  },
  {
   "cell_type": "code",
   "execution_count": 12,
   "metadata": {},
   "outputs": [
    {
     "data": {
      "text/plain": [
       "Unknown / Non-Applicable            615\n",
       "$100 to $500 million (USD)          218\n",
       "$50 to $100 million (USD)           199\n",
       "$10+ billion (USD)                  189\n",
       "-1                                  163\n",
       "$10 to $25 million (USD)            132\n",
       "$2 to $5 billion (USD)              129\n",
       "$1 to $5 million (USD)              111\n",
       "$25 to $50 million (USD)            110\n",
       "Less than $1 million (USD)           93\n",
       "$1 to $2 billion (USD)               87\n",
       "$500 million to $1 billion (USD)     79\n",
       "$5 to $10 million (USD)              72\n",
       "$5 to $10 billion (USD)              56\n",
       "Name: Revenue, dtype: Int64"
      ]
     },
     "execution_count": 12,
     "metadata": {},
     "output_type": "execute_result"
    }
   ],
   "source": [
    "job_data['Revenue'].value_counts()"
   ]
  },
  {
   "cell_type": "code",
   "execution_count": 13,
   "metadata": {},
   "outputs": [
    {
     "data": {
      "text/plain": [
       "-1       660\n",
       " 2008     80\n",
       " 1996     54\n",
       " 2000     54\n",
       " 2002     54\n",
       "        ... \n",
       " 1924      1\n",
       " 1922      1\n",
       " 1918      1\n",
       " 1908      1\n",
       " 1682      1\n",
       "Name: Founded, Length: 161, dtype: int64"
      ]
     },
     "execution_count": 13,
     "metadata": {},
     "output_type": "execute_result"
    }
   ],
   "source": [
    "job_data['Founded'].value_counts()"
   ]
  },
  {
   "cell_type": "code",
   "execution_count": 14,
   "metadata": {},
   "outputs": [
    {
     "data": {
      "text/plain": [
       "Company - Private                 1273\n",
       "Company - Public                   452\n",
       "-1                                 163\n",
       "Nonprofit Organization             124\n",
       "Subsidiary or Business Segment      89\n",
       "Government                          37\n",
       "College / University                34\n",
       "Hospital                            19\n",
       "Unknown                             16\n",
       "Other Organization                  13\n",
       "Contract                            11\n",
       "School / School District             9\n",
       "Private Practice / Firm              9\n",
       "Self-employed                        2\n",
       "Franchise                            2\n",
       "Name: Type of ownership, dtype: Int64"
      ]
     },
     "execution_count": 14,
     "metadata": {},
     "output_type": "execute_result"
    }
   ],
   "source": [
    "job_data['Type of ownership'].value_counts()"
   ]
  },
  {
   "cell_type": "code",
   "execution_count": 15,
   "metadata": {},
   "outputs": [
    {
     "data": {
      "text/plain": [
       "-1                                          353\n",
       "IT Services                                 325\n",
       "Staffing & Outsourcing                      323\n",
       "Health Care Services & Hospitals            151\n",
       "Computer Hardware & Software                111\n",
       "                                           ... \n",
       "Stock Exchanges                               1\n",
       "Consumer Electronics & Appliances Stores      1\n",
       "Pet & Pet Supplies Stores                     1\n",
       "Express Delivery Services                     1\n",
       "Chemical Manufacturing                        1\n",
       "Name: Industry, Length: 89, dtype: Int64"
      ]
     },
     "execution_count": 15,
     "metadata": {},
     "output_type": "execute_result"
    }
   ],
   "source": [
    "job_data['Industry'].value_counts()"
   ]
  },
  {
   "cell_type": "code",
   "execution_count": 16,
   "metadata": {},
   "outputs": [
    {
     "data": {
      "text/plain": [
       "Information Technology                570\n",
       "Business Services                     524\n",
       "-1                                    353\n",
       "Finance                               169\n",
       "Health Care                           151\n",
       "Education                              52\n",
       "Insurance                              51\n",
       "Accounting & Legal                     43\n",
       "Media                                  42\n",
       "Manufacturing                          40\n",
       "Retail                                 38\n",
       "Government                             36\n",
       "Biotech & Pharmaceuticals              33\n",
       "Non-Profit                             26\n",
       "Aerospace & Defense                    22\n",
       "Transportation & Logistics             20\n",
       "Construction, Repair & Maintenance     16\n",
       "Consumer Services                      14\n",
       "Oil, Gas, Energy & Utilities           13\n",
       "Real Estate                            12\n",
       "Telecommunications                     11\n",
       "Restaurants, Bars & Food Services       8\n",
       "Arts, Entertainment & Recreation        7\n",
       "Travel & Tourism                        1\n",
       "Mining & Metals                         1\n",
       "Name: Sector, dtype: Int64"
      ]
     },
     "execution_count": 16,
     "metadata": {},
     "output_type": "execute_result"
    }
   ],
   "source": [
    "job_data['Sector'].value_counts()"
   ]
  },
  {
   "cell_type": "markdown",
   "metadata": {},
   "source": [
    "It seems like some of the columns contain null data like -1, '-1', -1.0, 'Unknown', and 'Unknown / Non-Applicable',and we need to clean these."
   ]
  },
  {
   "cell_type": "code",
   "execution_count": 17,
   "metadata": {},
   "outputs": [],
   "source": [
    "job_data=job_data.replace(-1,np.nan)\n",
    "job_data=job_data.replace(-1.0,np.nan)\n",
    "job_data=job_data.replace('-1',np.nan)\n",
    "job_data=job_data.replace('Unknown',np.nan)\n",
    "job_data=job_data.replace('Unknown / Non-Applicable',np.nan)"
   ]
  },
  {
   "cell_type": "code",
   "execution_count": 18,
   "metadata": {},
   "outputs": [
    {
     "data": {
      "text/html": [
       "<div>\n",
       "<style scoped>\n",
       "    .dataframe tbody tr th:only-of-type {\n",
       "        vertical-align: middle;\n",
       "    }\n",
       "\n",
       "    .dataframe tbody tr th {\n",
       "        vertical-align: top;\n",
       "    }\n",
       "\n",
       "    .dataframe thead th {\n",
       "        text-align: right;\n",
       "    }\n",
       "</style>\n",
       "<table border=\"1\" class=\"dataframe\">\n",
       "  <thead>\n",
       "    <tr style=\"text-align: right;\">\n",
       "      <th></th>\n",
       "      <th>count</th>\n",
       "      <th>%</th>\n",
       "    </tr>\n",
       "  </thead>\n",
       "  <tbody>\n",
       "    <tr>\n",
       "      <th>Easy Apply</th>\n",
       "      <td>2173</td>\n",
       "      <td>96.449179</td>\n",
       "    </tr>\n",
       "    <tr>\n",
       "      <th>Competitors</th>\n",
       "      <td>1732</td>\n",
       "      <td>76.875277</td>\n",
       "    </tr>\n",
       "    <tr>\n",
       "      <th>Revenue</th>\n",
       "      <td>778</td>\n",
       "      <td>34.531735</td>\n",
       "    </tr>\n",
       "    <tr>\n",
       "      <th>Founded</th>\n",
       "      <td>660</td>\n",
       "      <td>29.294274</td>\n",
       "    </tr>\n",
       "    <tr>\n",
       "      <th>Industry</th>\n",
       "      <td>353</td>\n",
       "      <td>15.667998</td>\n",
       "    </tr>\n",
       "    <tr>\n",
       "      <th>Sector</th>\n",
       "      <td>353</td>\n",
       "      <td>15.667998</td>\n",
       "    </tr>\n",
       "    <tr>\n",
       "      <th>Rating</th>\n",
       "      <td>272</td>\n",
       "      <td>12.072792</td>\n",
       "    </tr>\n",
       "    <tr>\n",
       "      <th>Size</th>\n",
       "      <td>205</td>\n",
       "      <td>9.098979</td>\n",
       "    </tr>\n",
       "    <tr>\n",
       "      <th>Type of ownership</th>\n",
       "      <td>179</td>\n",
       "      <td>7.944962</td>\n",
       "    </tr>\n",
       "    <tr>\n",
       "      <th>Headquarters</th>\n",
       "      <td>172</td>\n",
       "      <td>7.634265</td>\n",
       "    </tr>\n",
       "    <tr>\n",
       "      <th>Salary Estimate</th>\n",
       "      <td>1</td>\n",
       "      <td>0.044385</td>\n",
       "    </tr>\n",
       "    <tr>\n",
       "      <th>Company Name</th>\n",
       "      <td>1</td>\n",
       "      <td>0.044385</td>\n",
       "    </tr>\n",
       "    <tr>\n",
       "      <th>Job Title</th>\n",
       "      <td>0</td>\n",
       "      <td>0.000000</td>\n",
       "    </tr>\n",
       "    <tr>\n",
       "      <th>Job Description</th>\n",
       "      <td>0</td>\n",
       "      <td>0.000000</td>\n",
       "    </tr>\n",
       "    <tr>\n",
       "      <th>Location</th>\n",
       "      <td>0</td>\n",
       "      <td>0.000000</td>\n",
       "    </tr>\n",
       "  </tbody>\n",
       "</table>\n",
       "</div>"
      ],
      "text/plain": [
       "                   count          %\n",
       "Easy Apply          2173  96.449179\n",
       "Competitors         1732  76.875277\n",
       "Revenue              778  34.531735\n",
       "Founded              660  29.294274\n",
       "Industry             353  15.667998\n",
       "Sector               353  15.667998\n",
       "Rating               272  12.072792\n",
       "Size                 205   9.098979\n",
       "Type of ownership    179   7.944962\n",
       "Headquarters         172   7.634265\n",
       "Salary Estimate        1   0.044385\n",
       "Company Name           1   0.044385\n",
       "Job Title              0   0.000000\n",
       "Job Description        0   0.000000\n",
       "Location               0   0.000000"
      ]
     },
     "execution_count": 18,
     "metadata": {},
     "output_type": "execute_result"
    }
   ],
   "source": [
    "new_missing = pd.concat([job_data.isnull().sum(), 100 * job_data.isnull().mean()], axis=1)\n",
    "new_missing.columns=['count', '%']\n",
    "new_missing.sort_values(by=['count','%'],ascending= False)"
   ]
  },
  {
   "cell_type": "code",
   "execution_count": 19,
   "metadata": {},
   "outputs": [
    {
     "data": {
      "image/png": "[encoded data removed]",
      "text/plain": [
       "<Figure size 1800x720 with 2 Axes>"
      ]
     },
     "metadata": {
      "needs_background": "light"
     },
     "output_type": "display_data"
    }
   ],
   "source": [
    "# Visualize missingness\n",
    "msno.matrix(job_data.sort_values(by = 'Rating',ascending = True))\n",
    "plt.show()"
   ]
  },
  {
   "cell_type": "markdown",
   "metadata": {},
   "source": [
    "Now we can see that 'Easy Apply' and 'Competitors' have maximum number of missing values, which are 96% and 77%, respectively. According to Glassdoor, 'Easy Apply' is a job application mechanism that allows job seekers to apply to a job requisition directly on Glassdoor. Since these two columns are not features that directly related to the salary, we will drop these columns. There is essentially no information in these two columns.\n",
    "In addition, note that there seems to be a pattern on some of the missing data. For examples, missing industry info always occur with missing sector info; also, the missingness of headquaters, size, type of ownership, and revenue are very consistent, and when these data are missing, the rating is missing too."
   ]
  },
  {
   "cell_type": "code",
   "execution_count": 20,
   "metadata": {},
   "outputs": [],
   "source": [
    "#Drop Competitors and Easy Apply\n",
    "job_data.drop(['Competitors','Easy Apply'], axis=1,inplace=True)"
   ]
  },
  {
   "cell_type": "code",
   "execution_count": 21,
   "metadata": {},
   "outputs": [],
   "source": [
    "#Drop the one row with missing Salary infomation since salary is our target.\n",
    "job_data.drop(job_data[job_data['Salary Estimate'].isna()].index,inplace=True)"
   ]
  },
  {
   "cell_type": "code",
   "execution_count": 22,
   "metadata": {},
   "outputs": [
    {
     "data": {
      "text/plain": [
       "164"
      ]
     },
     "execution_count": 22,
     "metadata": {},
     "output_type": "execute_result"
    }
   ],
   "source": [
    "#See how many rows that contain more than half of missing values\n",
    "job_data[job_data.isna().sum(axis=1)>6].shape[0]"
   ]
  },
  {
   "cell_type": "code",
   "execution_count": 23,
   "metadata": {},
   "outputs": [],
   "source": [
    "#drop these all rows that contain more than 50% of missing values \n",
    "job_data.drop(job_data[job_data.isna().sum(axis=1)>6].index,inplace = True)"
   ]
  },
  {
   "cell_type": "code",
   "execution_count": 24,
   "metadata": {},
   "outputs": [
    {
     "data": {
      "text/html": [
       "<div>\n",
       "<style scoped>\n",
       "    .dataframe tbody tr th:only-of-type {\n",
       "        vertical-align: middle;\n",
       "    }\n",
       "\n",
       "    .dataframe tbody tr th {\n",
       "        vertical-align: top;\n",
       "    }\n",
       "\n",
       "    .dataframe thead th {\n",
       "        text-align: right;\n",
       "    }\n",
       "</style>\n",
       "<table border=\"1\" class=\"dataframe\">\n",
       "  <thead>\n",
       "    <tr style=\"text-align: right;\">\n",
       "      <th></th>\n",
       "      <th>count</th>\n",
       "      <th>%</th>\n",
       "    </tr>\n",
       "  </thead>\n",
       "  <tbody>\n",
       "    <tr>\n",
       "      <th>Revenue</th>\n",
       "      <td>614</td>\n",
       "      <td>29.406130</td>\n",
       "    </tr>\n",
       "    <tr>\n",
       "      <th>Founded</th>\n",
       "      <td>496</td>\n",
       "      <td>23.754789</td>\n",
       "    </tr>\n",
       "    <tr>\n",
       "      <th>Industry</th>\n",
       "      <td>189</td>\n",
       "      <td>9.051724</td>\n",
       "    </tr>\n",
       "    <tr>\n",
       "      <th>Sector</th>\n",
       "      <td>189</td>\n",
       "      <td>9.051724</td>\n",
       "    </tr>\n",
       "    <tr>\n",
       "      <th>Rating</th>\n",
       "      <td>108</td>\n",
       "      <td>5.172414</td>\n",
       "    </tr>\n",
       "    <tr>\n",
       "      <th>Size</th>\n",
       "      <td>41</td>\n",
       "      <td>1.963602</td>\n",
       "    </tr>\n",
       "    <tr>\n",
       "      <th>Type of ownership</th>\n",
       "      <td>15</td>\n",
       "      <td>0.718391</td>\n",
       "    </tr>\n",
       "    <tr>\n",
       "      <th>Headquarters</th>\n",
       "      <td>9</td>\n",
       "      <td>0.431034</td>\n",
       "    </tr>\n",
       "    <tr>\n",
       "      <th>Job Title</th>\n",
       "      <td>0</td>\n",
       "      <td>0.000000</td>\n",
       "    </tr>\n",
       "    <tr>\n",
       "      <th>Salary Estimate</th>\n",
       "      <td>0</td>\n",
       "      <td>0.000000</td>\n",
       "    </tr>\n",
       "    <tr>\n",
       "      <th>Job Description</th>\n",
       "      <td>0</td>\n",
       "      <td>0.000000</td>\n",
       "    </tr>\n",
       "    <tr>\n",
       "      <th>Company Name</th>\n",
       "      <td>0</td>\n",
       "      <td>0.000000</td>\n",
       "    </tr>\n",
       "    <tr>\n",
       "      <th>Location</th>\n",
       "      <td>0</td>\n",
       "      <td>0.000000</td>\n",
       "    </tr>\n",
       "  </tbody>\n",
       "</table>\n",
       "</div>"
      ],
      "text/plain": [
       "                   count          %\n",
       "Revenue              614  29.406130\n",
       "Founded              496  23.754789\n",
       "Industry             189   9.051724\n",
       "Sector               189   9.051724\n",
       "Rating               108   5.172414\n",
       "Size                  41   1.963602\n",
       "Type of ownership     15   0.718391\n",
       "Headquarters           9   0.431034\n",
       "Job Title              0   0.000000\n",
       "Salary Estimate        0   0.000000\n",
       "Job Description        0   0.000000\n",
       "Company Name           0   0.000000\n",
       "Location               0   0.000000"
      ]
     },
     "execution_count": 24,
     "metadata": {},
     "output_type": "execute_result"
    }
   ],
   "source": [
    "#Checking for missing values again after dropping some rows and columns\n",
    "new_missing_2 = pd.concat([job_data.isnull().sum(), 100 * job_data.isnull().mean()], axis=1)\n",
    "new_missing_2.columns=['count', '%']\n",
    "new_missing_2.sort_values(by=['count','%'],ascending= False)"
   ]
  },
  {
   "cell_type": "code",
   "execution_count": 25,
   "metadata": {},
   "outputs": [
    {
     "data": {
      "text/plain": [
       "(2088, 13)"
      ]
     },
     "execution_count": 25,
     "metadata": {},
     "output_type": "execute_result"
    }
   ],
   "source": [
    "job_data.shape"
   ]
  },
  {
   "cell_type": "markdown",
   "metadata": {},
   "source": [
    "After dropping some rows and columns which contain massive missing values, we now have 2088 observations and 13 features left. Among all the features we have left, 'Revenue' and 'Founded' have maximum number of missing values, which are 29% and 24%, respectively. We'll need to find a way to impute those values later. "
   ]
  },
  {
   "cell_type": "markdown",
   "metadata": {},
   "source": [
    "### Columns - Data Types and Formats"
   ]
  },
  {
   "cell_type": "markdown",
   "metadata": {},
   "source": [
    "#### Founded -- Years Founded"
   ]
  },
  {
   "cell_type": "markdown",
   "metadata": {},
   "source": [
    "Since the info about the age of a company will be more useful than the info about which year the company was founded, we transform the column ' Founded' to 'Years Founded'."
   ]
  },
  {
   "cell_type": "code",
   "execution_count": 26,
   "metadata": {},
   "outputs": [],
   "source": [
    "#Change the column 'Founded' to 'Years Founded'\n",
    "today_year = dt.date.today().year\n",
    "job_data['Years Founded'] = today_year - job_data['Founded']\n",
    "job_data.drop(['Founded'],axis=1,inplace = True)"
   ]
  },
  {
   "cell_type": "markdown",
   "metadata": {},
   "source": [
    "#### Salary Estimate -- Min_Salary & Max Salary"
   ]
  },
  {
   "cell_type": "code",
   "execution_count": 27,
   "metadata": {},
   "outputs": [],
   "source": [
    "#Split salary into two columns min salary and max salary.\n",
    "job_data['Salary Estimate'] = job_data['Salary Estimate'].str.strip('(Glassdoor est.)')\n",
    "job_data['Min_Salary($K)'] = job_data['Salary Estimate'].str.split('-').str.get(0).str.strip('$K').astype('int')\n",
    "job_data['Max_Salary($K)'] = job_data['Salary Estimate'].str.split('-').str.get(1).str.strip('$K').astype('int')\n",
    "job_data.drop(['Salary Estimate'], axis=1,inplace=True)"
   ]
  },
  {
   "cell_type": "markdown",
   "metadata": {},
   "source": [
    "#### Company Name"
   ]
  },
  {
   "cell_type": "markdown",
   "metadata": {},
   "source": [
    "We see that the entries in the column Company Name always have the rating attached to it at the end when ratings are not missing, and we want to keep only the company name in that column."
   ]
  },
  {
   "cell_type": "code",
   "execution_count": 28,
   "metadata": {},
   "outputs": [],
   "source": [
    "#Remove the rating in the column 'Company Name'\n",
    "job_data['Company Name'] = job_data['Company Name'].str.split('\\n').str.get(0)"
   ]
  },
  {
   "cell_type": "markdown",
   "metadata": {},
   "source": [
    "#### Job Title -- Seniority"
   ]
  },
  {
   "cell_type": "code",
   "execution_count": 29,
   "metadata": {},
   "outputs": [
    {
     "data": {
      "text/plain": [
       "Data Analyst                            374\n",
       "Senior Data Analyst                      82\n",
       "Junior Data Analyst                      30\n",
       "Business Data Analyst                    26\n",
       "Sr. Data Analyst                         19\n",
       "Data Analyst Junior                      17\n",
       "Data Analyst II                          17\n",
       "Data Quality Analyst                     17\n",
       "Data Governance Analyst                  16\n",
       "Lead Data Analyst                        15\n",
       "Data Reporting Analyst                   12\n",
       "Data Analyst III                         11\n",
       "Data Analyst I                           10\n",
       "Sr Data Analyst                           9\n",
       "Financial Data Analyst                    9\n",
       "Data Management Analyst                   8\n",
       "Marketing Data Analyst                    8\n",
       "Data Warehouse Analyst                    8\n",
       "SQL Data Analyst                          7\n",
       "Technical Data Analyst                    7\n",
       "Clinical Data Analyst                     6\n",
       "Data Security Analyst                     6\n",
       "Data Science Analyst                      6\n",
       "Product Data Analyst                      5\n",
       "NY Healthcare Data/Reporting Analyst      5\n",
       "Name: Job Title, dtype: Int64"
      ]
     },
     "execution_count": 29,
     "metadata": {},
     "output_type": "execute_result"
    }
   ],
   "source": [
    "job_data['Job Title'].value_counts().head(25)"
   ]
  },
  {
   "cell_type": "markdown",
   "metadata": {},
   "source": [
    "There are 1148 unique job titles here, and a lot of them only have 1 count; therefore, we need to consolidate them. We decide to create a new feature named 'Seniority', which indicates if each of these roles is junior role, senior role, or neither/unknown/NA."
   ]
  },
  {
   "cell_type": "code",
   "execution_count": 30,
   "metadata": {},
   "outputs": [],
   "source": [
    "# Create new feature 'Seniority' from 'Job Title'\n",
    "def seniority(title):\n",
    "    if 'sr' in title.lower() or 'sr.' in title.lower() or 'senior' in title.lower() or 'lead' in title.lower() or 'principal' in title.lower():\n",
    "        return 'Senior'\n",
    "    elif 'jr' in title.lower() or 'jr.' in title.lower() or 'junior' in title.lower() or 'entry level' in title.lower():\n",
    "        return 'Junior'\n",
    "    else:\n",
    "        return 'N/A'\n",
    "job_data['Seniority'] = job_data['Job Title'].apply(seniority)"
   ]
  },
  {
   "cell_type": "code",
   "execution_count": 31,
   "metadata": {},
   "outputs": [
    {
     "data": {
      "text/plain": [
       "N/A       1565\n",
       "Senior     446\n",
       "Junior      77\n",
       "Name: Seniority, dtype: int64"
      ]
     },
     "execution_count": 31,
     "metadata": {},
     "output_type": "execute_result"
    }
   ],
   "source": [
    "job_data['Seniority'].value_counts()"
   ]
  },
  {
   "cell_type": "code",
   "execution_count": 32,
   "metadata": {},
   "outputs": [],
   "source": [
    "#Drop the column 'Job Title'\n",
    "job_data.drop('Job Title', axis=1,inplace=True)"
   ]
  },
  {
   "cell_type": "markdown",
   "metadata": {},
   "source": [
    "#### Size"
   ]
  },
  {
   "cell_type": "code",
   "execution_count": 33,
   "metadata": {},
   "outputs": [
    {
     "data": {
      "image/png": "[encoded data removed]",
      "text/plain": [
       "<Figure size 432x288 with 1 Axes>"
      ]
     },
     "metadata": {
      "needs_background": "light"
     },
     "output_type": "display_data"
    }
   ],
   "source": [
    "#Size distribution\n",
    "job_data['Size'].astype('category').value_counts().plot(kind='bar')\n",
    "plt.show()"
   ]
  },
  {
   "cell_type": "code",
   "execution_count": 34,
   "metadata": {},
   "outputs": [
    {
     "data": {
      "text/html": [
       "<div>\n",
       "<style scoped>\n",
       "    .dataframe tbody tr th:only-of-type {\n",
       "        vertical-align: middle;\n",
       "    }\n",
       "\n",
       "    .dataframe tbody tr th {\n",
       "        vertical-align: top;\n",
       "    }\n",
       "\n",
       "    .dataframe thead th {\n",
       "        text-align: right;\n",
       "    }\n",
       "</style>\n",
       "<table border=\"1\" class=\"dataframe\">\n",
       "  <thead>\n",
       "    <tr style=\"text-align: right;\">\n",
       "      <th></th>\n",
       "      <th>Rating</th>\n",
       "      <th>Years Founded</th>\n",
       "      <th>Min_Salary($K)</th>\n",
       "      <th>Max_Salary($K)</th>\n",
       "      <th>Mean_Salary($K)</th>\n",
       "    </tr>\n",
       "    <tr>\n",
       "      <th>Size</th>\n",
       "      <th></th>\n",
       "      <th></th>\n",
       "      <th></th>\n",
       "      <th></th>\n",
       "      <th></th>\n",
       "    </tr>\n",
       "  </thead>\n",
       "  <tbody>\n",
       "    <tr>\n",
       "      <th>10000+ employees</th>\n",
       "      <td>3.633067</td>\n",
       "      <td>90.686649</td>\n",
       "      <td>52.141333</td>\n",
       "      <td>87.773333</td>\n",
       "      <td>69.957333</td>\n",
       "    </tr>\n",
       "    <tr>\n",
       "      <th>201 to 500 employees</th>\n",
       "      <td>3.667886</td>\n",
       "      <td>24.837321</td>\n",
       "      <td>53.602410</td>\n",
       "      <td>88.783133</td>\n",
       "      <td>71.192771</td>\n",
       "    </tr>\n",
       "    <tr>\n",
       "      <th>501 to 1000 employees</th>\n",
       "      <td>3.647867</td>\n",
       "      <td>26.572917</td>\n",
       "      <td>54.526066</td>\n",
       "      <td>89.450237</td>\n",
       "      <td>71.988152</td>\n",
       "    </tr>\n",
       "    <tr>\n",
       "      <th>51 to 200 employees</th>\n",
       "      <td>4.024495</td>\n",
       "      <td>16.078689</td>\n",
       "      <td>54.340476</td>\n",
       "      <td>90.702381</td>\n",
       "      <td>72.521429</td>\n",
       "    </tr>\n",
       "    <tr>\n",
       "      <th>1 to 50 employees</th>\n",
       "      <td>3.860764</td>\n",
       "      <td>15.357143</td>\n",
       "      <td>54.858790</td>\n",
       "      <td>90.564841</td>\n",
       "      <td>72.711816</td>\n",
       "    </tr>\n",
       "    <tr>\n",
       "      <th>1001 to 5000 employees</th>\n",
       "      <td>3.509798</td>\n",
       "      <td>36.654088</td>\n",
       "      <td>54.928161</td>\n",
       "      <td>90.810345</td>\n",
       "      <td>72.869253</td>\n",
       "    </tr>\n",
       "    <tr>\n",
       "      <th>5001 to 10000 employees</th>\n",
       "      <td>3.636082</td>\n",
       "      <td>50.321839</td>\n",
       "      <td>55.505155</td>\n",
       "      <td>92.896907</td>\n",
       "      <td>74.201031</td>\n",
       "    </tr>\n",
       "  </tbody>\n",
       "</table>\n",
       "</div>"
      ],
      "text/plain": [
       "                           Rating  Years Founded  Min_Salary($K)  \\\n",
       "Size                                                               \n",
       "10000+ employees         3.633067      90.686649       52.141333   \n",
       "201 to 500 employees     3.667886      24.837321       53.602410   \n",
       "501 to 1000 employees    3.647867      26.572917       54.526066   \n",
       "51 to 200 employees      4.024495      16.078689       54.340476   \n",
       "1 to 50 employees        3.860764      15.357143       54.858790   \n",
       "1001 to 5000 employees   3.509798      36.654088       54.928161   \n",
       "5001 to 10000 employees  3.636082      50.321839       55.505155   \n",
       "\n",
       "                         Max_Salary($K)  Mean_Salary($K)  \n",
       "Size                                                      \n",
       "10000+ employees              87.773333        69.957333  \n",
       "201 to 500 employees          88.783133        71.192771  \n",
       "501 to 1000 employees         89.450237        71.988152  \n",
       "51 to 200 employees           90.702381        72.521429  \n",
       "1 to 50 employees             90.564841        72.711816  \n",
       "1001 to 5000 employees        90.810345        72.869253  \n",
       "5001 to 10000 employees       92.896907        74.201031  "
      ]
     },
     "execution_count": 34,
     "metadata": {},
     "output_type": "execute_result"
    }
   ],
   "source": [
    "by_size = job_data.groupby('Size').mean()\n",
    "by_size['Mean_Salary($K)'] = (by_size['Min_Salary($K)']+by_size['Max_Salary($K)'])/2\n",
    "by_size.sort_values(by = 'Mean_Salary($K)',ascending = True)"
   ]
  },
  {
   "cell_type": "markdown",
   "metadata": {},
   "source": [
    "We grouped the data by size, and there doesn't seem to be a linear correlation between company size and salary. Therefore, when we do imputation for missing size values later, we can try to impute them with mean or median. In addition, it seems that there is a positive linear correlation between Size and Years Founded. So when we are doing imputation for the missing Years Founded, we can consider grouping by size first and use mean or median of each size group to impute missing Years. "
   ]
  },
  {
   "cell_type": "markdown",
   "metadata": {},
   "source": [
    "#### Location & Headquarters"
   ]
  },
  {
   "cell_type": "code",
   "execution_count": 35,
   "metadata": {
    "scrolled": true
   },
   "outputs": [
    {
     "data": {
      "text/plain": [
       "New York, NY            292\n",
       "Chicago, IL             119\n",
       "San Francisco, CA       112\n",
       "Austin, TX               77\n",
       "Los Angeles, CA          73\n",
       "                       ... \n",
       "Fort Sam Houston, TX      1\n",
       "East Palo Alto, CA        1\n",
       "Queens Village, NY        1\n",
       "Suffolk, VA               1\n",
       "Woodbridge, NJ            1\n",
       "Name: Location, Length: 242, dtype: Int64"
      ]
     },
     "execution_count": 35,
     "metadata": {},
     "output_type": "execute_result"
    }
   ],
   "source": [
    "job_data['Location'].value_counts()"
   ]
  },
  {
   "cell_type": "markdown",
   "metadata": {},
   "source": [
    "We are going to keep only the state names in Location."
   ]
  },
  {
   "cell_type": "code",
   "execution_count": 36,
   "metadata": {},
   "outputs": [
    {
     "data": {
      "text/plain": [
       "CA    582\n",
       "TX    372\n",
       "NY    320\n",
       "IL    153\n",
       "PA    104\n",
       "CO     90\n",
       "AZ     89\n",
       "NC     83\n",
       "NJ     79\n",
       "WA     45\n",
       "VA     44\n",
       "OH     32\n",
       "UT     30\n",
       "FL     24\n",
       "IN     23\n",
       "DE      9\n",
       "GA      4\n",
       "SC      3\n",
       "KS      2\n",
       "Name: Location, dtype: int64"
      ]
     },
     "execution_count": 36,
     "metadata": {},
     "output_type": "execute_result"
    }
   ],
   "source": [
    "# Keeping only the state names in location\n",
    "job_data['Location'] = job_data['Location'].apply(lambda x: x.split(', ')[-1])\n",
    "job_data['Location'].value_counts()"
   ]
  },
  {
   "cell_type": "code",
   "execution_count": 37,
   "metadata": {},
   "outputs": [
    {
     "data": {
      "text/plain": [
       "482"
      ]
     },
     "execution_count": 37,
     "metadata": {},
     "output_type": "execute_result"
    }
   ],
   "source": [
    "job_data['Headquarters'].nunique()"
   ]
  },
  {
   "cell_type": "markdown",
   "metadata": {},
   "source": [
    "Same with what we did with Location, we are going to keep only the state names in Headquaters. Then we will transform the feature Headquarters to a new feature named 'HQ_Same', which contains only 0 and 1.(1 if the headquaster is in the same state  as the job location, and 0 if headquaster state is different from the job location state.)"
   ]
  },
  {
   "cell_type": "code",
   "execution_count": 38,
   "metadata": {},
   "outputs": [],
   "source": [
    "# Keeping only the state names in location\n",
    "job_data['Headquarters'] = job_data[~job_data['Headquarters'].isna()]['Headquarters'].apply(lambda x: x.split(', ')[-1])"
   ]
  },
  {
   "cell_type": "code",
   "execution_count": 40,
   "metadata": {},
   "outputs": [
    {
     "data": {
      "text/plain": [
       "0    1142\n",
       "1     946\n",
       "Name: HQ_Same, dtype: int64"
      ]
     },
     "execution_count": 40,
     "metadata": {},
     "output_type": "execute_result"
    }
   ],
   "source": [
    "# Create 'HQ_Same'\n",
    "job_data['HQ_Same'] = job_data.apply(lambda x: 1 if x.Location == x.Headquarters else 0,axis =1)\n",
    "job_data.drop('Headquarters',axis=1,inplace = True)\n",
    "job_data['HQ_Same'].value_counts()"
   ]
  },
  {
   "cell_type": "code",
   "execution_count": 43,
   "metadata": {},
   "outputs": [
    {
     "data": {
      "text/html": [
       "<div>\n",
       "<style scoped>\n",
       "    .dataframe tbody tr th:only-of-type {\n",
       "        vertical-align: middle;\n",
       "    }\n",
       "\n",
       "    .dataframe tbody tr th {\n",
       "        vertical-align: top;\n",
       "    }\n",
       "\n",
       "    .dataframe thead th {\n",
       "        text-align: right;\n",
       "    }\n",
       "</style>\n",
       "<table border=\"1\" class=\"dataframe\">\n",
       "  <thead>\n",
       "    <tr style=\"text-align: right;\">\n",
       "      <th></th>\n",
       "      <th>Job Description</th>\n",
       "      <th>Rating</th>\n",
       "      <th>Company Name</th>\n",
       "      <th>Location</th>\n",
       "      <th>Size</th>\n",
       "      <th>Type of ownership</th>\n",
       "      <th>Industry</th>\n",
       "      <th>Sector</th>\n",
       "      <th>Revenue</th>\n",
       "      <th>Years Founded</th>\n",
       "      <th>Min_Salary($K)</th>\n",
       "      <th>Max_Salary($K)</th>\n",
       "      <th>Seniority</th>\n",
       "      <th>HQ_Same</th>\n",
       "    </tr>\n",
       "  </thead>\n",
       "  <tbody>\n",
       "    <tr>\n",
       "      <th>0</th>\n",
       "      <td>Are you eager to roll up your sleeves and harn...</td>\n",
       "      <td>3.2</td>\n",
       "      <td>Vera Institute of Justice</td>\n",
       "      <td>NY</td>\n",
       "      <td>201 to 500 employees</td>\n",
       "      <td>Nonprofit Organization</td>\n",
       "      <td>Social Assistance</td>\n",
       "      <td>Non-Profit</td>\n",
       "      <td>$100 to $500 million (USD)</td>\n",
       "      <td>59.0</td>\n",
       "      <td>37</td>\n",
       "      <td>66</td>\n",
       "      <td>N/A</td>\n",
       "      <td>1</td>\n",
       "    </tr>\n",
       "    <tr>\n",
       "      <th>1</th>\n",
       "      <td>Overview\n",
       "\n",
       "Provides analytical and technical su...</td>\n",
       "      <td>3.8</td>\n",
       "      <td>Visiting Nurse Service of New York</td>\n",
       "      <td>NY</td>\n",
       "      <td>10000+ employees</td>\n",
       "      <td>Nonprofit Organization</td>\n",
       "      <td>Health Care Services &amp; Hospitals</td>\n",
       "      <td>Health Care</td>\n",
       "      <td>$2 to $5 billion (USD)</td>\n",
       "      <td>127.0</td>\n",
       "      <td>37</td>\n",
       "      <td>66</td>\n",
       "      <td>N/A</td>\n",
       "      <td>1</td>\n",
       "    </tr>\n",
       "    <tr>\n",
       "      <th>2</th>\n",
       "      <td>We’re looking for a Senior Data Analyst who ha...</td>\n",
       "      <td>3.4</td>\n",
       "      <td>Squarespace</td>\n",
       "      <td>NY</td>\n",
       "      <td>1001 to 5000 employees</td>\n",
       "      <td>Company - Private</td>\n",
       "      <td>Internet</td>\n",
       "      <td>Information Technology</td>\n",
       "      <td>&lt;NA&gt;</td>\n",
       "      <td>17.0</td>\n",
       "      <td>37</td>\n",
       "      <td>66</td>\n",
       "      <td>Senior</td>\n",
       "      <td>1</td>\n",
       "    </tr>\n",
       "    <tr>\n",
       "      <th>3</th>\n",
       "      <td>Requisition NumberRR-0001939\n",
       "Remote:Yes\n",
       "We col...</td>\n",
       "      <td>4.1</td>\n",
       "      <td>Celerity</td>\n",
       "      <td>NY</td>\n",
       "      <td>201 to 500 employees</td>\n",
       "      <td>Subsidiary or Business Segment</td>\n",
       "      <td>IT Services</td>\n",
       "      <td>Information Technology</td>\n",
       "      <td>$50 to $100 million (USD)</td>\n",
       "      <td>18.0</td>\n",
       "      <td>37</td>\n",
       "      <td>66</td>\n",
       "      <td>N/A</td>\n",
       "      <td>0</td>\n",
       "    </tr>\n",
       "    <tr>\n",
       "      <th>4</th>\n",
       "      <td>ABOUT FANDUEL GROUP\n",
       "\n",
       "FanDuel Group is a world-...</td>\n",
       "      <td>3.9</td>\n",
       "      <td>FanDuel</td>\n",
       "      <td>NY</td>\n",
       "      <td>501 to 1000 employees</td>\n",
       "      <td>Company - Private</td>\n",
       "      <td>Sports &amp; Recreation</td>\n",
       "      <td>Arts, Entertainment &amp; Recreation</td>\n",
       "      <td>$100 to $500 million (USD)</td>\n",
       "      <td>11.0</td>\n",
       "      <td>37</td>\n",
       "      <td>66</td>\n",
       "      <td>N/A</td>\n",
       "      <td>1</td>\n",
       "    </tr>\n",
       "  </tbody>\n",
       "</table>\n",
       "</div>"
      ],
      "text/plain": [
       "                                     Job Description  Rating  \\\n",
       "0  Are you eager to roll up your sleeves and harn...     3.2   \n",
       "1  Overview\n",
       "\n",
       "Provides analytical and technical su...     3.8   \n",
       "2  We’re looking for a Senior Data Analyst who ha...     3.4   \n",
       "3  Requisition NumberRR-0001939\n",
       "Remote:Yes\n",
       "We col...     4.1   \n",
       "4  ABOUT FANDUEL GROUP\n",
       "\n",
       "FanDuel Group is a world-...     3.9   \n",
       "\n",
       "                         Company Name Location                    Size  \\\n",
       "0           Vera Institute of Justice       NY    201 to 500 employees   \n",
       "1  Visiting Nurse Service of New York       NY        10000+ employees   \n",
       "2                         Squarespace       NY  1001 to 5000 employees   \n",
       "3                            Celerity       NY    201 to 500 employees   \n",
       "4                             FanDuel       NY   501 to 1000 employees   \n",
       "\n",
       "                Type of ownership                          Industry  \\\n",
       "0          Nonprofit Organization                 Social Assistance   \n",
       "1          Nonprofit Organization  Health Care Services & Hospitals   \n",
       "2               Company - Private                          Internet   \n",
       "3  Subsidiary or Business Segment                       IT Services   \n",
       "4               Company - Private               Sports & Recreation   \n",
       "\n",
       "                             Sector                     Revenue  \\\n",
       "0                        Non-Profit  $100 to $500 million (USD)   \n",
       "1                       Health Care      $2 to $5 billion (USD)   \n",
       "2            Information Technology                        <NA>   \n",
       "3            Information Technology   $50 to $100 million (USD)   \n",
       "4  Arts, Entertainment & Recreation  $100 to $500 million (USD)   \n",
       "\n",
       "   Years Founded  Min_Salary($K)  Max_Salary($K) Seniority  HQ_Same  \n",
       "0           59.0              37              66       N/A        1  \n",
       "1          127.0              37              66       N/A        1  \n",
       "2           17.0              37              66    Senior        1  \n",
       "3           18.0              37              66       N/A        0  \n",
       "4           11.0              37              66       N/A        1  "
      ]
     },
     "execution_count": 43,
     "metadata": {},
     "output_type": "execute_result"
    }
   ],
   "source": [
    "job_data.head()"
   ]
  },
  {
   "cell_type": "markdown",
   "metadata": {},
   "source": [
    "#### Job Description -- Skills"
   ]
  },
  {
   "cell_type": "markdown",
   "metadata": {},
   "source": [
    "Now we want to create a new columns named **Skills**, which contains info about common technical skills that each observation has."
   ]
  },
  {
   "cell_type": "code",
   "execution_count": 44,
   "metadata": {},
   "outputs": [],
   "source": [
    "# Removing punctuations '\\n' in entries in 'Job Description'  \n",
    "job_data['Job Description'] = job_data['Job Description'].apply(lambda x: re.sub(r'[^\\w\\s]', '', x)).replace('\\n', ' ')\n",
    "# Split strings in 'Job Description'\n",
    "job_data['Job Description'] = job_data['Job Description'].str.upper().str.split()"
   ]
  },
  {
   "cell_type": "code",
   "execution_count": 51,
   "metadata": {},
   "outputs": [],
   "source": [
    "# Define the function 'findskills'\n",
    "def findskills(words_list, skillset):\n",
    "        result_list = []\n",
    "        for word in words_list:\n",
    "            if word in skillset:\n",
    "                result_list.append(word)\n",
    "        return (list(set(result_list)))"
   ]
  },
  {
   "cell_type": "markdown",
   "metadata": {},
   "source": [
    "To define a fair skill set, we need to find out what technical skills got mentions the most in job descriptions."
   ]
  },
  {
   "cell_type": "code",
   "execution_count": 46,
   "metadata": {},
   "outputs": [],
   "source": [
    "# Define common technical skills required for Data Analysts\n",
    "possible_skills = ['PYTHON','R','SQL','HADOOP','JAVA','SAS','MATLAB','SPARK','HIVE','TABLEAU','Microsoft','Excel','SPREADSHEET',\n",
    "                  'SPREADSHEETS']"
   ]
  },
  {
   "cell_type": "code",
   "execution_count": 47,
   "metadata": {},
   "outputs": [
    {
     "data": {
      "text/plain": [
       "{'PYTHON': 564,\n",
       " 'R': 366,\n",
       " 'SQL': 1228,\n",
       " 'HADOOP': 118,\n",
       " 'JAVA': 80,\n",
       " 'SAS': 308,\n",
       " 'MATLAB': 24,\n",
       " 'SPARK': 64,\n",
       " 'HIVE': 67,\n",
       " 'TABLEAU': 561,\n",
       " 'Microsoft': 454,\n",
       " 'Excel': 823,\n",
       " 'SPREADSHEET': 34,\n",
       " 'SPREADSHEETS': 48}"
      ]
     },
     "execution_count": 47,
     "metadata": {},
     "output_type": "execute_result"
    }
   ],
   "source": [
    "def has_skill(words_list, skill):\n",
    "    skill = skill.upper()\n",
    "    if skill in words_list:\n",
    "        return True\n",
    "    else:\n",
    "        return False\n",
    "                \n",
    "frequency = {}\n",
    "for skill in possible_skills:\n",
    "    frequency[skill] = job_data['Job Description'].apply(lambda x: has_skill(x, skill)).sum()\n",
    "\n",
    "frequency "
   ]
  },
  {
   "cell_type": "markdown",
   "metadata": {},
   "source": [
    "Seems like SQL, Microsoft Excel, Tableau, Python, R, and SAS are the top skills that the employers are looking for. So we can refine out skill set to one that only contains the hottest skills."
   ]
  },
  {
   "cell_type": "code",
   "execution_count": 48,
   "metadata": {},
   "outputs": [],
   "source": [
    "top_skills = ['SQL','PYTHON','TABLEAU','PYTHON','R','SAS']"
   ]
  },
  {
   "cell_type": "code",
   "execution_count": 52,
   "metadata": {},
   "outputs": [],
   "source": [
    "job_data['Skills'] = job_data['Job Description'].apply(lambda x: findskills(x, top_skills))"
   ]
  },
  {
   "cell_type": "code",
   "execution_count": 53,
   "metadata": {},
   "outputs": [
    {
     "data": {
      "text/plain": [
       "[]                                650\n",
       "[SQL]                             385\n",
       "[TABLEAU, SQL]                    130\n",
       "[PYTHON, SQL]                     120\n",
       "[SAS, SQL]                        110\n",
       "[SQL, TABLEAU]                     72\n",
       "[TABLEAU]                          61\n",
       "[PYTHON, R, SQL]                   56\n",
       "[SAS, TABLEAU, SQL, PYTHON, R]     44\n",
       "[R, PYTHON, SQL]                   35\n",
       "[PYTHON]                           32\n",
       "[PYTHON, SQL, TABLEAU]             30\n",
       "[R, PYTHON, SQL, TABLEAU]          24\n",
       "[PYTHON, R, SQL, TABLEAU]          23\n",
       "[SAS]                              22\n",
       "[TABLEAU, PYTHON, SQL]             21\n",
       "[SAS, R, SQL]                      20\n",
       "[SQL, PYTHON, R, TABLEAU]          18\n",
       "[SAS, TABLEAU, SQL]                18\n",
       "[R, TABLEAU, PYTHON, SQL]          17\n",
       "[SAS, SQL, PYTHON, TABLEAU]        15\n",
       "[PYTHON, R]                        14\n",
       "[SQL, PYTHON, TABLEAU]             14\n",
       "[PYTHON, TABLEAU]                  14\n",
       "[SAS, R]                           12\n",
       "[SAS, R, PYTHON, SQL]              11\n",
       "[SAS, PYTHON, R, SQL]              11\n",
       "[R]                                10\n",
       "[R, PYTHON]                        10\n",
       "[SAS, PYTHON, SQL]                 10\n",
       "[SQL, R, PYTHON, TABLEAU]          10\n",
       "[R, SQL]                            9\n",
       "[TABLEAU, R, SQL, PYTHON]           9\n",
       "[SAS, TABLEAU]                      7\n",
       "[SAS, R, PYTHON]                    5\n",
       "[R, PYTHON, TABLEAU]                5\n",
       "[SAS, R, TABLEAU]                   4\n",
       "[SAS, PYTHON, SQL, TABLEAU]         4\n",
       "[SAS, PYTHON]                       4\n",
       "[SAS, SQL, TABLEAU]                 3\n",
       "[R, SQL, TABLEAU]                   3\n",
       "[SQL, R, TABLEAU]                   3\n",
       "[SAS, PYTHON, R, TABLEAU]           3\n",
       "[PYTHON, R, TABLEAU]                2\n",
       "[SAS, R, PYTHON, TABLEAU]           2\n",
       "[SAS, TABLEAU, R, SQL]              2\n",
       "[R, TABLEAU]                        2\n",
       "[TABLEAU, R, SQL]                   1\n",
       "[SAS, PYTHON, R]                    1\n",
       "Name: Skills, dtype: int64"
      ]
     },
     "execution_count": 53,
     "metadata": {},
     "output_type": "execute_result"
    }
   ],
   "source": [
    "job_data['Skills'].value_counts()"
   ]
  },
  {
   "cell_type": "code",
   "execution_count": 54,
   "metadata": {},
   "outputs": [
    {
     "data": {
      "text/html": [
       "<div>\n",
       "<style scoped>\n",
       "    .dataframe tbody tr th:only-of-type {\n",
       "        vertical-align: middle;\n",
       "    }\n",
       "\n",
       "    .dataframe tbody tr th {\n",
       "        vertical-align: top;\n",
       "    }\n",
       "\n",
       "    .dataframe thead th {\n",
       "        text-align: right;\n",
       "    }\n",
       "</style>\n",
       "<table border=\"1\" class=\"dataframe\">\n",
       "  <thead>\n",
       "    <tr style=\"text-align: right;\">\n",
       "      <th></th>\n",
       "      <th>Job Description</th>\n",
       "      <th>Rating</th>\n",
       "      <th>Company Name</th>\n",
       "      <th>Location</th>\n",
       "      <th>Size</th>\n",
       "      <th>Type of ownership</th>\n",
       "      <th>Industry</th>\n",
       "      <th>Sector</th>\n",
       "      <th>Revenue</th>\n",
       "      <th>Years Founded</th>\n",
       "      <th>Min_Salary($K)</th>\n",
       "      <th>Max_Salary($K)</th>\n",
       "      <th>Seniority</th>\n",
       "      <th>HQ_Same</th>\n",
       "      <th>Skills</th>\n",
       "    </tr>\n",
       "  </thead>\n",
       "  <tbody>\n",
       "    <tr>\n",
       "      <th>0</th>\n",
       "      <td>[ARE, YOU, EAGER, TO, ROLL, UP, YOUR, SLEEVES,...</td>\n",
       "      <td>3.2</td>\n",
       "      <td>Vera Institute of Justice</td>\n",
       "      <td>NY</td>\n",
       "      <td>201 to 500 employees</td>\n",
       "      <td>Nonprofit Organization</td>\n",
       "      <td>Social Assistance</td>\n",
       "      <td>Non-Profit</td>\n",
       "      <td>$100 to $500 million (USD)</td>\n",
       "      <td>59.0</td>\n",
       "      <td>37</td>\n",
       "      <td>66</td>\n",
       "      <td>N/A</td>\n",
       "      <td>1</td>\n",
       "      <td>[R, PYTHON, SQL]</td>\n",
       "    </tr>\n",
       "    <tr>\n",
       "      <th>1</th>\n",
       "      <td>[OVERVIEW, PROVIDES, ANALYTICAL, AND, TECHNICA...</td>\n",
       "      <td>3.8</td>\n",
       "      <td>Visiting Nurse Service of New York</td>\n",
       "      <td>NY</td>\n",
       "      <td>10000+ employees</td>\n",
       "      <td>Nonprofit Organization</td>\n",
       "      <td>Health Care Services &amp; Hospitals</td>\n",
       "      <td>Health Care</td>\n",
       "      <td>$2 to $5 billion (USD)</td>\n",
       "      <td>127.0</td>\n",
       "      <td>37</td>\n",
       "      <td>66</td>\n",
       "      <td>N/A</td>\n",
       "      <td>1</td>\n",
       "      <td>[SAS, R, SQL]</td>\n",
       "    </tr>\n",
       "    <tr>\n",
       "      <th>2</th>\n",
       "      <td>[WERE, LOOKING, FOR, A, SENIOR, DATA, ANALYST,...</td>\n",
       "      <td>3.4</td>\n",
       "      <td>Squarespace</td>\n",
       "      <td>NY</td>\n",
       "      <td>1001 to 5000 employees</td>\n",
       "      <td>Company - Private</td>\n",
       "      <td>Internet</td>\n",
       "      <td>Information Technology</td>\n",
       "      <td>&lt;NA&gt;</td>\n",
       "      <td>17.0</td>\n",
       "      <td>37</td>\n",
       "      <td>66</td>\n",
       "      <td>Senior</td>\n",
       "      <td>1</td>\n",
       "      <td>[TABLEAU, SQL]</td>\n",
       "    </tr>\n",
       "    <tr>\n",
       "      <th>3</th>\n",
       "      <td>[REQUISITION, NUMBERRR0001939, REMOTEYES, WE, ...</td>\n",
       "      <td>4.1</td>\n",
       "      <td>Celerity</td>\n",
       "      <td>NY</td>\n",
       "      <td>201 to 500 employees</td>\n",
       "      <td>Subsidiary or Business Segment</td>\n",
       "      <td>IT Services</td>\n",
       "      <td>Information Technology</td>\n",
       "      <td>$50 to $100 million (USD)</td>\n",
       "      <td>18.0</td>\n",
       "      <td>37</td>\n",
       "      <td>66</td>\n",
       "      <td>N/A</td>\n",
       "      <td>0</td>\n",
       "      <td>[TABLEAU, SQL]</td>\n",
       "    </tr>\n",
       "    <tr>\n",
       "      <th>4</th>\n",
       "      <td>[ABOUT, FANDUEL, GROUP, FANDUEL, GROUP, IS, A,...</td>\n",
       "      <td>3.9</td>\n",
       "      <td>FanDuel</td>\n",
       "      <td>NY</td>\n",
       "      <td>501 to 1000 employees</td>\n",
       "      <td>Company - Private</td>\n",
       "      <td>Sports &amp; Recreation</td>\n",
       "      <td>Arts, Entertainment &amp; Recreation</td>\n",
       "      <td>$100 to $500 million (USD)</td>\n",
       "      <td>11.0</td>\n",
       "      <td>37</td>\n",
       "      <td>66</td>\n",
       "      <td>N/A</td>\n",
       "      <td>1</td>\n",
       "      <td>[PYTHON, SQL]</td>\n",
       "    </tr>\n",
       "  </tbody>\n",
       "</table>\n",
       "</div>"
      ],
      "text/plain": [
       "                                     Job Description  Rating  \\\n",
       "0  [ARE, YOU, EAGER, TO, ROLL, UP, YOUR, SLEEVES,...     3.2   \n",
       "1  [OVERVIEW, PROVIDES, ANALYTICAL, AND, TECHNICA...     3.8   \n",
       "2  [WERE, LOOKING, FOR, A, SENIOR, DATA, ANALYST,...     3.4   \n",
       "3  [REQUISITION, NUMBERRR0001939, REMOTEYES, WE, ...     4.1   \n",
       "4  [ABOUT, FANDUEL, GROUP, FANDUEL, GROUP, IS, A,...     3.9   \n",
       "\n",
       "                         Company Name Location                    Size  \\\n",
       "0           Vera Institute of Justice       NY    201 to 500 employees   \n",
       "1  Visiting Nurse Service of New York       NY        10000+ employees   \n",
       "2                         Squarespace       NY  1001 to 5000 employees   \n",
       "3                            Celerity       NY    201 to 500 employees   \n",
       "4                             FanDuel       NY   501 to 1000 employees   \n",
       "\n",
       "                Type of ownership                          Industry  \\\n",
       "0          Nonprofit Organization                 Social Assistance   \n",
       "1          Nonprofit Organization  Health Care Services & Hospitals   \n",
       "2               Company - Private                          Internet   \n",
       "3  Subsidiary or Business Segment                       IT Services   \n",
       "4               Company - Private               Sports & Recreation   \n",
       "\n",
       "                             Sector                     Revenue  \\\n",
       "0                        Non-Profit  $100 to $500 million (USD)   \n",
       "1                       Health Care      $2 to $5 billion (USD)   \n",
       "2            Information Technology                        <NA>   \n",
       "3            Information Technology   $50 to $100 million (USD)   \n",
       "4  Arts, Entertainment & Recreation  $100 to $500 million (USD)   \n",
       "\n",
       "   Years Founded  Min_Salary($K)  Max_Salary($K) Seniority  HQ_Same  \\\n",
       "0           59.0              37              66       N/A        1   \n",
       "1          127.0              37              66       N/A        1   \n",
       "2           17.0              37              66    Senior        1   \n",
       "3           18.0              37              66       N/A        0   \n",
       "4           11.0              37              66       N/A        1   \n",
       "\n",
       "             Skills  \n",
       "0  [R, PYTHON, SQL]  \n",
       "1     [SAS, R, SQL]  \n",
       "2    [TABLEAU, SQL]  \n",
       "3    [TABLEAU, SQL]  \n",
       "4     [PYTHON, SQL]  "
      ]
     },
     "execution_count": 54,
     "metadata": {},
     "output_type": "execute_result"
    }
   ],
   "source": [
    "job_data.head()"
   ]
  },
  {
   "cell_type": "markdown",
   "metadata": {},
   "source": [
    "#### Distributions Of Feature Values"
   ]
  },
  {
   "cell_type": "code",
   "execution_count": 55,
   "metadata": {},
   "outputs": [
    {
     "data": {
      "image/png": "[encoded data removed]",
      "text/plain": [
       "<Figure size 1080x720 with 6 Axes>"
      ]
     },
     "metadata": {
      "needs_background": "light"
     },
     "output_type": "display_data"
    }
   ],
   "source": [
    "job_data.hist(figsize=(15,10))\n",
    "plt.subplots_adjust(hspace=0.5)"
   ]
  },
  {
   "cell_type": "markdown",
   "metadata": {},
   "source": [
    "#### Check For Outliers"
   ]
  },
  {
   "cell_type": "markdown",
   "metadata": {},
   "source": [
    "We see that most companies have 0-240 years of history, and so we want to look into those with the longest length of history to see if the the Years Founded was recorded correctly. "
   ]
  },
  {
   "cell_type": "code",
   "execution_count": 56,
   "metadata": {},
   "outputs": [
    {
     "data": {
      "text/html": [
       "<div>\n",
       "<style scoped>\n",
       "    .dataframe tbody tr th:only-of-type {\n",
       "        vertical-align: middle;\n",
       "    }\n",
       "\n",
       "    .dataframe tbody tr th {\n",
       "        vertical-align: top;\n",
       "    }\n",
       "\n",
       "    .dataframe thead th {\n",
       "        text-align: right;\n",
       "    }\n",
       "</style>\n",
       "<table border=\"1\" class=\"dataframe\">\n",
       "  <thead>\n",
       "    <tr style=\"text-align: right;\">\n",
       "      <th></th>\n",
       "      <th>Job Description</th>\n",
       "      <th>Rating</th>\n",
       "      <th>Company Name</th>\n",
       "      <th>Location</th>\n",
       "      <th>Size</th>\n",
       "      <th>Type of ownership</th>\n",
       "      <th>Industry</th>\n",
       "      <th>Sector</th>\n",
       "      <th>Revenue</th>\n",
       "      <th>Years Founded</th>\n",
       "      <th>Min_Salary($K)</th>\n",
       "      <th>Max_Salary($K)</th>\n",
       "      <th>Seniority</th>\n",
       "      <th>HQ_Same</th>\n",
       "      <th>Skills</th>\n",
       "    </tr>\n",
       "  </thead>\n",
       "  <tbody>\n",
       "    <tr>\n",
       "      <th>1088</th>\n",
       "      <td>[UNIVERSITY, OVERVIEW, THE, UNIVERSITY, OF, PE...</td>\n",
       "      <td>4.3</td>\n",
       "      <td>University of Pennsylvania</td>\n",
       "      <td>PA</td>\n",
       "      <td>10000+ employees</td>\n",
       "      <td>College / University</td>\n",
       "      <td>Colleges &amp; Universities</td>\n",
       "      <td>Education</td>\n",
       "      <td>&lt;NA&gt;</td>\n",
       "      <td>280.0</td>\n",
       "      <td>41</td>\n",
       "      <td>78</td>\n",
       "      <td>N/A</td>\n",
       "      <td>1</td>\n",
       "      <td>[SAS, TABLEAU, SQL, PYTHON, R]</td>\n",
       "    </tr>\n",
       "    <tr>\n",
       "      <th>1096</th>\n",
       "      <td>[UNIVERSITY, OVERVIEW, THE, UNIVERSITY, OF, PE...</td>\n",
       "      <td>4.3</td>\n",
       "      <td>University of Pennsylvania</td>\n",
       "      <td>PA</td>\n",
       "      <td>10000+ employees</td>\n",
       "      <td>College / University</td>\n",
       "      <td>Colleges &amp; Universities</td>\n",
       "      <td>Education</td>\n",
       "      <td>&lt;NA&gt;</td>\n",
       "      <td>280.0</td>\n",
       "      <td>38</td>\n",
       "      <td>68</td>\n",
       "      <td>Junior</td>\n",
       "      <td>1</td>\n",
       "      <td>[PYTHON, R]</td>\n",
       "    </tr>\n",
       "    <tr>\n",
       "      <th>1105</th>\n",
       "      <td>[UNIVERSITY, OVERVIEWTHE, UNIVERSITY, OF, PENN...</td>\n",
       "      <td>4.3</td>\n",
       "      <td>University of Pennsylvania</td>\n",
       "      <td>PA</td>\n",
       "      <td>10000+ employees</td>\n",
       "      <td>College / University</td>\n",
       "      <td>Colleges &amp; Universities</td>\n",
       "      <td>Education</td>\n",
       "      <td>&lt;NA&gt;</td>\n",
       "      <td>280.0</td>\n",
       "      <td>38</td>\n",
       "      <td>68</td>\n",
       "      <td>N/A</td>\n",
       "      <td>1</td>\n",
       "      <td>[]</td>\n",
       "    </tr>\n",
       "    <tr>\n",
       "      <th>1123</th>\n",
       "      <td>[UNIVERSITY, OVERVIEW, THE, UNIVERSITY, OF, PE...</td>\n",
       "      <td>4.3</td>\n",
       "      <td>University of Pennsylvania</td>\n",
       "      <td>PA</td>\n",
       "      <td>10000+ employees</td>\n",
       "      <td>College / University</td>\n",
       "      <td>Colleges &amp; Universities</td>\n",
       "      <td>Education</td>\n",
       "      <td>&lt;NA&gt;</td>\n",
       "      <td>280.0</td>\n",
       "      <td>37</td>\n",
       "      <td>44</td>\n",
       "      <td>Senior</td>\n",
       "      <td>1</td>\n",
       "      <td>[PYTHON, R]</td>\n",
       "    </tr>\n",
       "    <tr>\n",
       "      <th>1126</th>\n",
       "      <td>[UNIVERSITY, OVERVIEW, THE, UNIVERSITY, OF, PE...</td>\n",
       "      <td>4.3</td>\n",
       "      <td>University of Pennsylvania</td>\n",
       "      <td>PA</td>\n",
       "      <td>10000+ employees</td>\n",
       "      <td>College / University</td>\n",
       "      <td>Colleges &amp; Universities</td>\n",
       "      <td>Education</td>\n",
       "      <td>&lt;NA&gt;</td>\n",
       "      <td>280.0</td>\n",
       "      <td>37</td>\n",
       "      <td>44</td>\n",
       "      <td>N/A</td>\n",
       "      <td>1</td>\n",
       "      <td>[]</td>\n",
       "    </tr>\n",
       "    <tr>\n",
       "      <th>1845</th>\n",
       "      <td>[ROLE, PROFILE, DATA, QUALITY, ANALYTICS, IS, ...</td>\n",
       "      <td>3.2</td>\n",
       "      <td>London Stock Exchange Group</td>\n",
       "      <td>NC</td>\n",
       "      <td>1001 to 5000 employees</td>\n",
       "      <td>Company - Public</td>\n",
       "      <td>Stock Exchanges</td>\n",
       "      <td>Finance</td>\n",
       "      <td>$50 to $100 million (USD)</td>\n",
       "      <td>322.0</td>\n",
       "      <td>54</td>\n",
       "      <td>75</td>\n",
       "      <td>N/A</td>\n",
       "      <td>0</td>\n",
       "      <td>[]</td>\n",
       "    </tr>\n",
       "    <tr>\n",
       "      <th>2023</th>\n",
       "      <td>[AND, INCREASING, PRIVATE, PHILANTHROPY, UDAR,...</td>\n",
       "      <td>4.1</td>\n",
       "      <td>University of California Berkeley</td>\n",
       "      <td>CA</td>\n",
       "      <td>10000+ employees</td>\n",
       "      <td>College / University</td>\n",
       "      <td>Colleges &amp; Universities</td>\n",
       "      <td>Education</td>\n",
       "      <td>$500 million to $1 billion (USD)</td>\n",
       "      <td>338.0</td>\n",
       "      <td>65</td>\n",
       "      <td>120</td>\n",
       "      <td>N/A</td>\n",
       "      <td>1</td>\n",
       "      <td>[TABLEAU]</td>\n",
       "    </tr>\n",
       "  </tbody>\n",
       "</table>\n",
       "</div>"
      ],
      "text/plain": [
       "                                        Job Description  Rating  \\\n",
       "1088  [UNIVERSITY, OVERVIEW, THE, UNIVERSITY, OF, PE...     4.3   \n",
       "1096  [UNIVERSITY, OVERVIEW, THE, UNIVERSITY, OF, PE...     4.3   \n",
       "1105  [UNIVERSITY, OVERVIEWTHE, UNIVERSITY, OF, PENN...     4.3   \n",
       "1123  [UNIVERSITY, OVERVIEW, THE, UNIVERSITY, OF, PE...     4.3   \n",
       "1126  [UNIVERSITY, OVERVIEW, THE, UNIVERSITY, OF, PE...     4.3   \n",
       "1845  [ROLE, PROFILE, DATA, QUALITY, ANALYTICS, IS, ...     3.2   \n",
       "2023  [AND, INCREASING, PRIVATE, PHILANTHROPY, UDAR,...     4.1   \n",
       "\n",
       "                           Company Name Location                    Size  \\\n",
       "1088         University of Pennsylvania       PA        10000+ employees   \n",
       "1096         University of Pennsylvania       PA        10000+ employees   \n",
       "1105         University of Pennsylvania       PA        10000+ employees   \n",
       "1123         University of Pennsylvania       PA        10000+ employees   \n",
       "1126         University of Pennsylvania       PA        10000+ employees   \n",
       "1845        London Stock Exchange Group       NC  1001 to 5000 employees   \n",
       "2023  University of California Berkeley       CA        10000+ employees   \n",
       "\n",
       "         Type of ownership                 Industry     Sector  \\\n",
       "1088  College / University  Colleges & Universities  Education   \n",
       "1096  College / University  Colleges & Universities  Education   \n",
       "1105  College / University  Colleges & Universities  Education   \n",
       "1123  College / University  Colleges & Universities  Education   \n",
       "1126  College / University  Colleges & Universities  Education   \n",
       "1845      Company - Public          Stock Exchanges    Finance   \n",
       "2023  College / University  Colleges & Universities  Education   \n",
       "\n",
       "                               Revenue  Years Founded  Min_Salary($K)  \\\n",
       "1088                              <NA>          280.0              41   \n",
       "1096                              <NA>          280.0              38   \n",
       "1105                              <NA>          280.0              38   \n",
       "1123                              <NA>          280.0              37   \n",
       "1126                              <NA>          280.0              37   \n",
       "1845         $50 to $100 million (USD)          322.0              54   \n",
       "2023  $500 million to $1 billion (USD)          338.0              65   \n",
       "\n",
       "      Max_Salary($K) Seniority  HQ_Same                          Skills  \n",
       "1088              78       N/A        1  [SAS, TABLEAU, SQL, PYTHON, R]  \n",
       "1096              68    Junior        1                     [PYTHON, R]  \n",
       "1105              68       N/A        1                              []  \n",
       "1123              44    Senior        1                     [PYTHON, R]  \n",
       "1126              44       N/A        1                              []  \n",
       "1845              75       N/A        0                              []  \n",
       "2023             120       N/A        1                       [TABLEAU]  "
      ]
     },
     "execution_count": 56,
     "metadata": {},
     "output_type": "execute_result"
    }
   ],
   "source": [
    "job_data[job_data['Years Founded']>250]"
   ]
  },
  {
   "cell_type": "markdown",
   "metadata": {},
   "source": [
    "After doing some research work, we found that University of California Berkeley was founded in 1868 instead of 1682. We believe that's a record error and decide to correct it."
   ]
  },
  {
   "cell_type": "code",
   "execution_count": 58,
   "metadata": {},
   "outputs": [],
   "source": [
    "# Correct the 'Years Founded' for University of California Berkeley\n",
    "job_data.loc[job_data['Company Name']=='University of California Berkeley','Years Founded'] = today_year - 1868"
   ]
  },
  {
   "cell_type": "markdown",
   "metadata": {},
   "source": [
    "### Duplicate rows"
   ]
  }
 ],
 "metadata": {
  "kernelspec": {
   "display_name": "Python 3",
   "language": "python",
   "name": "python3"
  },
  "language_info": {
   "codemirror_mode": {
    "name": "ipython",
    "version": 3
   },
   "file_extension": ".py",
   "mimetype": "text/x-python",
   "name": "python",
   "nbconvert_exporter": "python",
   "pygments_lexer": "ipython3",
   "version": "3.8.3"
  }
 },
 "nbformat": 4,
 "nbformat_minor": 4
}
