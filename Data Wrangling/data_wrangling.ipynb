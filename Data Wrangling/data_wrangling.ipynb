{
 "cells": [
  {
   "cell_type": "markdown",
   "metadata": {},
   "source": [
    "# Data Wrangling"
   ]
  },
  {
   "cell_type": "markdown",
   "metadata": {},
   "source": [
    "### Import Libraries and Load the dataset"
   ]
  },
  {
   "cell_type": "code",
   "execution_count": 1,
   "metadata": {},
   "outputs": [],
   "source": [
    "import pandas as pd\n",
    "import numpy as np\n",
    "import matplotlib.pyplot as plt\n",
    "import seaborn as sns\n",
    "import missingno as msno\n",
    "import datetime as dt\n",
    "import re \n",
    "import os"
   ]
  },
  {
   "cell_type": "code",
   "execution_count": 2,
   "metadata": {},
   "outputs": [],
   "source": [
    "job_data = pd.read_csv('../raw data/DataAnalyst.csv')"
   ]
  },
  {
   "cell_type": "code",
   "execution_count": 3,
   "metadata": {},
   "outputs": [
    {
     "name": "stdout",
     "output_type": "stream",
     "text": [
      "<class 'pandas.core.frame.DataFrame'>\n",
      "RangeIndex: 2253 entries, 0 to 2252\n",
      "Data columns (total 16 columns):\n",
      " #   Column             Non-Null Count  Dtype  \n",
      "---  ------             --------------  -----  \n",
      " 0   Unnamed: 0         2253 non-null   int64  \n",
      " 1   Job Title          2253 non-null   object \n",
      " 2   Salary Estimate    2253 non-null   object \n",
      " 3   Job Description    2253 non-null   object \n",
      " 4   Rating             2253 non-null   float64\n",
      " 5   Company Name       2252 non-null   object \n",
      " 6   Location           2253 non-null   object \n",
      " 7   Headquarters       2253 non-null   object \n",
      " 8   Size               2253 non-null   object \n",
      " 9   Founded            2253 non-null   int64  \n",
      " 10  Type of ownership  2253 non-null   object \n",
      " 11  Industry           2253 non-null   object \n",
      " 12  Sector             2253 non-null   object \n",
      " 13  Revenue            2253 non-null   object \n",
      " 14  Competitors        2253 non-null   object \n",
      " 15  Easy Apply         2253 non-null   object \n",
      "dtypes: float64(1), int64(2), object(13)\n",
      "memory usage: 281.8+ KB\n"
     ]
    }
   ],
   "source": [
    "job_data.info()"
   ]
  },
  {
   "cell_type": "code",
   "execution_count": 4,
   "metadata": {},
   "outputs": [],
   "source": [
    "#remove the unnamed column\n",
    "job_data.drop(['Unnamed: 0'], axis=1,inplace=True)"
   ]
  },
  {
   "cell_type": "code",
   "execution_count": 5,
   "metadata": {},
   "outputs": [
    {
     "data": {
      "text/html": [
       "<div>\n",
       "<style scoped>\n",
       "    .dataframe tbody tr th:only-of-type {\n",
       "        vertical-align: middle;\n",
       "    }\n",
       "\n",
       "    .dataframe tbody tr th {\n",
       "        vertical-align: top;\n",
       "    }\n",
       "\n",
       "    .dataframe thead th {\n",
       "        text-align: right;\n",
       "    }\n",
       "</style>\n",
       "<table border=\"1\" class=\"dataframe\">\n",
       "  <thead>\n",
       "    <tr style=\"text-align: right;\">\n",
       "      <th></th>\n",
       "      <th>Job Title</th>\n",
       "      <th>Salary Estimate</th>\n",
       "      <th>Job Description</th>\n",
       "      <th>Rating</th>\n",
       "      <th>Company Name</th>\n",
       "      <th>Location</th>\n",
       "      <th>Headquarters</th>\n",
       "      <th>Size</th>\n",
       "      <th>Founded</th>\n",
       "      <th>Type of ownership</th>\n",
       "      <th>Industry</th>\n",
       "      <th>Sector</th>\n",
       "      <th>Revenue</th>\n",
       "      <th>Competitors</th>\n",
       "      <th>Easy Apply</th>\n",
       "    </tr>\n",
       "  </thead>\n",
       "  <tbody>\n",
       "    <tr>\n",
       "      <th>0</th>\n",
       "      <td>Data Analyst, Center on Immigration and Justic...</td>\n",
       "      <td>$37K-$66K (Glassdoor est.)</td>\n",
       "      <td>Are you eager to roll up your sleeves and harn...</td>\n",
       "      <td>3.2</td>\n",
       "      <td>Vera Institute of Justice\\n3.2</td>\n",
       "      <td>New York, NY</td>\n",
       "      <td>New York, NY</td>\n",
       "      <td>201 to 500 employees</td>\n",
       "      <td>1961</td>\n",
       "      <td>Nonprofit Organization</td>\n",
       "      <td>Social Assistance</td>\n",
       "      <td>Non-Profit</td>\n",
       "      <td>$100 to $500 million (USD)</td>\n",
       "      <td>-1</td>\n",
       "      <td>True</td>\n",
       "    </tr>\n",
       "    <tr>\n",
       "      <th>1</th>\n",
       "      <td>Quality Data Analyst</td>\n",
       "      <td>$37K-$66K (Glassdoor est.)</td>\n",
       "      <td>Overview\\n\\nProvides analytical and technical ...</td>\n",
       "      <td>3.8</td>\n",
       "      <td>Visiting Nurse Service of New York\\n3.8</td>\n",
       "      <td>New York, NY</td>\n",
       "      <td>New York, NY</td>\n",
       "      <td>10000+ employees</td>\n",
       "      <td>1893</td>\n",
       "      <td>Nonprofit Organization</td>\n",
       "      <td>Health Care Services &amp; Hospitals</td>\n",
       "      <td>Health Care</td>\n",
       "      <td>$2 to $5 billion (USD)</td>\n",
       "      <td>-1</td>\n",
       "      <td>-1</td>\n",
       "    </tr>\n",
       "    <tr>\n",
       "      <th>2</th>\n",
       "      <td>Senior Data Analyst, Insights &amp; Analytics Team...</td>\n",
       "      <td>$37K-$66K (Glassdoor est.)</td>\n",
       "      <td>We’re looking for a Senior Data Analyst who ha...</td>\n",
       "      <td>3.4</td>\n",
       "      <td>Squarespace\\n3.4</td>\n",
       "      <td>New York, NY</td>\n",
       "      <td>New York, NY</td>\n",
       "      <td>1001 to 5000 employees</td>\n",
       "      <td>2003</td>\n",
       "      <td>Company - Private</td>\n",
       "      <td>Internet</td>\n",
       "      <td>Information Technology</td>\n",
       "      <td>Unknown / Non-Applicable</td>\n",
       "      <td>GoDaddy</td>\n",
       "      <td>-1</td>\n",
       "    </tr>\n",
       "    <tr>\n",
       "      <th>3</th>\n",
       "      <td>Data Analyst</td>\n",
       "      <td>$37K-$66K (Glassdoor est.)</td>\n",
       "      <td>Requisition NumberRR-0001939\\nRemote:Yes\\nWe c...</td>\n",
       "      <td>4.1</td>\n",
       "      <td>Celerity\\n4.1</td>\n",
       "      <td>New York, NY</td>\n",
       "      <td>McLean, VA</td>\n",
       "      <td>201 to 500 employees</td>\n",
       "      <td>2002</td>\n",
       "      <td>Subsidiary or Business Segment</td>\n",
       "      <td>IT Services</td>\n",
       "      <td>Information Technology</td>\n",
       "      <td>$50 to $100 million (USD)</td>\n",
       "      <td>-1</td>\n",
       "      <td>-1</td>\n",
       "    </tr>\n",
       "    <tr>\n",
       "      <th>4</th>\n",
       "      <td>Reporting Data Analyst</td>\n",
       "      <td>$37K-$66K (Glassdoor est.)</td>\n",
       "      <td>ABOUT FANDUEL GROUP\\n\\nFanDuel Group is a worl...</td>\n",
       "      <td>3.9</td>\n",
       "      <td>FanDuel\\n3.9</td>\n",
       "      <td>New York, NY</td>\n",
       "      <td>New York, NY</td>\n",
       "      <td>501 to 1000 employees</td>\n",
       "      <td>2009</td>\n",
       "      <td>Company - Private</td>\n",
       "      <td>Sports &amp; Recreation</td>\n",
       "      <td>Arts, Entertainment &amp; Recreation</td>\n",
       "      <td>$100 to $500 million (USD)</td>\n",
       "      <td>DraftKings</td>\n",
       "      <td>True</td>\n",
       "    </tr>\n",
       "  </tbody>\n",
       "</table>\n",
       "</div>"
      ],
      "text/plain": [
       "                                           Job Title  \\\n",
       "0  Data Analyst, Center on Immigration and Justic...   \n",
       "1                               Quality Data Analyst   \n",
       "2  Senior Data Analyst, Insights & Analytics Team...   \n",
       "3                                       Data Analyst   \n",
       "4                             Reporting Data Analyst   \n",
       "\n",
       "              Salary Estimate  \\\n",
       "0  $37K-$66K (Glassdoor est.)   \n",
       "1  $37K-$66K (Glassdoor est.)   \n",
       "2  $37K-$66K (Glassdoor est.)   \n",
       "3  $37K-$66K (Glassdoor est.)   \n",
       "4  $37K-$66K (Glassdoor est.)   \n",
       "\n",
       "                                     Job Description  Rating  \\\n",
       "0  Are you eager to roll up your sleeves and harn...     3.2   \n",
       "1  Overview\\n\\nProvides analytical and technical ...     3.8   \n",
       "2  We’re looking for a Senior Data Analyst who ha...     3.4   \n",
       "3  Requisition NumberRR-0001939\\nRemote:Yes\\nWe c...     4.1   \n",
       "4  ABOUT FANDUEL GROUP\\n\\nFanDuel Group is a worl...     3.9   \n",
       "\n",
       "                              Company Name      Location  Headquarters  \\\n",
       "0           Vera Institute of Justice\\n3.2  New York, NY  New York, NY   \n",
       "1  Visiting Nurse Service of New York\\n3.8  New York, NY  New York, NY   \n",
       "2                         Squarespace\\n3.4  New York, NY  New York, NY   \n",
       "3                            Celerity\\n4.1  New York, NY    McLean, VA   \n",
       "4                             FanDuel\\n3.9  New York, NY  New York, NY   \n",
       "\n",
       "                     Size  Founded               Type of ownership  \\\n",
       "0    201 to 500 employees     1961          Nonprofit Organization   \n",
       "1        10000+ employees     1893          Nonprofit Organization   \n",
       "2  1001 to 5000 employees     2003               Company - Private   \n",
       "3    201 to 500 employees     2002  Subsidiary or Business Segment   \n",
       "4   501 to 1000 employees     2009               Company - Private   \n",
       "\n",
       "                           Industry                            Sector  \\\n",
       "0                 Social Assistance                        Non-Profit   \n",
       "1  Health Care Services & Hospitals                       Health Care   \n",
       "2                          Internet            Information Technology   \n",
       "3                       IT Services            Information Technology   \n",
       "4               Sports & Recreation  Arts, Entertainment & Recreation   \n",
       "\n",
       "                      Revenue Competitors Easy Apply  \n",
       "0  $100 to $500 million (USD)          -1       True  \n",
       "1      $2 to $5 billion (USD)          -1         -1  \n",
       "2    Unknown / Non-Applicable     GoDaddy         -1  \n",
       "3   $50 to $100 million (USD)          -1         -1  \n",
       "4  $100 to $500 million (USD)  DraftKings       True  "
      ]
     },
     "execution_count": 5,
     "metadata": {},
     "output_type": "execute_result"
    }
   ],
   "source": [
    "job_data.head()"
   ]
  },
  {
   "cell_type": "markdown",
   "metadata": {},
   "source": [
    "### Check for Missing Values"
   ]
  },
  {
   "cell_type": "code",
   "execution_count": 6,
   "metadata": {},
   "outputs": [
    {
     "data": {
      "text/html": [
       "<div>\n",
       "<style scoped>\n",
       "    .dataframe tbody tr th:only-of-type {\n",
       "        vertical-align: middle;\n",
       "    }\n",
       "\n",
       "    .dataframe tbody tr th {\n",
       "        vertical-align: top;\n",
       "    }\n",
       "\n",
       "    .dataframe thead th {\n",
       "        text-align: right;\n",
       "    }\n",
       "</style>\n",
       "<table border=\"1\" class=\"dataframe\">\n",
       "  <thead>\n",
       "    <tr style=\"text-align: right;\">\n",
       "      <th></th>\n",
       "      <th>count</th>\n",
       "      <th>%</th>\n",
       "    </tr>\n",
       "  </thead>\n",
       "  <tbody>\n",
       "    <tr>\n",
       "      <th>Company Name</th>\n",
       "      <td>1</td>\n",
       "      <td>0.044385</td>\n",
       "    </tr>\n",
       "    <tr>\n",
       "      <th>Job Title</th>\n",
       "      <td>0</td>\n",
       "      <td>0.000000</td>\n",
       "    </tr>\n",
       "    <tr>\n",
       "      <th>Salary Estimate</th>\n",
       "      <td>0</td>\n",
       "      <td>0.000000</td>\n",
       "    </tr>\n",
       "    <tr>\n",
       "      <th>Job Description</th>\n",
       "      <td>0</td>\n",
       "      <td>0.000000</td>\n",
       "    </tr>\n",
       "    <tr>\n",
       "      <th>Rating</th>\n",
       "      <td>0</td>\n",
       "      <td>0.000000</td>\n",
       "    </tr>\n",
       "    <tr>\n",
       "      <th>Location</th>\n",
       "      <td>0</td>\n",
       "      <td>0.000000</td>\n",
       "    </tr>\n",
       "    <tr>\n",
       "      <th>Headquarters</th>\n",
       "      <td>0</td>\n",
       "      <td>0.000000</td>\n",
       "    </tr>\n",
       "    <tr>\n",
       "      <th>Size</th>\n",
       "      <td>0</td>\n",
       "      <td>0.000000</td>\n",
       "    </tr>\n",
       "    <tr>\n",
       "      <th>Founded</th>\n",
       "      <td>0</td>\n",
       "      <td>0.000000</td>\n",
       "    </tr>\n",
       "    <tr>\n",
       "      <th>Type of ownership</th>\n",
       "      <td>0</td>\n",
       "      <td>0.000000</td>\n",
       "    </tr>\n",
       "    <tr>\n",
       "      <th>Industry</th>\n",
       "      <td>0</td>\n",
       "      <td>0.000000</td>\n",
       "    </tr>\n",
       "    <tr>\n",
       "      <th>Sector</th>\n",
       "      <td>0</td>\n",
       "      <td>0.000000</td>\n",
       "    </tr>\n",
       "    <tr>\n",
       "      <th>Revenue</th>\n",
       "      <td>0</td>\n",
       "      <td>0.000000</td>\n",
       "    </tr>\n",
       "    <tr>\n",
       "      <th>Competitors</th>\n",
       "      <td>0</td>\n",
       "      <td>0.000000</td>\n",
       "    </tr>\n",
       "    <tr>\n",
       "      <th>Easy Apply</th>\n",
       "      <td>0</td>\n",
       "      <td>0.000000</td>\n",
       "    </tr>\n",
       "  </tbody>\n",
       "</table>\n",
       "</div>"
      ],
      "text/plain": [
       "                   count         %\n",
       "Company Name           1  0.044385\n",
       "Job Title              0  0.000000\n",
       "Salary Estimate        0  0.000000\n",
       "Job Description        0  0.000000\n",
       "Rating                 0  0.000000\n",
       "Location               0  0.000000\n",
       "Headquarters           0  0.000000\n",
       "Size                   0  0.000000\n",
       "Founded                0  0.000000\n",
       "Type of ownership      0  0.000000\n",
       "Industry               0  0.000000\n",
       "Sector                 0  0.000000\n",
       "Revenue                0  0.000000\n",
       "Competitors            0  0.000000\n",
       "Easy Apply             0  0.000000"
      ]
     },
     "execution_count": 6,
     "metadata": {},
     "output_type": "execute_result"
    }
   ],
   "source": [
    "missing = pd.concat([job_data.isnull().sum(), 100 * job_data.isnull().mean()], axis=1)\n",
    "missing.columns=['count', '%']\n",
    "missing.sort_values(by=['count','%'],ascending= False)"
   ]
  },
  {
   "cell_type": "markdown",
   "metadata": {},
   "source": [
    "Sometimes 'missingness' can be encoded, perhaps by a -1 or 999 since isnull() is not the only indicator of missing data, we need to do some investigation here."
   ]
  },
  {
   "cell_type": "code",
   "execution_count": 7,
   "metadata": {
    "scrolled": true
   },
   "outputs": [
    {
     "name": "stdout",
     "output_type": "stream",
     "text": [
      "<class 'pandas.core.frame.DataFrame'>\n",
      "RangeIndex: 2253 entries, 0 to 2252\n",
      "Data columns (total 15 columns):\n",
      " #   Column             Non-Null Count  Dtype  \n",
      "---  ------             --------------  -----  \n",
      " 0   Job Title          2253 non-null   string \n",
      " 1   Salary Estimate    2253 non-null   string \n",
      " 2   Job Description    2253 non-null   string \n",
      " 3   Rating             2253 non-null   float64\n",
      " 4   Company Name       2252 non-null   string \n",
      " 5   Location           2253 non-null   string \n",
      " 6   Headquarters       2253 non-null   string \n",
      " 7   Size               2253 non-null   string \n",
      " 8   Founded            2253 non-null   int64  \n",
      " 9   Type of ownership  2253 non-null   string \n",
      " 10  Industry           2253 non-null   string \n",
      " 11  Sector             2253 non-null   string \n",
      " 12  Revenue            2253 non-null   string \n",
      " 13  Competitors        2253 non-null   string \n",
      " 14  Easy Apply         2253 non-null   string \n",
      "dtypes: float64(1), int64(1), string(13)\n",
      "memory usage: 264.1 KB\n"
     ]
    }
   ],
   "source": [
    "#converting data types\n",
    "job_data = job_data.astype({'Job Title':'string','Salary Estimate':'string','Job Description':'string','Company Name':'string',\n",
    "                           'Location':'string','Headquarters':'string','Size':'string','Type of ownership':'string',\n",
    "                           'Industry':'string','Sector':'string','Revenue':'string','Competitors':'string','Easy Apply':'string'})\n",
    "job_data.info()"
   ]
  },
  {
   "cell_type": "code",
   "execution_count": 8,
   "metadata": {},
   "outputs": [
    {
     "data": {
      "text/plain": [
       "-1                                                              1732\n",
       "Robert Half, Insight Global                                       14\n",
       "Adecco, Manpower                                                  14\n",
       "Artech Information Systems, Mindlance, Tech Mahindra              10\n",
       "Google, Microsoft, Samsung Electronics                            10\n",
       "                                                                ... \n",
       "Avant, LendingClub, Prosper.com                                    1\n",
       "Apex Systems, Kforce, Robert Half                                  1\n",
       "Kforce, PageGroup, Robert Half                                     1\n",
       "AutoZone, eBay, Advance Auto Parts                                 1\n",
       "Goldman Sachs, Commonwealth Bank of Australia, Deutsche Bank       1\n",
       "Name: Competitors, Length: 291, dtype: Int64"
      ]
     },
     "execution_count": 8,
     "metadata": {},
     "output_type": "execute_result"
    }
   ],
   "source": [
    "job_data['Competitors'].value_counts()"
   ]
  },
  {
   "cell_type": "code",
   "execution_count": 9,
   "metadata": {},
   "outputs": [
    {
     "data": {
      "text/plain": [
       "$42K-$76K (Glassdoor est.)    57\n",
       "$41K-$78K (Glassdoor est.)    57\n",
       "$50K-$86K (Glassdoor est.)    41\n",
       "$35K-$67K (Glassdoor est.)    33\n",
       "$58K-$93K (Glassdoor est.)    31\n",
       "                              ..\n",
       "$43K-$77K (Glassdoor est.)     3\n",
       "$47K-$81K (Glassdoor est.)     3\n",
       "$36K-$67K (Glassdoor est.)     3\n",
       "$57K-$70K (Glassdoor est.)     2\n",
       "-1                             1\n",
       "Name: Salary Estimate, Length: 90, dtype: Int64"
      ]
     },
     "execution_count": 9,
     "metadata": {},
     "output_type": "execute_result"
    }
   ],
   "source": [
    "job_data['Salary Estimate'].value_counts()"
   ]
  },
  {
   "cell_type": "code",
   "execution_count": 10,
   "metadata": {},
   "outputs": [
    {
     "data": {
      "text/plain": [
       "-1.0    272\n",
       " 3.9    140\n",
       " 3.6    135\n",
       " 3.7    132\n",
       " 5.0    131\n",
       " 3.8    130\n",
       " 4.0    129\n",
       " 3.5    125\n",
       " 4.1    119\n",
       " 3.3    109\n",
       " 3.4    101\n",
       " 3.2     91\n",
       " 3.1     68\n",
       " 3.0     57\n",
       " 4.3     55\n",
       " 4.2     47\n",
       " 4.5     47\n",
       " 4.6     46\n",
       " 4.4     46\n",
       " 2.8     43\n",
       " 2.9     40\n",
       " 2.5     32\n",
       " 4.8     29\n",
       " 2.7     25\n",
       " 4.7     23\n",
       " 4.9     17\n",
       " 2.6     14\n",
       " 2.4     10\n",
       " 1.0     10\n",
       " 2.3      9\n",
       " 2.0      6\n",
       " 2.1      4\n",
       " 2.2      3\n",
       " 1.6      2\n",
       " 1.8      2\n",
       " 1.9      2\n",
       " 1.7      2\n",
       "Name: Rating, dtype: int64"
      ]
     },
     "execution_count": 10,
     "metadata": {},
     "output_type": "execute_result"
    }
   ],
   "source": [
    "job_data['Rating'].value_counts()"
   ]
  },
  {
   "cell_type": "code",
   "execution_count": 11,
   "metadata": {},
   "outputs": [
    {
     "data": {
      "text/plain": [
       "51 to 200 employees        421\n",
       "10000+ employees           375\n",
       "1001 to 5000 employees     348\n",
       "1 to 50 employees          347\n",
       "201 to 500 employees       249\n",
       "501 to 1000 employees      211\n",
       "-1                         163\n",
       "5001 to 10000 employees     97\n",
       "Unknown                     42\n",
       "Name: Size, dtype: Int64"
      ]
     },
     "execution_count": 11,
     "metadata": {},
     "output_type": "execute_result"
    }
   ],
   "source": [
    "job_data['Size'].value_counts()"
   ]
  },
  {
   "cell_type": "code",
   "execution_count": 12,
   "metadata": {},
   "outputs": [
    {
     "data": {
      "text/plain": [
       "Unknown / Non-Applicable            615\n",
       "$100 to $500 million (USD)          218\n",
       "$50 to $100 million (USD)           199\n",
       "$10+ billion (USD)                  189\n",
       "-1                                  163\n",
       "$10 to $25 million (USD)            132\n",
       "$2 to $5 billion (USD)              129\n",
       "$1 to $5 million (USD)              111\n",
       "$25 to $50 million (USD)            110\n",
       "Less than $1 million (USD)           93\n",
       "$1 to $2 billion (USD)               87\n",
       "$500 million to $1 billion (USD)     79\n",
       "$5 to $10 million (USD)              72\n",
       "$5 to $10 billion (USD)              56\n",
       "Name: Revenue, dtype: Int64"
      ]
     },
     "execution_count": 12,
     "metadata": {},
     "output_type": "execute_result"
    }
   ],
   "source": [
    "job_data['Revenue'].value_counts()"
   ]
  },
  {
   "cell_type": "code",
   "execution_count": 13,
   "metadata": {},
   "outputs": [
    {
     "data": {
      "text/plain": [
       "-1       660\n",
       " 2008     80\n",
       " 1996     54\n",
       " 2000     54\n",
       " 2002     54\n",
       "        ... \n",
       " 1924      1\n",
       " 1922      1\n",
       " 1918      1\n",
       " 1908      1\n",
       " 1682      1\n",
       "Name: Founded, Length: 161, dtype: int64"
      ]
     },
     "execution_count": 13,
     "metadata": {},
     "output_type": "execute_result"
    }
   ],
   "source": [
    "job_data['Founded'].value_counts()"
   ]
  },
  {
   "cell_type": "code",
   "execution_count": 14,
   "metadata": {},
   "outputs": [
    {
     "data": {
      "text/plain": [
       "Company - Private                 1273\n",
       "Company - Public                   452\n",
       "-1                                 163\n",
       "Nonprofit Organization             124\n",
       "Subsidiary or Business Segment      89\n",
       "Government                          37\n",
       "College / University                34\n",
       "Hospital                            19\n",
       "Unknown                             16\n",
       "Other Organization                  13\n",
       "Contract                            11\n",
       "School / School District             9\n",
       "Private Practice / Firm              9\n",
       "Franchise                            2\n",
       "Self-employed                        2\n",
       "Name: Type of ownership, dtype: Int64"
      ]
     },
     "execution_count": 14,
     "metadata": {},
     "output_type": "execute_result"
    }
   ],
   "source": [
    "job_data['Type of ownership'].value_counts()"
   ]
  },
  {
   "cell_type": "code",
   "execution_count": 15,
   "metadata": {},
   "outputs": [
    {
     "data": {
      "text/plain": [
       "-1                                          353\n",
       "IT Services                                 325\n",
       "Staffing & Outsourcing                      323\n",
       "Health Care Services & Hospitals            151\n",
       "Computer Hardware & Software                111\n",
       "                                           ... \n",
       "Consumer Electronics & Appliances Stores      1\n",
       "Sporting Goods Stores                         1\n",
       "Hotels, Motels, & Resorts                     1\n",
       "Truck Rental & Leasing                        1\n",
       "Catering & Food Service Contractors           1\n",
       "Name: Industry, Length: 89, dtype: Int64"
      ]
     },
     "execution_count": 15,
     "metadata": {},
     "output_type": "execute_result"
    }
   ],
   "source": [
    "job_data['Industry'].value_counts()"
   ]
  },
  {
   "cell_type": "code",
   "execution_count": 16,
   "metadata": {},
   "outputs": [
    {
     "data": {
      "text/plain": [
       "Information Technology                570\n",
       "Business Services                     524\n",
       "-1                                    353\n",
       "Finance                               169\n",
       "Health Care                           151\n",
       "Education                              52\n",
       "Insurance                              51\n",
       "Accounting & Legal                     43\n",
       "Media                                  42\n",
       "Manufacturing                          40\n",
       "Retail                                 38\n",
       "Government                             36\n",
       "Biotech & Pharmaceuticals              33\n",
       "Non-Profit                             26\n",
       "Aerospace & Defense                    22\n",
       "Transportation & Logistics             20\n",
       "Construction, Repair & Maintenance     16\n",
       "Consumer Services                      14\n",
       "Oil, Gas, Energy & Utilities           13\n",
       "Real Estate                            12\n",
       "Telecommunications                     11\n",
       "Restaurants, Bars & Food Services       8\n",
       "Arts, Entertainment & Recreation        7\n",
       "Mining & Metals                         1\n",
       "Travel & Tourism                        1\n",
       "Name: Sector, dtype: Int64"
      ]
     },
     "execution_count": 16,
     "metadata": {},
     "output_type": "execute_result"
    }
   ],
   "source": [
    "job_data['Sector'].value_counts()"
   ]
  },
  {
   "cell_type": "markdown",
   "metadata": {},
   "source": [
    "It seems like some of the columns contain null data like -1, '-1', -1.0, 'Unknown', and 'Unknown / Non-Applicable',and we need to clean these."
   ]
  },
  {
   "cell_type": "code",
   "execution_count": 17,
   "metadata": {},
   "outputs": [],
   "source": [
    "job_data=job_data.replace(-1,np.nan)\n",
    "job_data=job_data.replace(-1.0,np.nan)\n",
    "job_data=job_data.replace('-1',np.nan)\n",
    "job_data=job_data.replace('Unknown',np.nan)\n",
    "job_data=job_data.replace('Unknown / Non-Applicable',np.nan)"
   ]
  },
  {
   "cell_type": "code",
   "execution_count": 18,
   "metadata": {},
   "outputs": [
    {
     "data": {
      "text/html": [
       "<div>\n",
       "<style scoped>\n",
       "    .dataframe tbody tr th:only-of-type {\n",
       "        vertical-align: middle;\n",
       "    }\n",
       "\n",
       "    .dataframe tbody tr th {\n",
       "        vertical-align: top;\n",
       "    }\n",
       "\n",
       "    .dataframe thead th {\n",
       "        text-align: right;\n",
       "    }\n",
       "</style>\n",
       "<table border=\"1\" class=\"dataframe\">\n",
       "  <thead>\n",
       "    <tr style=\"text-align: right;\">\n",
       "      <th></th>\n",
       "      <th>count</th>\n",
       "      <th>%</th>\n",
       "    </tr>\n",
       "  </thead>\n",
       "  <tbody>\n",
       "    <tr>\n",
       "      <th>Easy Apply</th>\n",
       "      <td>2173</td>\n",
       "      <td>96.449179</td>\n",
       "    </tr>\n",
       "    <tr>\n",
       "      <th>Competitors</th>\n",
       "      <td>1732</td>\n",
       "      <td>76.875277</td>\n",
       "    </tr>\n",
       "    <tr>\n",
       "      <th>Revenue</th>\n",
       "      <td>778</td>\n",
       "      <td>34.531735</td>\n",
       "    </tr>\n",
       "    <tr>\n",
       "      <th>Founded</th>\n",
       "      <td>660</td>\n",
       "      <td>29.294274</td>\n",
       "    </tr>\n",
       "    <tr>\n",
       "      <th>Industry</th>\n",
       "      <td>353</td>\n",
       "      <td>15.667998</td>\n",
       "    </tr>\n",
       "    <tr>\n",
       "      <th>Sector</th>\n",
       "      <td>353</td>\n",
       "      <td>15.667998</td>\n",
       "    </tr>\n",
       "    <tr>\n",
       "      <th>Rating</th>\n",
       "      <td>272</td>\n",
       "      <td>12.072792</td>\n",
       "    </tr>\n",
       "    <tr>\n",
       "      <th>Size</th>\n",
       "      <td>205</td>\n",
       "      <td>9.098979</td>\n",
       "    </tr>\n",
       "    <tr>\n",
       "      <th>Type of ownership</th>\n",
       "      <td>179</td>\n",
       "      <td>7.944962</td>\n",
       "    </tr>\n",
       "    <tr>\n",
       "      <th>Headquarters</th>\n",
       "      <td>172</td>\n",
       "      <td>7.634265</td>\n",
       "    </tr>\n",
       "    <tr>\n",
       "      <th>Salary Estimate</th>\n",
       "      <td>1</td>\n",
       "      <td>0.044385</td>\n",
       "    </tr>\n",
       "    <tr>\n",
       "      <th>Company Name</th>\n",
       "      <td>1</td>\n",
       "      <td>0.044385</td>\n",
       "    </tr>\n",
       "    <tr>\n",
       "      <th>Job Title</th>\n",
       "      <td>0</td>\n",
       "      <td>0.000000</td>\n",
       "    </tr>\n",
       "    <tr>\n",
       "      <th>Job Description</th>\n",
       "      <td>0</td>\n",
       "      <td>0.000000</td>\n",
       "    </tr>\n",
       "    <tr>\n",
       "      <th>Location</th>\n",
       "      <td>0</td>\n",
       "      <td>0.000000</td>\n",
       "    </tr>\n",
       "  </tbody>\n",
       "</table>\n",
       "</div>"
      ],
      "text/plain": [
       "                   count          %\n",
       "Easy Apply          2173  96.449179\n",
       "Competitors         1732  76.875277\n",
       "Revenue              778  34.531735\n",
       "Founded              660  29.294274\n",
       "Industry             353  15.667998\n",
       "Sector               353  15.667998\n",
       "Rating               272  12.072792\n",
       "Size                 205   9.098979\n",
       "Type of ownership    179   7.944962\n",
       "Headquarters         172   7.634265\n",
       "Salary Estimate        1   0.044385\n",
       "Company Name           1   0.044385\n",
       "Job Title              0   0.000000\n",
       "Job Description        0   0.000000\n",
       "Location               0   0.000000"
      ]
     },
     "execution_count": 18,
     "metadata": {},
     "output_type": "execute_result"
    }
   ],
   "source": [
    "new_missing = pd.concat([job_data.isnull().sum(), 100 * job_data.isnull().mean()], axis=1)\n",
    "new_missing.columns=['count', '%']\n",
    "new_missing.sort_values(by=['count','%'],ascending= False)"
   ]
  },
  {
   "cell_type": "code",
   "execution_count": 19,
   "metadata": {},
   "outputs": [
    {
     "data": {
      "image/png": "[encoded data removed]",
      "text/plain": [
       "<Figure size 1800x720 with 2 Axes>"
      ]
     },
     "metadata": {
      "needs_background": "light"
     },
     "output_type": "display_data"
    }
   ],
   "source": [
    "# Visualize missingness\n",
    "msno.matrix(job_data.sort_values(by = 'Rating',ascending = True))\n",
    "plt.show()"
   ]
  },
  {
   "cell_type": "markdown",
   "metadata": {},
   "source": [
    "Now we can see that 'Easy Apply' and 'Competitors' have maximum number of missing values, which are 96% and 77%, respectively. According to Glassdoor, 'Easy Apply' is a job application mechanism that allows job seekers to apply to a job requisition directly on Glassdoor. Since these two columns are not features that directly related to the salary, we will drop these columns. There is essentially no information in these two columns.\n",
    "In addition, note that there seems to be a pattern on some of the missing data. For examples, missing industry info always occur with missing sector info; also, the missingness of headquaters, size, type of ownership, and revenue are very consistent, and when these data are missing, the rating is missing too."
   ]
  },
  {
   "cell_type": "code",
   "execution_count": 20,
   "metadata": {},
   "outputs": [],
   "source": [
    "#Drop Competitors and Easy Apply\n",
    "job_data.drop(['Competitors','Easy Apply'], axis=1,inplace=True)"
   ]
  },
  {
   "cell_type": "code",
   "execution_count": 21,
   "metadata": {},
   "outputs": [],
   "source": [
    "#Drop the one row with missing Salary infomation since salary is our target.\n",
    "job_data.drop(job_data[job_data['Salary Estimate'].isna()].index,inplace=True)"
   ]
  },
  {
   "cell_type": "code",
   "execution_count": 22,
   "metadata": {},
   "outputs": [
    {
     "data": {
      "text/plain": [
       "164"
      ]
     },
     "execution_count": 22,
     "metadata": {},
     "output_type": "execute_result"
    }
   ],
   "source": [
    "#See how many rows that contain more than half of missing values\n",
    "job_data[job_data.isna().sum(axis=1)>6].shape[0]"
   ]
  },
  {
   "cell_type": "code",
   "execution_count": 23,
   "metadata": {},
   "outputs": [],
   "source": [
    "#drop these all rows that contain more than 50% of missing values \n",
    "job_data.drop(job_data[job_data.isna().sum(axis=1)>6].index,inplace = True)"
   ]
  },
  {
   "cell_type": "code",
   "execution_count": 24,
   "metadata": {},
   "outputs": [
    {
     "data": {
      "text/html": [
       "<div>\n",
       "<style scoped>\n",
       "    .dataframe tbody tr th:only-of-type {\n",
       "        vertical-align: middle;\n",
       "    }\n",
       "\n",
       "    .dataframe tbody tr th {\n",
       "        vertical-align: top;\n",
       "    }\n",
       "\n",
       "    .dataframe thead th {\n",
       "        text-align: right;\n",
       "    }\n",
       "</style>\n",
       "<table border=\"1\" class=\"dataframe\">\n",
       "  <thead>\n",
       "    <tr style=\"text-align: right;\">\n",
       "      <th></th>\n",
       "      <th>count</th>\n",
       "      <th>%</th>\n",
       "    </tr>\n",
       "  </thead>\n",
       "  <tbody>\n",
       "    <tr>\n",
       "      <th>Revenue</th>\n",
       "      <td>614</td>\n",
       "      <td>29.406130</td>\n",
       "    </tr>\n",
       "    <tr>\n",
       "      <th>Founded</th>\n",
       "      <td>496</td>\n",
       "      <td>23.754789</td>\n",
       "    </tr>\n",
       "    <tr>\n",
       "      <th>Industry</th>\n",
       "      <td>189</td>\n",
       "      <td>9.051724</td>\n",
       "    </tr>\n",
       "    <tr>\n",
       "      <th>Sector</th>\n",
       "      <td>189</td>\n",
       "      <td>9.051724</td>\n",
       "    </tr>\n",
       "    <tr>\n",
       "      <th>Rating</th>\n",
       "      <td>108</td>\n",
       "      <td>5.172414</td>\n",
       "    </tr>\n",
       "    <tr>\n",
       "      <th>Size</th>\n",
       "      <td>41</td>\n",
       "      <td>1.963602</td>\n",
       "    </tr>\n",
       "    <tr>\n",
       "      <th>Type of ownership</th>\n",
       "      <td>15</td>\n",
       "      <td>0.718391</td>\n",
       "    </tr>\n",
       "    <tr>\n",
       "      <th>Headquarters</th>\n",
       "      <td>9</td>\n",
       "      <td>0.431034</td>\n",
       "    </tr>\n",
       "    <tr>\n",
       "      <th>Job Title</th>\n",
       "      <td>0</td>\n",
       "      <td>0.000000</td>\n",
       "    </tr>\n",
       "    <tr>\n",
       "      <th>Salary Estimate</th>\n",
       "      <td>0</td>\n",
       "      <td>0.000000</td>\n",
       "    </tr>\n",
       "    <tr>\n",
       "      <th>Job Description</th>\n",
       "      <td>0</td>\n",
       "      <td>0.000000</td>\n",
       "    </tr>\n",
       "    <tr>\n",
       "      <th>Company Name</th>\n",
       "      <td>0</td>\n",
       "      <td>0.000000</td>\n",
       "    </tr>\n",
       "    <tr>\n",
       "      <th>Location</th>\n",
       "      <td>0</td>\n",
       "      <td>0.000000</td>\n",
       "    </tr>\n",
       "  </tbody>\n",
       "</table>\n",
       "</div>"
      ],
      "text/plain": [
       "                   count          %\n",
       "Revenue              614  29.406130\n",
       "Founded              496  23.754789\n",
       "Industry             189   9.051724\n",
       "Sector               189   9.051724\n",
       "Rating               108   5.172414\n",
       "Size                  41   1.963602\n",
       "Type of ownership     15   0.718391\n",
       "Headquarters           9   0.431034\n",
       "Job Title              0   0.000000\n",
       "Salary Estimate        0   0.000000\n",
       "Job Description        0   0.000000\n",
       "Company Name           0   0.000000\n",
       "Location               0   0.000000"
      ]
     },
     "execution_count": 24,
     "metadata": {},
     "output_type": "execute_result"
    }
   ],
   "source": [
    "#Checking for missing values again after dropping some rows and columns\n",
    "new_missing_2 = pd.concat([job_data.isnull().sum(), 100 * job_data.isnull().mean()], axis=1)\n",
    "new_missing_2.columns=['count', '%']\n",
    "new_missing_2.sort_values(by=['count','%'],ascending= False)"
   ]
  },
  {
   "cell_type": "code",
   "execution_count": 25,
   "metadata": {},
   "outputs": [
    {
     "data": {
      "text/plain": [
       "(2088, 13)"
      ]
     },
     "execution_count": 25,
     "metadata": {},
     "output_type": "execute_result"
    }
   ],
   "source": [
    "job_data.shape"
   ]
  },
  {
   "cell_type": "markdown",
   "metadata": {},
   "source": [
    "After dropping some rows and columns which contain massive missing values, we now have 2088 observations and 13 features left. Among all the features we have left, 'Revenue' and 'Founded' have maximum number of missing values, which are 29% and 24%, respectively. We'll need to find a way to impute those values later. "
   ]
  },
  {
   "cell_type": "markdown",
   "metadata": {},
   "source": [
    "### Columns - Data Types and Formats"
   ]
  },
  {
   "cell_type": "markdown",
   "metadata": {},
   "source": [
    "#### Founded -- Years Founded"
   ]
  },
  {
   "cell_type": "markdown",
   "metadata": {},
   "source": [
    "Since the info about the age of a company will be more useful than the info about which year the company was founded, we transform the column ' Founded' to 'Years Founded'."
   ]
  },
  {
   "cell_type": "code",
   "execution_count": 26,
   "metadata": {},
   "outputs": [],
   "source": [
    "#Change the column 'Founded' to 'Years Founded'\n",
    "today_year = dt.date.today().year\n",
    "job_data['Years Founded'] = today_year - job_data['Founded']\n",
    "job_data.drop(['Founded'],axis=1,inplace = True)"
   ]
  },
  {
   "cell_type": "markdown",
   "metadata": {},
   "source": [
    "#### Salary Estimate -- Min_Salary & Max Salary"
   ]
  },
  {
   "cell_type": "code",
   "execution_count": 27,
   "metadata": {},
   "outputs": [],
   "source": [
    "#Split salary into two columns min salary and max salary.\n",
    "job_data['Salary Estimate'] = job_data['Salary Estimate'].str.strip('(Glassdoor est.)')\n",
    "job_data['Min_Salary($K)'] = job_data['Salary Estimate'].str.split('-').str.get(0).str.strip('$K').astype('int')\n",
    "job_data['Max_Salary($K)'] = job_data['Salary Estimate'].str.split('-').str.get(1).str.strip('$K').astype('int')\n",
    "job_data.drop(['Salary Estimate'], axis=1,inplace=True)"
   ]
  },
  {
   "cell_type": "markdown",
   "metadata": {},
   "source": [
    "#### Company Name"
   ]
  },
  {
   "cell_type": "markdown",
   "metadata": {},
   "source": [
    "We see that the entries in the column Company Name always have the rating attached to it at the end when ratings are not missing, and we want to keep only the company name in that column."
   ]
  },
  {
   "cell_type": "code",
   "execution_count": 28,
   "metadata": {},
   "outputs": [],
   "source": [
    "#Remove the rating in the column 'Company Name'\n",
    "job_data['Company Name'] = job_data['Company Name'].str.split('\\n').str.get(0)"
   ]
  },
  {
   "cell_type": "markdown",
   "metadata": {},
   "source": [
    "#### Job Title -- Seniority"
   ]
  },
  {
   "cell_type": "code",
   "execution_count": 29,
   "metadata": {},
   "outputs": [
    {
     "data": {
      "text/plain": [
       "Data Analyst                               374\n",
       "Senior Data Analyst                         82\n",
       "Junior Data Analyst                         30\n",
       "Business Data Analyst                       26\n",
       "Sr. Data Analyst                            19\n",
       "Data Quality Analyst                        17\n",
       "Data Analyst II                             17\n",
       "Data Analyst Junior                         17\n",
       "Data Governance Analyst                     16\n",
       "Lead Data Analyst                           15\n",
       "Data Reporting Analyst                      12\n",
       "Data Analyst III                            11\n",
       "Data Analyst I                              10\n",
       "Financial Data Analyst                       9\n",
       "Sr Data Analyst                              9\n",
       "Data Warehouse Analyst                       8\n",
       "Marketing Data Analyst                       8\n",
       "Data Management Analyst                      8\n",
       "Technical Data Analyst                       7\n",
       "SQL Data Analyst                             7\n",
       "Clinical Data Analyst                        6\n",
       "Data Science Analyst                         6\n",
       "Data Security Analyst                        6\n",
       "Data Analyst III (Healthcare Analytics)      5\n",
       "Product Data Analyst                         5\n",
       "Name: Job Title, dtype: Int64"
      ]
     },
     "execution_count": 29,
     "metadata": {},
     "output_type": "execute_result"
    }
   ],
   "source": [
    "job_data['Job Title'].value_counts().head(25)"
   ]
  },
  {
   "cell_type": "markdown",
   "metadata": {},
   "source": [
    "There are 1148 unique job titles here, and a lot of them only have 1 count; therefore, we need to consolidate them. We decide to create a new feature named 'Seniority', which indicates if each of these roles is junior role, senior role, or neither/unknown/NA."
   ]
  },
  {
   "cell_type": "code",
   "execution_count": 30,
   "metadata": {},
   "outputs": [],
   "source": [
    "# Create new feature 'Seniority' from 'Job Title'\n",
    "def seniority(title):\n",
    "    if 'sr' in title.lower() or 'sr.' in title.lower() or 'senior' in title.lower() or 'lead' in title.lower() or 'principal' in title.lower():\n",
    "        return 'Senior'\n",
    "    elif 'jr' in title.lower() or 'jr.' in title.lower() or 'junior' in title.lower() or 'entry level' in title.lower():\n",
    "        return 'Junior'\n",
    "    else:\n",
    "        return 'N/A'\n",
    "job_data['Seniority'] = job_data['Job Title'].apply(seniority)"
   ]
  },
  {
   "cell_type": "code",
   "execution_count": 31,
   "metadata": {},
   "outputs": [
    {
     "data": {
      "text/plain": [
       "N/A       1565\n",
       "Senior     446\n",
       "Junior      77\n",
       "Name: Seniority, dtype: int64"
      ]
     },
     "execution_count": 31,
     "metadata": {},
     "output_type": "execute_result"
    }
   ],
   "source": [
    "job_data['Seniority'].value_counts()"
   ]
  },
  {
   "cell_type": "code",
   "execution_count": 32,
   "metadata": {},
   "outputs": [],
   "source": [
    "#Drop the column 'Job Title'\n",
    "job_data.drop('Job Title', axis=1,inplace=True)"
   ]
  },
  {
   "cell_type": "markdown",
   "metadata": {},
   "source": [
    "#### Size"
   ]
  },
  {
   "cell_type": "code",
   "execution_count": 33,
   "metadata": {},
   "outputs": [
    {
     "data": {
      "image/png": "[encoded data removed]",
      "text/plain": [
       "<Figure size 432x288 with 1 Axes>"
      ]
     },
     "metadata": {
      "needs_background": "light"
     },
     "output_type": "display_data"
    }
   ],
   "source": [
    "#Size distribution\n",
    "job_data['Size'].astype('category').value_counts().plot(kind='bar')\n",
    "plt.show()"
   ]
  },
  {
   "cell_type": "code",
   "execution_count": 34,
   "metadata": {},
   "outputs": [
    {
     "data": {
      "text/html": [
       "<div>\n",
       "<style scoped>\n",
       "    .dataframe tbody tr th:only-of-type {\n",
       "        vertical-align: middle;\n",
       "    }\n",
       "\n",
       "    .dataframe tbody tr th {\n",
       "        vertical-align: top;\n",
       "    }\n",
       "\n",
       "    .dataframe thead th {\n",
       "        text-align: right;\n",
       "    }\n",
       "</style>\n",
       "<table border=\"1\" class=\"dataframe\">\n",
       "  <thead>\n",
       "    <tr style=\"text-align: right;\">\n",
       "      <th></th>\n",
       "      <th>Rating</th>\n",
       "      <th>Years Founded</th>\n",
       "      <th>Min_Salary($K)</th>\n",
       "      <th>Max_Salary($K)</th>\n",
       "      <th>Mean_Salary($K)</th>\n",
       "    </tr>\n",
       "    <tr>\n",
       "      <th>Size</th>\n",
       "      <th></th>\n",
       "      <th></th>\n",
       "      <th></th>\n",
       "      <th></th>\n",
       "      <th></th>\n",
       "    </tr>\n",
       "  </thead>\n",
       "  <tbody>\n",
       "    <tr>\n",
       "      <th>10000+ employees</th>\n",
       "      <td>3.633067</td>\n",
       "      <td>90.686649</td>\n",
       "      <td>52.141333</td>\n",
       "      <td>87.773333</td>\n",
       "      <td>69.957333</td>\n",
       "    </tr>\n",
       "    <tr>\n",
       "      <th>201 to 500 employees</th>\n",
       "      <td>3.667886</td>\n",
       "      <td>24.837321</td>\n",
       "      <td>53.602410</td>\n",
       "      <td>88.783133</td>\n",
       "      <td>71.192771</td>\n",
       "    </tr>\n",
       "    <tr>\n",
       "      <th>501 to 1000 employees</th>\n",
       "      <td>3.647867</td>\n",
       "      <td>26.572917</td>\n",
       "      <td>54.526066</td>\n",
       "      <td>89.450237</td>\n",
       "      <td>71.988152</td>\n",
       "    </tr>\n",
       "    <tr>\n",
       "      <th>51 to 200 employees</th>\n",
       "      <td>4.024495</td>\n",
       "      <td>16.078689</td>\n",
       "      <td>54.340476</td>\n",
       "      <td>90.702381</td>\n",
       "      <td>72.521429</td>\n",
       "    </tr>\n",
       "    <tr>\n",
       "      <th>1 to 50 employees</th>\n",
       "      <td>3.860764</td>\n",
       "      <td>15.357143</td>\n",
       "      <td>54.858790</td>\n",
       "      <td>90.564841</td>\n",
       "      <td>72.711816</td>\n",
       "    </tr>\n",
       "    <tr>\n",
       "      <th>1001 to 5000 employees</th>\n",
       "      <td>3.509798</td>\n",
       "      <td>36.654088</td>\n",
       "      <td>54.928161</td>\n",
       "      <td>90.810345</td>\n",
       "      <td>72.869253</td>\n",
       "    </tr>\n",
       "    <tr>\n",
       "      <th>5001 to 10000 employees</th>\n",
       "      <td>3.636082</td>\n",
       "      <td>50.321839</td>\n",
       "      <td>55.505155</td>\n",
       "      <td>92.896907</td>\n",
       "      <td>74.201031</td>\n",
       "    </tr>\n",
       "  </tbody>\n",
       "</table>\n",
       "</div>"
      ],
      "text/plain": [
       "                           Rating  Years Founded  Min_Salary($K)  \\\n",
       "Size                                                               \n",
       "10000+ employees         3.633067      90.686649       52.141333   \n",
       "201 to 500 employees     3.667886      24.837321       53.602410   \n",
       "501 to 1000 employees    3.647867      26.572917       54.526066   \n",
       "51 to 200 employees      4.024495      16.078689       54.340476   \n",
       "1 to 50 employees        3.860764      15.357143       54.858790   \n",
       "1001 to 5000 employees   3.509798      36.654088       54.928161   \n",
       "5001 to 10000 employees  3.636082      50.321839       55.505155   \n",
       "\n",
       "                         Max_Salary($K)  Mean_Salary($K)  \n",
       "Size                                                      \n",
       "10000+ employees              87.773333        69.957333  \n",
       "201 to 500 employees          88.783133        71.192771  \n",
       "501 to 1000 employees         89.450237        71.988152  \n",
       "51 to 200 employees           90.702381        72.521429  \n",
       "1 to 50 employees             90.564841        72.711816  \n",
       "1001 to 5000 employees        90.810345        72.869253  \n",
       "5001 to 10000 employees       92.896907        74.201031  "
      ]
     },
     "execution_count": 34,
     "metadata": {},
     "output_type": "execute_result"
    }
   ],
   "source": [
    "by_size = job_data.groupby('Size').mean()\n",
    "by_size['Mean_Salary($K)'] = (by_size['Min_Salary($K)']+by_size['Max_Salary($K)'])/2\n",
    "by_size.sort_values(by = 'Mean_Salary($K)',ascending = True)"
   ]
  },
  {
   "cell_type": "markdown",
   "metadata": {},
   "source": [
    "We grouped the data by size, and there doesn't seem to be a linear correlation between company size and salary. Therefore, when we do imputation for missing size values later, we can try to impute them with mean or median. In addition, it seems that there is a positive linear correlation between Size and Years Founded. So when we are doing imputation for the missing Years Founded, we can consider grouping by size first and use mean or median of each size group to impute missing Years. "
   ]
  },
  {
   "cell_type": "markdown",
   "metadata": {},
   "source": [
    "#### Location & Headquarters"
   ]
  },
  {
   "cell_type": "code",
   "execution_count": 35,
   "metadata": {
    "scrolled": true
   },
   "outputs": [
    {
     "data": {
      "text/plain": [
       "New York, NY            292\n",
       "Chicago, IL             119\n",
       "San Francisco, CA       112\n",
       "Austin, TX               77\n",
       "Los Angeles, CA          73\n",
       "                       ... \n",
       "Berkeley Heights, NJ      1\n",
       "Alameda, CA               1\n",
       "Henderson, CO             1\n",
       "Beech Grove, IN           1\n",
       "Radnor, PA                1\n",
       "Name: Location, Length: 242, dtype: Int64"
      ]
     },
     "execution_count": 35,
     "metadata": {},
     "output_type": "execute_result"
    }
   ],
   "source": [
    "job_data['Location'].value_counts()"
   ]
  },
  {
   "cell_type": "markdown",
   "metadata": {},
   "source": [
    "We are going to keep only the state names in Location."
   ]
  },
  {
   "cell_type": "code",
   "execution_count": 36,
   "metadata": {},
   "outputs": [
    {
     "data": {
      "text/plain": [
       "CA    582\n",
       "TX    372\n",
       "NY    320\n",
       "IL    153\n",
       "PA    104\n",
       "CO     90\n",
       "AZ     89\n",
       "NC     83\n",
       "NJ     79\n",
       "WA     45\n",
       "VA     44\n",
       "OH     32\n",
       "UT     30\n",
       "FL     24\n",
       "IN     23\n",
       "DE      9\n",
       "GA      4\n",
       "SC      3\n",
       "KS      2\n",
       "Name: Location, dtype: int64"
      ]
     },
     "execution_count": 36,
     "metadata": {},
     "output_type": "execute_result"
    }
   ],
   "source": [
    "# Keeping only the state names in location\n",
    "job_data['Location'] = job_data['Location'].apply(lambda x: x.split(', ')[-1])\n",
    "job_data['Location'].value_counts()"
   ]
  },
  {
   "cell_type": "code",
   "execution_count": 37,
   "metadata": {},
   "outputs": [
    {
     "data": {
      "text/plain": [
       "482"
      ]
     },
     "execution_count": 37,
     "metadata": {},
     "output_type": "execute_result"
    }
   ],
   "source": [
    "job_data['Headquarters'].nunique()"
   ]
  },
  {
   "cell_type": "markdown",
   "metadata": {},
   "source": [
    "Same with what we did with Location, we are going to keep only the state names in Headquaters. Then we will transform the feature Headquarters to a new feature named 'HQ_Same', which contains only 0 and 1.(1 if the headquaster is in the same state  as the job location, and 0 if headquaster state is different from the job location state.)"
   ]
  },
  {
   "cell_type": "code",
   "execution_count": 38,
   "metadata": {},
   "outputs": [],
   "source": [
    "# Keeping only the state names in location\n",
    "job_data['Headquarters'] = job_data[~job_data['Headquarters'].isna()]['Headquarters'].apply(lambda x: x.split(', ')[-1])"
   ]
  },
  {
   "cell_type": "code",
   "execution_count": 39,
   "metadata": {},
   "outputs": [
    {
     "data": {
      "text/plain": [
       "0    1142\n",
       "1     946\n",
       "Name: HQ_Same, dtype: int64"
      ]
     },
     "execution_count": 39,
     "metadata": {},
     "output_type": "execute_result"
    }
   ],
   "source": [
    "# Create 'HQ_Same'\n",
    "job_data['HQ_Same'] = job_data.apply(lambda x: 1 if x.Location == x.Headquarters else 0,axis =1)\n",
    "job_data.drop('Headquarters',axis=1,inplace = True)\n",
    "job_data['HQ_Same'].value_counts()"
   ]
  },
  {
   "cell_type": "markdown",
   "metadata": {},
   "source": [
    "#### Job Description -- Skills: Python, SQL, R, Excel, SAS, Tableau"
   ]
  },
  {
   "cell_type": "markdown",
   "metadata": {},
   "source": [
    "Using the column Job Description, we can find out some top technical skills that are required for data analysts."
   ]
  },
  {
   "cell_type": "code",
   "execution_count": 40,
   "metadata": {},
   "outputs": [],
   "source": [
    "# Removing punctuations '\\n' in entries in 'Job Description'  \n",
    "job_data['Job Description'] = job_data['Job Description'].apply(lambda x: re.sub(r'[^\\w\\s]', '', x)).replace('\\n', ' ')\n",
    "# Split strings in 'Job Description'\n",
    "job_data['Job Description'] = job_data['Job Description'].str.upper().str.split()"
   ]
  },
  {
   "cell_type": "markdown",
   "metadata": {},
   "source": [
    "To define a fair skill set, we need to find out what technical skills got mentions the most in job descriptions. By collecting infomation about skills that a data analyst should have from online resourses, we have our first broader skill set defined. Later, we will see which of them occur in our data the most, and we will pick the top skills to use in our analysis."
   ]
  },
  {
   "cell_type": "code",
   "execution_count": 41,
   "metadata": {},
   "outputs": [],
   "source": [
    "# Define possible technical skills required for Data Analysts\n",
    "possible_skills = ['Python','R','SQL','Hadoop','Java','SAS','Matlab','Spark','Hive','Tableau','Excel','Spreadsheet',\n",
    "                  'Spreadsheets','SPSS','C++','C','JavaScript','Ruby','Pig']"
   ]
  },
  {
   "cell_type": "code",
   "execution_count": 42,
   "metadata": {},
   "outputs": [
    {
     "data": {
      "text/plain": [
       "{'Python': 564,\n",
       " 'R': 366,\n",
       " 'SQL': 1228,\n",
       " 'Hadoop': 118,\n",
       " 'Java': 80,\n",
       " 'SAS': 308,\n",
       " 'Matlab': 24,\n",
       " 'Spark': 64,\n",
       " 'Hive': 67,\n",
       " 'Tableau': 561,\n",
       " 'Excel': 823,\n",
       " 'Spreadsheet': 34,\n",
       " 'Spreadsheets': 48,\n",
       " 'SPSS': 145,\n",
       " 'C++': 0,\n",
       " 'C': 70,\n",
       " 'JavaScript': 118,\n",
       " 'Ruby': 10,\n",
       " 'Pig': 10}"
      ]
     },
     "execution_count": 42,
     "metadata": {},
     "output_type": "execute_result"
    }
   ],
   "source": [
    "def has_skill(words_list, skill):\n",
    "    skill = skill.upper()\n",
    "    if skill in words_list:\n",
    "        return True\n",
    "    else:\n",
    "        return False\n",
    "                \n",
    "frequency = {}\n",
    "for skill in possible_skills:\n",
    "    frequency[skill] = job_data['Job Description'].apply(lambda x: has_skill(x, skill)).sum()\n",
    "\n",
    "frequency "
   ]
  },
  {
   "cell_type": "markdown",
   "metadata": {},
   "source": [
    "Seems like SQL, Excel, Python, Tableau, R, and SAS are the top skills that the employers are looking for. So we can refine out skill set to one that only contains the hottest skills."
   ]
  },
  {
   "cell_type": "code",
   "execution_count": 43,
   "metadata": {},
   "outputs": [],
   "source": [
    "top_skills = ['SQL','Excel','Python','Tableau','R','SAS']"
   ]
  },
  {
   "cell_type": "code",
   "execution_count": 44,
   "metadata": {},
   "outputs": [],
   "source": [
    "for skill in top_skills:\n",
    "    job_data[skill] = job_data['Job Description'].apply(lambda x: has_skill(x, skill)).astype(int)"
   ]
  },
  {
   "cell_type": "code",
   "execution_count": 45,
   "metadata": {},
   "outputs": [
    {
     "data": {
      "text/html": [
       "<div>\n",
       "<style scoped>\n",
       "    .dataframe tbody tr th:only-of-type {\n",
       "        vertical-align: middle;\n",
       "    }\n",
       "\n",
       "    .dataframe tbody tr th {\n",
       "        vertical-align: top;\n",
       "    }\n",
       "\n",
       "    .dataframe thead th {\n",
       "        text-align: right;\n",
       "    }\n",
       "</style>\n",
       "<table border=\"1\" class=\"dataframe\">\n",
       "  <thead>\n",
       "    <tr style=\"text-align: right;\">\n",
       "      <th></th>\n",
       "      <th>Job Description</th>\n",
       "      <th>Rating</th>\n",
       "      <th>Company Name</th>\n",
       "      <th>Location</th>\n",
       "      <th>Size</th>\n",
       "      <th>Type of ownership</th>\n",
       "      <th>Industry</th>\n",
       "      <th>Sector</th>\n",
       "      <th>Revenue</th>\n",
       "      <th>Years Founded</th>\n",
       "      <th>Min_Salary($K)</th>\n",
       "      <th>Max_Salary($K)</th>\n",
       "      <th>Seniority</th>\n",
       "      <th>HQ_Same</th>\n",
       "      <th>SQL</th>\n",
       "      <th>Excel</th>\n",
       "      <th>Python</th>\n",
       "      <th>Tableau</th>\n",
       "      <th>R</th>\n",
       "      <th>SAS</th>\n",
       "    </tr>\n",
       "  </thead>\n",
       "  <tbody>\n",
       "    <tr>\n",
       "      <th>0</th>\n",
       "      <td>[ARE, YOU, EAGER, TO, ROLL, UP, YOUR, SLEEVES,...</td>\n",
       "      <td>3.2</td>\n",
       "      <td>Vera Institute of Justice</td>\n",
       "      <td>NY</td>\n",
       "      <td>201 to 500 employees</td>\n",
       "      <td>Nonprofit Organization</td>\n",
       "      <td>Social Assistance</td>\n",
       "      <td>Non-Profit</td>\n",
       "      <td>$100 to $500 million (USD)</td>\n",
       "      <td>59.0</td>\n",
       "      <td>37</td>\n",
       "      <td>66</td>\n",
       "      <td>N/A</td>\n",
       "      <td>1</td>\n",
       "      <td>1</td>\n",
       "      <td>0</td>\n",
       "      <td>1</td>\n",
       "      <td>0</td>\n",
       "      <td>1</td>\n",
       "      <td>0</td>\n",
       "    </tr>\n",
       "    <tr>\n",
       "      <th>1</th>\n",
       "      <td>[OVERVIEW, PROVIDES, ANALYTICAL, AND, TECHNICA...</td>\n",
       "      <td>3.8</td>\n",
       "      <td>Visiting Nurse Service of New York</td>\n",
       "      <td>NY</td>\n",
       "      <td>10000+ employees</td>\n",
       "      <td>Nonprofit Organization</td>\n",
       "      <td>Health Care Services &amp; Hospitals</td>\n",
       "      <td>Health Care</td>\n",
       "      <td>$2 to $5 billion (USD)</td>\n",
       "      <td>127.0</td>\n",
       "      <td>37</td>\n",
       "      <td>66</td>\n",
       "      <td>N/A</td>\n",
       "      <td>1</td>\n",
       "      <td>1</td>\n",
       "      <td>1</td>\n",
       "      <td>0</td>\n",
       "      <td>0</td>\n",
       "      <td>1</td>\n",
       "      <td>1</td>\n",
       "    </tr>\n",
       "    <tr>\n",
       "      <th>2</th>\n",
       "      <td>[WERE, LOOKING, FOR, A, SENIOR, DATA, ANALYST,...</td>\n",
       "      <td>3.4</td>\n",
       "      <td>Squarespace</td>\n",
       "      <td>NY</td>\n",
       "      <td>1001 to 5000 employees</td>\n",
       "      <td>Company - Private</td>\n",
       "      <td>Internet</td>\n",
       "      <td>Information Technology</td>\n",
       "      <td>&lt;NA&gt;</td>\n",
       "      <td>17.0</td>\n",
       "      <td>37</td>\n",
       "      <td>66</td>\n",
       "      <td>Senior</td>\n",
       "      <td>1</td>\n",
       "      <td>1</td>\n",
       "      <td>1</td>\n",
       "      <td>0</td>\n",
       "      <td>1</td>\n",
       "      <td>0</td>\n",
       "      <td>0</td>\n",
       "    </tr>\n",
       "    <tr>\n",
       "      <th>3</th>\n",
       "      <td>[REQUISITION, NUMBERRR0001939, REMOTEYES, WE, ...</td>\n",
       "      <td>4.1</td>\n",
       "      <td>Celerity</td>\n",
       "      <td>NY</td>\n",
       "      <td>201 to 500 employees</td>\n",
       "      <td>Subsidiary or Business Segment</td>\n",
       "      <td>IT Services</td>\n",
       "      <td>Information Technology</td>\n",
       "      <td>$50 to $100 million (USD)</td>\n",
       "      <td>18.0</td>\n",
       "      <td>37</td>\n",
       "      <td>66</td>\n",
       "      <td>N/A</td>\n",
       "      <td>0</td>\n",
       "      <td>1</td>\n",
       "      <td>0</td>\n",
       "      <td>0</td>\n",
       "      <td>1</td>\n",
       "      <td>0</td>\n",
       "      <td>0</td>\n",
       "    </tr>\n",
       "    <tr>\n",
       "      <th>4</th>\n",
       "      <td>[ABOUT, FANDUEL, GROUP, FANDUEL, GROUP, IS, A,...</td>\n",
       "      <td>3.9</td>\n",
       "      <td>FanDuel</td>\n",
       "      <td>NY</td>\n",
       "      <td>501 to 1000 employees</td>\n",
       "      <td>Company - Private</td>\n",
       "      <td>Sports &amp; Recreation</td>\n",
       "      <td>Arts, Entertainment &amp; Recreation</td>\n",
       "      <td>$100 to $500 million (USD)</td>\n",
       "      <td>11.0</td>\n",
       "      <td>37</td>\n",
       "      <td>66</td>\n",
       "      <td>N/A</td>\n",
       "      <td>1</td>\n",
       "      <td>1</td>\n",
       "      <td>1</td>\n",
       "      <td>1</td>\n",
       "      <td>0</td>\n",
       "      <td>0</td>\n",
       "      <td>0</td>\n",
       "    </tr>\n",
       "  </tbody>\n",
       "</table>\n",
       "</div>"
      ],
      "text/plain": [
       "                                     Job Description  Rating  \\\n",
       "0  [ARE, YOU, EAGER, TO, ROLL, UP, YOUR, SLEEVES,...     3.2   \n",
       "1  [OVERVIEW, PROVIDES, ANALYTICAL, AND, TECHNICA...     3.8   \n",
       "2  [WERE, LOOKING, FOR, A, SENIOR, DATA, ANALYST,...     3.4   \n",
       "3  [REQUISITION, NUMBERRR0001939, REMOTEYES, WE, ...     4.1   \n",
       "4  [ABOUT, FANDUEL, GROUP, FANDUEL, GROUP, IS, A,...     3.9   \n",
       "\n",
       "                         Company Name Location                    Size  \\\n",
       "0           Vera Institute of Justice       NY    201 to 500 employees   \n",
       "1  Visiting Nurse Service of New York       NY        10000+ employees   \n",
       "2                         Squarespace       NY  1001 to 5000 employees   \n",
       "3                            Celerity       NY    201 to 500 employees   \n",
       "4                             FanDuel       NY   501 to 1000 employees   \n",
       "\n",
       "                Type of ownership                          Industry  \\\n",
       "0          Nonprofit Organization                 Social Assistance   \n",
       "1          Nonprofit Organization  Health Care Services & Hospitals   \n",
       "2               Company - Private                          Internet   \n",
       "3  Subsidiary or Business Segment                       IT Services   \n",
       "4               Company - Private               Sports & Recreation   \n",
       "\n",
       "                             Sector                     Revenue  \\\n",
       "0                        Non-Profit  $100 to $500 million (USD)   \n",
       "1                       Health Care      $2 to $5 billion (USD)   \n",
       "2            Information Technology                        <NA>   \n",
       "3            Information Technology   $50 to $100 million (USD)   \n",
       "4  Arts, Entertainment & Recreation  $100 to $500 million (USD)   \n",
       "\n",
       "   Years Founded  Min_Salary($K)  Max_Salary($K) Seniority  HQ_Same  SQL  \\\n",
       "0           59.0              37              66       N/A        1    1   \n",
       "1          127.0              37              66       N/A        1    1   \n",
       "2           17.0              37              66    Senior        1    1   \n",
       "3           18.0              37              66       N/A        0    1   \n",
       "4           11.0              37              66       N/A        1    1   \n",
       "\n",
       "   Excel  Python  Tableau  R  SAS  \n",
       "0      0       1        0  1    0  \n",
       "1      1       0        0  1    1  \n",
       "2      1       0        1  0    0  \n",
       "3      0       0        1  0    0  \n",
       "4      1       1        0  0    0  "
      ]
     },
     "execution_count": 45,
     "metadata": {},
     "output_type": "execute_result"
    }
   ],
   "source": [
    "job_data.head()"
   ]
  },
  {
   "cell_type": "markdown",
   "metadata": {},
   "source": [
    "Now we have added 6 new columns: SQL, Excel, Python, Tableau, R, and SAS."
   ]
  },
  {
   "cell_type": "markdown",
   "metadata": {},
   "source": [
    "#### Distributions of Feature Values"
   ]
  },
  {
   "cell_type": "code",
   "execution_count": 46,
   "metadata": {},
   "outputs": [
    {
     "data": {
      "image/png": "[encoded data removed]",
      "text/plain": [
       "<Figure size 1080x720 with 12 Axes>"
      ]
     },
     "metadata": {
      "needs_background": "light"
     },
     "output_type": "display_data"
    }
   ],
   "source": [
    "job_data.hist(figsize=(15,10))\n",
    "plt.subplots_adjust(hspace=0.5)"
   ]
  },
  {
   "cell_type": "markdown",
   "metadata": {},
   "source": [
    "#### Check For Outliers"
   ]
  },
  {
   "cell_type": "markdown",
   "metadata": {},
   "source": [
    "We see that most companies have 0-240 years of history, and so we want to look into those with the longest length of history to see if the the Years Founded was recorded correctly. "
   ]
  },
  {
   "cell_type": "code",
   "execution_count": 47,
   "metadata": {},
   "outputs": [
    {
     "data": {
      "text/html": [
       "<div>\n",
       "<style scoped>\n",
       "    .dataframe tbody tr th:only-of-type {\n",
       "        vertical-align: middle;\n",
       "    }\n",
       "\n",
       "    .dataframe tbody tr th {\n",
       "        vertical-align: top;\n",
       "    }\n",
       "\n",
       "    .dataframe thead th {\n",
       "        text-align: right;\n",
       "    }\n",
       "</style>\n",
       "<table border=\"1\" class=\"dataframe\">\n",
       "  <thead>\n",
       "    <tr style=\"text-align: right;\">\n",
       "      <th></th>\n",
       "      <th>Job Description</th>\n",
       "      <th>Rating</th>\n",
       "      <th>Company Name</th>\n",
       "      <th>Location</th>\n",
       "      <th>Size</th>\n",
       "      <th>Type of ownership</th>\n",
       "      <th>Industry</th>\n",
       "      <th>Sector</th>\n",
       "      <th>Revenue</th>\n",
       "      <th>Years Founded</th>\n",
       "      <th>Min_Salary($K)</th>\n",
       "      <th>Max_Salary($K)</th>\n",
       "      <th>Seniority</th>\n",
       "      <th>HQ_Same</th>\n",
       "      <th>SQL</th>\n",
       "      <th>Excel</th>\n",
       "      <th>Python</th>\n",
       "      <th>Tableau</th>\n",
       "      <th>R</th>\n",
       "      <th>SAS</th>\n",
       "    </tr>\n",
       "  </thead>\n",
       "  <tbody>\n",
       "    <tr>\n",
       "      <th>1845</th>\n",
       "      <td>[ROLE, PROFILE, DATA, QUALITY, ANALYTICS, IS, ...</td>\n",
       "      <td>3.2</td>\n",
       "      <td>London Stock Exchange Group</td>\n",
       "      <td>NC</td>\n",
       "      <td>1001 to 5000 employees</td>\n",
       "      <td>Company - Public</td>\n",
       "      <td>Stock Exchanges</td>\n",
       "      <td>Finance</td>\n",
       "      <td>$50 to $100 million (USD)</td>\n",
       "      <td>322.0</td>\n",
       "      <td>54</td>\n",
       "      <td>75</td>\n",
       "      <td>N/A</td>\n",
       "      <td>0</td>\n",
       "      <td>0</td>\n",
       "      <td>0</td>\n",
       "      <td>0</td>\n",
       "      <td>0</td>\n",
       "      <td>0</td>\n",
       "      <td>0</td>\n",
       "    </tr>\n",
       "    <tr>\n",
       "      <th>2023</th>\n",
       "      <td>[AND, INCREASING, PRIVATE, PHILANTHROPY, UDAR,...</td>\n",
       "      <td>4.1</td>\n",
       "      <td>University of California Berkeley</td>\n",
       "      <td>CA</td>\n",
       "      <td>10000+ employees</td>\n",
       "      <td>College / University</td>\n",
       "      <td>Colleges &amp; Universities</td>\n",
       "      <td>Education</td>\n",
       "      <td>$500 million to $1 billion (USD)</td>\n",
       "      <td>338.0</td>\n",
       "      <td>65</td>\n",
       "      <td>120</td>\n",
       "      <td>N/A</td>\n",
       "      <td>1</td>\n",
       "      <td>0</td>\n",
       "      <td>0</td>\n",
       "      <td>0</td>\n",
       "      <td>1</td>\n",
       "      <td>0</td>\n",
       "      <td>0</td>\n",
       "    </tr>\n",
       "  </tbody>\n",
       "</table>\n",
       "</div>"
      ],
      "text/plain": [
       "                                        Job Description  Rating  \\\n",
       "1845  [ROLE, PROFILE, DATA, QUALITY, ANALYTICS, IS, ...     3.2   \n",
       "2023  [AND, INCREASING, PRIVATE, PHILANTHROPY, UDAR,...     4.1   \n",
       "\n",
       "                           Company Name Location                    Size  \\\n",
       "1845        London Stock Exchange Group       NC  1001 to 5000 employees   \n",
       "2023  University of California Berkeley       CA        10000+ employees   \n",
       "\n",
       "         Type of ownership                 Industry     Sector  \\\n",
       "1845      Company - Public          Stock Exchanges    Finance   \n",
       "2023  College / University  Colleges & Universities  Education   \n",
       "\n",
       "                               Revenue  Years Founded  Min_Salary($K)  \\\n",
       "1845         $50 to $100 million (USD)          322.0              54   \n",
       "2023  $500 million to $1 billion (USD)          338.0              65   \n",
       "\n",
       "      Max_Salary($K) Seniority  HQ_Same  SQL  Excel  Python  Tableau  R  SAS  \n",
       "1845              75       N/A        0    0      0       0        0  0    0  \n",
       "2023             120       N/A        1    0      0       0        1  0    0  "
      ]
     },
     "execution_count": 47,
     "metadata": {},
     "output_type": "execute_result"
    }
   ],
   "source": [
    "job_data[job_data['Years Founded']>300]"
   ]
  },
  {
   "cell_type": "markdown",
   "metadata": {},
   "source": [
    "After doing some research work, we found that University of California Berkeley was founded in 1868 instead of 1682. We believe that's a record error and decide to correct it."
   ]
  },
  {
   "cell_type": "code",
   "execution_count": 48,
   "metadata": {},
   "outputs": [],
   "source": [
    "# Correct the 'Years Founded' for University of California Berkeley\n",
    "job_data.loc[job_data['Company Name']=='University of California Berkeley','Years Founded'] = today_year - 1868"
   ]
  },
  {
   "cell_type": "markdown",
   "metadata": {},
   "source": [
    "#### Number Of Missing Values By Row"
   ]
  },
  {
   "cell_type": "markdown",
   "metadata": {},
   "source": [
    "Having dropped some rows that contained more than 50% missing values, what degree of missingness do we have for the remaining rows?"
   ]
  },
  {
   "cell_type": "code",
   "execution_count": 49,
   "metadata": {},
   "outputs": [
    {
     "data": {
      "text/html": [
       "<div>\n",
       "<style scoped>\n",
       "    .dataframe tbody tr th:only-of-type {\n",
       "        vertical-align: middle;\n",
       "    }\n",
       "\n",
       "    .dataframe tbody tr th {\n",
       "        vertical-align: top;\n",
       "    }\n",
       "\n",
       "    .dataframe thead th {\n",
       "        text-align: right;\n",
       "    }\n",
       "</style>\n",
       "<table border=\"1\" class=\"dataframe\">\n",
       "  <thead>\n",
       "    <tr style=\"text-align: right;\">\n",
       "      <th></th>\n",
       "      <th>count</th>\n",
       "      <th>%</th>\n",
       "    </tr>\n",
       "  </thead>\n",
       "  <tbody>\n",
       "    <tr>\n",
       "      <th>1680</th>\n",
       "      <td>6</td>\n",
       "      <td>30.0</td>\n",
       "    </tr>\n",
       "    <tr>\n",
       "      <th>1788</th>\n",
       "      <td>6</td>\n",
       "      <td>30.0</td>\n",
       "    </tr>\n",
       "    <tr>\n",
       "      <th>1755</th>\n",
       "      <td>6</td>\n",
       "      <td>30.0</td>\n",
       "    </tr>\n",
       "    <tr>\n",
       "      <th>1995</th>\n",
       "      <td>6</td>\n",
       "      <td>30.0</td>\n",
       "    </tr>\n",
       "    <tr>\n",
       "      <th>1009</th>\n",
       "      <td>6</td>\n",
       "      <td>30.0</td>\n",
       "    </tr>\n",
       "  </tbody>\n",
       "</table>\n",
       "</div>"
      ],
      "text/plain": [
       "      count     %\n",
       "1680      6  30.0\n",
       "1788      6  30.0\n",
       "1755      6  30.0\n",
       "1995      6  30.0\n",
       "1009      6  30.0"
      ]
     },
     "execution_count": 49,
     "metadata": {},
     "output_type": "execute_result"
    }
   ],
   "source": [
    "missing_by_rows = pd.concat([job_data.isnull().sum(axis=1), 100 * job_data.isnull().mean(axis=1)], axis=1)\n",
    "missing_by_rows.columns=['count', '%']\n",
    "missing_by_rows.sort_values(by='count', ascending=False).head()"
   ]
  },
  {
   "cell_type": "code",
   "execution_count": 50,
   "metadata": {},
   "outputs": [
    {
     "data": {
      "text/plain": [
       "0.0     1205\n",
       "5.0      561\n",
       "10.0     117\n",
       "15.0      67\n",
       "20.0      61\n",
       "25.0      50\n",
       "30.0      27\n",
       "Name: %, dtype: int64"
      ]
     },
     "execution_count": 50,
     "metadata": {},
     "output_type": "execute_result"
    }
   ],
   "source": [
    "missing_by_rows['%'].value_counts()"
   ]
  },
  {
   "cell_type": "markdown",
   "metadata": {},
   "source": [
    "Since we don't know how useful the missing features are in predicting salary, we shouldn't just drop rows that are missing several useless features."
   ]
  },
  {
   "cell_type": "code",
   "execution_count": 51,
   "metadata": {},
   "outputs": [
    {
     "name": "stdout",
     "output_type": "stream",
     "text": [
      "<class 'pandas.core.frame.DataFrame'>\n",
      "Int64Index: 2088 entries, 0 to 2252\n",
      "Data columns (total 20 columns):\n",
      " #   Column             Non-Null Count  Dtype  \n",
      "---  ------             --------------  -----  \n",
      " 0   Job Description    2088 non-null   object \n",
      " 1   Rating             1980 non-null   float64\n",
      " 2   Company Name       2088 non-null   object \n",
      " 3   Location           2088 non-null   object \n",
      " 4   Size               2047 non-null   string \n",
      " 5   Type of ownership  2073 non-null   string \n",
      " 6   Industry           1899 non-null   string \n",
      " 7   Sector             1899 non-null   string \n",
      " 8   Revenue            1474 non-null   string \n",
      " 9   Years Founded      1592 non-null   float64\n",
      " 10  Min_Salary($K)     2088 non-null   int32  \n",
      " 11  Max_Salary($K)     2088 non-null   int32  \n",
      " 12  Seniority          2088 non-null   object \n",
      " 13  HQ_Same            2088 non-null   int64  \n",
      " 14  SQL                2088 non-null   int32  \n",
      " 15  Excel              2088 non-null   int32  \n",
      " 16  Python             2088 non-null   int32  \n",
      " 17  Tableau            2088 non-null   int32  \n",
      " 18  R                  2088 non-null   int32  \n",
      " 19  SAS                2088 non-null   int32  \n",
      "dtypes: float64(2), int32(8), int64(1), object(4), string(5)\n",
      "memory usage: 277.3+ KB\n"
     ]
    }
   ],
   "source": [
    "job_data.info()"
   ]
  },
  {
   "cell_type": "markdown",
   "metadata": {},
   "source": [
    "### Save Data"
   ]
  },
  {
   "cell_type": "code",
   "execution_count": 55,
   "metadata": {},
   "outputs": [],
   "source": [
    "datapath = '../data'\n",
    "if not os.path.exists(datapath):\n",
    "    os.mkdir(datapath)"
   ]
  },
  {
   "cell_type": "code",
   "execution_count": 56,
   "metadata": {},
   "outputs": [],
   "source": [
    "datapath_jobdata = os.path.join(datapath, 'job_data_cleaned.csv')\n",
    "if not os.path.exists(datapath_jobdata):\n",
    "    job_data.to_csv(datapath_jobdata, index=False)"
   ]
  },
  {
   "cell_type": "markdown",
   "metadata": {},
   "source": [
    "### Summary"
   ]
  },
  {
   "cell_type": "markdown",
   "metadata": {},
   "source": [
    "There were initially 2253 rows and 16 columns in the data. Some of the columns contained null data like -1, '-1', -1.0, 'Unknown', and 'Unknown / Non-Applicable', so we changed all those to NaN.\n",
    "\n",
    "<br>We've made changed to the following columns:\n",
    "<ul> \n",
    "    <li>Removed 'Unnamed: 0' because it was useless.</li>\n",
    "    <li>Removed 'Easy Apply' and 'Competitors' because they contain more than 50% of missing values. </li>\n",
    "    <li>Transformed 'Founded' to 'Years Founded'.</li>\n",
    "    <li>Split 'Salary Estimate' to 'Min_Salary' and 'Max Salary'.</li>\n",
    "    <li>Cleaned the column 'Company Name'.</li>\n",
    "    <li>Transformed 'Job Title' to 'Seniority'.</li>\n",
    "    <li>Removed city names from 'Location' and transformed 'Headquarters' to 'HQ_Same'.</li>\n",
    "    <li>Added features 'Python', 'SQL', 'R', 'Excel', 'SAS', and 'Tableau' since those are the most popular technical skills that we found from 'Job Description'.</li>    \n",
    "</ul>\n",
    "<br>Among all the features we have left, 'Revenue' and 'Founded' have maximum number of missing values, which are 29% and 24%, respectively. We'll need to find a way to impute those values later.  It's worth noting that there seems to be a positive linear correlation between 'Size' and 'Years Founded', so when we are doing imputation for the missing Years Founded, we can consider grouping by size first and use mean or median of each size group to impute missing years.\n",
    "\n",
    "<br>We've also dropped: \n",
    "<ul> \n",
    "    <li>164 rows that contain more than 50% of missing values (at the beginning).</li>\n",
    "    <li>1 row that has missing salary infomation.</li>\n",
    "</ul>\n",
    "<br> We also corrected the Years Founded of University of California Berkeley.\n",
    "<br> At this point, we have 2088 rows and 20 columns left in our cleaned data."
   ]
  }
 ],
 "metadata": {
  "kernelspec": {
   "display_name": "Python 3",
   "language": "python",
   "name": "python3"
  },
  "language_info": {
   "codemirror_mode": {
    "name": "ipython",
    "version": 3
   },
   "file_extension": ".py",
   "mimetype": "text/x-python",
   "name": "python",
   "nbconvert_exporter": "python",
   "pygments_lexer": "ipython3",
   "version": "3.8.3"
  }
 },
 "nbformat": 4,
 "nbformat_minor": 4
}
